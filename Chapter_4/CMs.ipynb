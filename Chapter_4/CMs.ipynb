{
  "cells": [
    {
      "cell_type": "markdown",
      "metadata": {
        "id": "view-in-github",
        "colab_type": "text"
      },
      "source": [
        "<a href=\"https://colab.research.google.com/github/ChemRacer/molecular_representation_examples/blob/main/Chapter_4/CMs.ipynb\" target=\"_parent\"><img src=\"https://colab.research.google.com/assets/colab-badge.svg\" alt=\"Open In Colab\"/></a>"
      ]
    },
    {
      "cell_type": "code",
      "execution_count": null,
      "id": "04d5a05b-596c-4540-9cd7-ade15356f950",
      "metadata": {
        "id": "04d5a05b-596c-4540-9cd7-ade15356f950"
      },
      "outputs": [],
      "source": [
        "from google.colab import drive\n",
        "drive.mount('/content/drive')\n",
        "%cd /content/drive/MyDrive/Colab Notebooks/Molecular_representations/molecular_representation_examples/Chapter_4"
      ]
    },
    {
      "cell_type": "code",
      "source": [
        "!pip install seaborn pandas matplotlib dscribe ase\n",
        "path_to_structure='/content/drive/MyDrive/Colab Notebooks/Molecular_representations/molecular_representation_examples/example_structures/glycidol.xyz'"
      ],
      "metadata": {
        "id": "E3Q0x4T9n3T-"
      },
      "id": "E3Q0x4T9n3T-",
      "execution_count": null,
      "outputs": []
    },
    {
      "cell_type": "code",
      "execution_count": null,
      "id": "678f4f34-51fe-4cd8-9ec2-5cbdc8a3355b",
      "metadata": {
        "id": "678f4f34-51fe-4cd8-9ec2-5cbdc8a3355b"
      },
      "outputs": [],
      "source": [
        "# An example of how to generate a Coulomb matrices (CM)\n",
        "# for glycidol using DScribe and Atomic Simulation Environment (ASE)\n",
        "# \n",
        "import pandas as pd\n",
        "import seaborn as sns\n",
        "import numpy as np\n",
        "import matplotlib.pyplot as plt\n",
        "from dscribe.descriptors import CoulombMatrix\n",
        "from ase.build import molecule\n",
        "from ase.io import read\n",
        "# This code block shows the default parameters for generating CMs \n",
        "# in DScribe. By default, a sorted CM is generate with L2-norm \n",
        "# sorted rows and columns. n_atoms_max is a parameter that helps\n",
        "# with padding, for one molecule it is the number of atoms in \n",
        "# the molecule.\n",
        "print('Sorted CM')\n",
        "cm = CoulombMatrix(n_atoms_max=11)\n",
        "\n",
        "# Generate the ethanol molecule using ASE\n",
        "\n",
        "mol = read(path_to_structure)\n",
        "print(type(mol))\n",
        "\n",
        "# Create CM output for the system\n",
        "cm_mol = cm.create(mol)\n",
        "\n",
        "# Print the sorted CM and it's corresponding shape\n",
        "print(\"Flattened shape of the sorted CM\", cm_mol.shape)\n",
        "print(cm_mol)\n",
        "\n",
        "# Set the parameters, sigma and seed, of the unsorted CM\n",
        "print('\\nUnsorted CM')\n",
        "cm_unsrtd=CoulombMatrix(n_atoms_max=11,permutation='none')\n",
        "\n",
        "# Generate the unsorted CM for mol\n",
        "cm_unsrtd_mol = cm_unsrtd.create(mol)\n",
        "\n",
        "# Print the unsorted CM and it's corresponding shape\n",
        "print(\"Flattened shape of the unsorted CM\", cm_unsrtd_mol.shape)\n",
        "print(cm_unsrtd_mol)\n",
        "\n",
        "# Set the parameters of the eigenspectrum representation\n",
        "print('\\nEigenspectrum')\n",
        "cm_eigen=CoulombMatrix(n_atoms_max=11,permutation='eigenspectrum')\n",
        "\n",
        "# Generate the eigenspectrum representation of the CM\n",
        "cm_eigen_mol = cm_eigen.create(mol)\n",
        "\n",
        "# Print the eigenspectrum and it's corresponding shape\n",
        "print(\"Flattened shape of the eigenspectrum\", cm_eigen_mol.shape)\n",
        "print(cm_eigen_mol)\n",
        "\n",
        "# Set the parameters, sigma and seed, of the randomly sorted CM\n",
        "# Examine how sigma effects the sorting of the randomly sorted CM\n",
        "print('\\nRandomly sorted CM')\n",
        "cm_random=CoulombMatrix(n_atoms_max=11,permutation='random',\n",
        "                        sigma=1e-3,seed=42)\n",
        "\n",
        "# Generate the randomly sorted CM for mol\n",
        "cm_random_mol = cm_random.create(mol)\n",
        "\n",
        "# Print the randomly sorted CM and it's corresponding shape\n",
        "print(\"Flattened shape of the randomly sorted CM\", \n",
        "      cm_random_mol.shape)\n",
        "print(cm_random_mol)"
      ]
    },
    {
      "cell_type": "code",
      "execution_count": null,
      "id": "369b144b-0c7d-48d9-ba81-985702bccea3",
      "metadata": {
        "id": "369b144b-0c7d-48d9-ba81-985702bccea3"
      },
      "outputs": [],
      "source": [
        "# Generate the unsorted CM of glycidol using a seaborn heatmap\n",
        "print(mol.get_chemical_symbols())\n",
        "print(\"Double check ordering\", mol)\n",
        "ds_CMdf=pd.DataFrame(cm_unsrtd_mol.reshape(11,11),columns=mol.get_chemical_symbols(),index=mol.get_chemical_symbols())\n",
        "srted_ds_CMdf=ds_CMdf.loc[['O', 'C','H'],['O', 'C','H']]"
      ]
    },
    {
      "cell_type": "code",
      "execution_count": null,
      "id": "ab8db5d0-17b6-41b7-8496-ea0fe597fa7f",
      "metadata": {
        "id": "ab8db5d0-17b6-41b7-8496-ea0fe597fa7f"
      },
      "outputs": [],
      "source": [
        "srted_ds_CMdf"
      ]
    },
    {
      "cell_type": "code",
      "execution_count": null,
      "id": "d985b1d5-2bc4-4eda-b394-e080f7f573e9",
      "metadata": {
        "id": "d985b1d5-2bc4-4eda-b394-e080f7f573e9"
      },
      "outputs": [],
      "source": [
        "cm_1 = srted_ds_CMdf.to_numpy().reshape(11,11)\n",
        "row_norm = np.array(sorted([(np.linalg.norm(i),idx) for idx,i in enumerate(cm_1)],reverse=True))[:,1].astype(int)\n",
        "column_norm = np.array(sorted([(np.linalg.norm(i),idx) for idx,i in enumerate(cm_1[row_norm].T)],reverse=True))[:,1].astype(int)\n",
        "mysrt=cm_1[row_norm][column_norm]"
      ]
    },
    {
      "cell_type": "code",
      "execution_count": null,
      "id": "715ce971-3b0e-4b83-b499-d477d488f070",
      "metadata": {
        "id": "715ce971-3b0e-4b83-b499-d477d488f070"
      },
      "outputs": [],
      "source": []
    },
    {
      "cell_type": "code",
      "execution_count": null,
      "id": "2cd542b7-c7a4-42d3-8f03-656e4e68b692",
      "metadata": {
        "id": "2cd542b7-c7a4-42d3-8f03-656e4e68b692"
      },
      "outputs": [],
      "source": [
        "mysrt == cm_mol.reshape(11,11)"
      ]
    },
    {
      "cell_type": "code",
      "execution_count": null,
      "id": "2047e19a-4ddd-49d3-88b0-c60c1709e045",
      "metadata": {
        "id": "2047e19a-4ddd-49d3-88b0-c60c1709e045"
      },
      "outputs": [],
      "source": [
        "srted_ds_CMdf.to_numpy()==mysrt"
      ]
    },
    {
      "cell_type": "code",
      "execution_count": null,
      "id": "cc3b5872-b908-481c-9364-13cf815849d3",
      "metadata": {
        "id": "cc3b5872-b908-481c-9364-13cf815849d3"
      },
      "outputs": [],
      "source": [
        "plt.figure(figsize=(5,5),dpi=300)\n",
        "sns.heatmap(srted_ds_CMdf,cmap=sns.cm.rocket_r,cbar=False,square=True,annot=True, fmt='.2f',linewidths=0.1, annot_kws={'fontsize':8})\n",
        "plt.tight_layout()\n",
        "plt.savefig('glycidol_CM.png',dpi=300)\n",
        "plt.savefig('glycidol_CM.svg',dpi=300)\n",
        "plt.show()"
      ]
    },
    {
      "cell_type": "code",
      "execution_count": null,
      "id": "4ac5967a-966d-4df9-8fd2-13a1190469ba",
      "metadata": {
        "id": "4ac5967a-966d-4df9-8fd2-13a1190469ba"
      },
      "outputs": [],
      "source": []
    },
    {
      "cell_type": "code",
      "execution_count": null,
      "id": "16d620c8-a94b-4f6c-9a03-cf040646c76f",
      "metadata": {
        "id": "16d620c8-a94b-4f6c-9a03-cf040646c76f"
      },
      "outputs": [],
      "source": [
        "# Getting the Upper Triangle of the co-relation matrix\n",
        "\n",
        "\n",
        "\n",
        "plt.figure(figsize=(5,5),dpi=300)\n",
        "\n",
        "# Create a mask\n",
        "mask = np.tril(np.ones_like(srted_ds_CMdf, dtype=bool))\n",
        "np.fill_diagonal(mask, True)\n",
        "\n",
        "\n",
        "sns.heatmap(srted_ds_CMdf, mask=mask,cmap=sns.cm.rocket_r,cbar=False,square=True,annot=True, fmt='.2f',linewidths=0.1, annot_kws={'fontsize':8})\n",
        "plt.tight_layout()"
      ]
    },
    {
      "cell_type": "code",
      "execution_count": null,
      "id": "7b089894-3117-4105-b110-e798d9f9de10",
      "metadata": {
        "id": "7b089894-3117-4105-b110-e798d9f9de10"
      },
      "outputs": [],
      "source": [
        "(len(mol.get_atomic_numbers())*(len(mol.get_atomic_numbers())+1))/2"
      ]
    },
    {
      "cell_type": "code",
      "execution_count": null,
      "id": "c7988cbd-ee52-46be-9a6d-600ff6560c09",
      "metadata": {
        "id": "c7988cbd-ee52-46be-9a6d-600ff6560c09"
      },
      "outputs": [],
      "source": [
        "cm_unsrtd_mol.reshape(11,11)"
      ]
    },
    {
      "cell_type": "code",
      "execution_count": null,
      "id": "d9cde1a0-9e3f-4b21-a71f-6fcfaa3bda8b",
      "metadata": {
        "id": "d9cde1a0-9e3f-4b21-a71f-6fcfaa3bda8b"
      },
      "outputs": [],
      "source": [
        "idx = 0\n",
        "for idi, Zi in enumerate(mol.get_atomic_numbers()):\n",
        "    for idj, Zj in enumerate(mol.get_atomic_numbers()):\n",
        "        if idi != idj:\n",
        "            dist = mol.get_all_distances()\n",
        "            my_cm = (Zi*Zj)/dist[idi,idj]\n",
        "            if Zi==6 and Zj==8:\n",
        "                print(my_cm,dist[idi,idj])\n",
        "        else:\n",
        "            my_cm = 0.5 * Zi**2.4\n",
        "        # print(my_cm==cm_unsrtd_mol[idx])\n",
        "        idx+=1"
      ]
    },
    {
      "cell_type": "code",
      "execution_count": null,
      "id": "996a6489-f311-4d34-b0f7-2b9490e4bfbc",
      "metadata": {
        "id": "996a6489-f311-4d34-b0f7-2b9490e4bfbc"
      },
      "outputs": [],
      "source": []
    }
  ],
  "metadata": {
    "kernelspec": {
      "display_name": "molecular_representation",
      "language": "python",
      "name": "molecular_representation"
    },
    "language_info": {
      "codemirror_mode": {
        "name": "ipython",
        "version": 3
      },
      "file_extension": ".py",
      "mimetype": "text/x-python",
      "name": "python",
      "nbconvert_exporter": "python",
      "pygments_lexer": "ipython3",
      "version": "3.8.14"
    },
    "colab": {
      "private_outputs": true,
      "provenance": [],
      "include_colab_link": true
    },
    "gpuClass": "standard"
  },
  "nbformat": 4,
  "nbformat_minor": 5
}