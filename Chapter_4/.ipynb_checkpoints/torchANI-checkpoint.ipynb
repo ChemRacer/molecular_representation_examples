{
 "cells": [
  {
   "cell_type": "code",
   "execution_count": 1,
   "id": "8ecb51c3-778d-4b80-8991-bc27a309c27c",
   "metadata": {},
   "outputs": [
    {
     "ename": "ModuleNotFoundError",
     "evalue": "No module named 'torchani.ase.ase'; 'torchani.ase' is not a package",
     "output_type": "error",
     "traceback": [
      "\u001b[0;31m---------------------------------------------------------------------------\u001b[0m",
      "\u001b[0;31mModuleNotFoundError\u001b[0m                       Traceback (most recent call last)",
      "Input \u001b[0;32mIn [1]\u001b[0m, in \u001b[0;36m<cell line: 2>\u001b[0;34m()\u001b[0m\n\u001b[1;32m      1\u001b[0m \u001b[38;5;28;01mimport\u001b[39;00m \u001b[38;5;21;01mtorchani\u001b[39;00m\n\u001b[0;32m----> 2\u001b[0m \u001b[38;5;28;01mimport\u001b[39;00m \u001b[38;5;21;01mtorchani\u001b[39;00m\u001b[38;5;21;01m.\u001b[39;00m\u001b[38;5;21;01mase\u001b[39;00m\u001b[38;5;21;01m.\u001b[39;00m\u001b[38;5;21;01mase\u001b[39;00m\u001b[38;5;21;01m.\u001b[39;00m\u001b[38;5;21;01mio\u001b[39;00m\u001b[38;5;21;01m.\u001b[39;00m\u001b[38;5;21;01mread\u001b[39;00m \u001b[38;5;28;01mas\u001b[39;00m \u001b[38;5;21;01mread\u001b[39;00m\n\u001b[1;32m      4\u001b[0m \u001b[38;5;66;03m# Import the glycidol xyz \u001b[39;00m\n\u001b[1;32m      5\u001b[0m mol \u001b[38;5;241m=\u001b[39m read(\u001b[38;5;124m'\u001b[39m\u001b[38;5;124m../glycidol.xyz\u001b[39m\u001b[38;5;124m'\u001b[39m)\n",
      "\u001b[0;31mModuleNotFoundError\u001b[0m: No module named 'torchani.ase.ase'; 'torchani.ase' is not a package"
     ]
    }
   ],
   "source": [
    "import torchani\n",
    "import torchani.ase.ase.io.read as read\n",
    "\n",
    "# Import the glycidol xyz \n",
    "mol = read('../glycidol.xyz')\n",
    "print(type(mol))\n"
   ]
  },
  {
   "cell_type": "code",
   "execution_count": null,
   "id": "6ed14769-c10c-4358-9459-8f70ece9bd43",
   "metadata": {},
   "outputs": [],
   "source": [
    "help(torchani.ase.read)"
   ]
  },
  {
   "cell_type": "code",
   "execution_count": 5,
   "id": "1d50fca4-95de-49c1-8e02-9d35c399247f",
   "metadata": {},
   "outputs": [
    {
     "ename": "ModuleNotFoundError",
     "evalue": "No module named 'torchani.ase.ase'; 'torchani.ase' is not a package",
     "output_type": "error",
     "traceback": [
      "\u001b[0;31m---------------------------------------------------------------------------\u001b[0m",
      "\u001b[0;31mModuleNotFoundError\u001b[0m                       Traceback (most recent call last)",
      "Input \u001b[0;32mIn [5]\u001b[0m, in \u001b[0;36m<cell line: 1>\u001b[0;34m()\u001b[0m\n\u001b[0;32m----> 1\u001b[0m \u001b[38;5;28;01mfrom\u001b[39;00m \u001b[38;5;21;01mtorchani\u001b[39;00m\u001b[38;5;21;01m.\u001b[39;00m\u001b[38;5;21;01mase\u001b[39;00m\u001b[38;5;21;01m.\u001b[39;00m\u001b[38;5;21;01mase\u001b[39;00m \u001b[38;5;28;01mimport\u001b[39;00m read\n",
      "\u001b[0;31mModuleNotFoundError\u001b[0m: No module named 'torchani.ase.ase'; 'torchani.ase' is not a package"
     ]
    }
   ],
   "source": [
    "import "
   ]
  },
  {
   "cell_type": "code",
   "execution_count": 12,
   "id": "21015735-db66-4401-b54c-a752474c6bbe",
   "metadata": {},
   "outputs": [
    {
     "data": {
      "text/plain": [
       "['Calculator',\n",
       " '__builtins__',\n",
       " '__cached__',\n",
       " '__doc__',\n",
       " '__file__',\n",
       " '__loader__',\n",
       " '__name__',\n",
       " '__package__',\n",
       " '__spec__',\n",
       " 'ase',\n",
       " 'torch',\n",
       " 'utils']"
      ]
     },
     "execution_count": 12,
     "metadata": {},
     "output_type": "execute_result"
    }
   ],
   "source": [
    "dir(torchani.ase)"
   ]
  },
  {
   "cell_type": "code",
   "execution_count": null,
   "id": "0dc707a7-b4cf-4af2-a9a0-5107d6eb158c",
   "metadata": {},
   "outputs": [],
   "source": []
  }
 ],
 "metadata": {
  "kernelspec": {
   "display_name": "Python 3 (ipykernel)",
   "language": "python",
   "name": "python3"
  },
  "language_info": {
   "codemirror_mode": {
    "name": "ipython",
    "version": 3
   },
   "file_extension": ".py",
   "mimetype": "text/x-python",
   "name": "python",
   "nbconvert_exporter": "python",
   "pygments_lexer": "ipython3",
   "version": "3.9.13"
  }
 },
 "nbformat": 4,
 "nbformat_minor": 5
}
