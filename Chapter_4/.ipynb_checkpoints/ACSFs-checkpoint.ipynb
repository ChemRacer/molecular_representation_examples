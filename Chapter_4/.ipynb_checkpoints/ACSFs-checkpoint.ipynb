{
 "cells": [
  {
   "cell_type": "code",
   "execution_count": 1,
   "id": "8d18c127-153a-4060-b8fc-c479aa701085",
   "metadata": {},
   "outputs": [
    {
     "name": "stdout",
     "output_type": "stream",
     "text": [
      "<class 'ase.atoms.Atoms'>\n",
      "[[1.9126247  1.3560182  1.132327  ]\n",
      " [3.4269593  1.8334919  0.35821727]\n",
      " [2.932072   2.1970465  1.2161194 ]\n",
      " [4.2221313  1.456573   1.5066223 ]\n",
      " [2.532535   2.3252008  1.3570822 ]\n",
      " [2.69289    2.1151054  1.3620154 ]\n",
      " [4.190916   1.707232   1.525534  ]\n",
      " [2.4139614  2.1603694  0.9345613 ]\n",
      " [3.7205222  1.453383   1.1714139 ]\n",
      " [1.9905473  1.9798298  0.85931504]\n",
      " [3.434461   2.3700783  0.35821727]]\n",
      "Shape of the ACSF feature matrix (11, 3)\n"
     ]
    }
   ],
   "source": [
    "# Example of the atom-centered symmetry functions (ACSFs) \n",
    "# representation of glycidol using DScribe and the Atomic \n",
    "# Simulation Environment (ASE) \n",
    "# \n",
    "from dscribe.descriptors import ACSF\n",
    "from ase.io import read\n",
    "\n",
    "# Import the glycidol xyz \n",
    "mol = read('../glycidol.xyz')\n",
    "print(type(mol))\n",
    "\n",
    "# Set up the ACSF descriptor \n",
    "acsf = ACSF(species=[\"H\", \"O\",\"C\"],rcut=6.0)\n",
    "\n",
    "# Create the glycidol ACSFs\n",
    "acsf_mol = acsf.create(mol)\n",
    "\n",
    "# Print the ACSFs for glycidol and the corresponding shape\n",
    "print(acsf_mol)\n",
    "print('Shape of the ACSF feature matrix',acsf_mol.shape)"
   ]
  },
  {
   "cell_type": "code",
   "execution_count": null,
   "id": "9292ea9d-6b2a-4d50-bf09-c0f96f1a3960",
   "metadata": {},
   "outputs": [],
   "source": []
  }
 ],
 "metadata": {
  "kernelspec": {
   "display_name": "Python 3 (ipykernel)",
   "language": "python",
   "name": "python3"
  },
  "language_info": {
   "codemirror_mode": {
    "name": "ipython",
    "version": 3
   },
   "file_extension": ".py",
   "mimetype": "text/x-python",
   "name": "python",
   "nbconvert_exporter": "python",
   "pygments_lexer": "ipython3",
   "version": "3.9.13"
  }
 },
 "nbformat": 4,
 "nbformat_minor": 5
}
