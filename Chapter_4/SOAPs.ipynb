{
  "cells": [
    {
      "cell_type": "markdown",
      "metadata": {
        "id": "view-in-github",
        "colab_type": "text"
      },
      "source": [
        "<a href=\"https://colab.research.google.com/github/ChemRacer/molecular_representation_examples/blob/main/Chapter_4/SOAPs.ipynb\" target=\"_parent\"><img src=\"https://colab.research.google.com/assets/colab-badge.svg\" alt=\"Open In Colab\"/></a>"
      ]
    },
    {
      "cell_type": "code",
      "execution_count": null,
      "id": "c4d0f016-4b8d-40be-95ab-dc8df6753abb",
      "metadata": {
        "id": "c4d0f016-4b8d-40be-95ab-dc8df6753abb"
      },
      "outputs": [],
      "source": [
        "from google.colab import drive\n",
        "drive.mount('/content/drive')\n",
        "%cd /content/drive/MyDrive/Colab Notebooks/Molecular_representations/molecular_representation_examples/Chapter_4"
      ]
    },
    {
      "cell_type": "code",
      "source": [
        "!pip install dscribe ase\n",
        "path_to_structure='/content/drive/MyDrive/Colab Notebooks/Molecular_representations/molecular_representation_examples/example_structures/glycidol.xyz'"
      ],
      "metadata": {
        "id": "nIPZybPwoTPN"
      },
      "id": "nIPZybPwoTPN",
      "execution_count": null,
      "outputs": []
    },
    {
      "cell_type": "code",
      "execution_count": null,
      "id": "1b1d87c4-62fd-4347-aa07-c2211bf28a34",
      "metadata": {
        "id": "1b1d87c4-62fd-4347-aa07-c2211bf28a34"
      },
      "outputs": [],
      "source": [
        "# Example of generating a smooth overlap of atomic positions \n",
        "# (SOAPs) representation for glycidol using DScribe and\n",
        "# the Atomic Simulation Environment (ASE) environment \n",
        "#\n",
        "from dscribe.descriptors import SOAP\n",
        "from ase.io import read\n",
        "\n",
        "# Import the glycidol xyz \n",
        "mol = read(path_to_structure)\n",
        "print(type(mol))\n",
        "\n",
        "\n",
        "# Set up the SOAP descriptor with parameters:\n",
        "# species, rcut, nmax, and lmax\n",
        "soap = SOAP(species=[\"H\", \"O\",\"C\"],rcut=6.0,nmax=8,lmax=6)\n",
        "\n",
        "\n",
        "# Create SOAP representation of glycidol\n",
        "soap_mol = soap.create(mol)\n",
        "\n",
        "# Print the SOAP representation for glycidol and the shape of the \n",
        "# feature vector \n",
        "print(soap_mol)\n",
        "print('Shape of the SOAP representation of glycidol',\n",
        "      soap_mol.shape)"
      ]
    },
    {
      "cell_type": "code",
      "source": [],
      "metadata": {
        "id": "76BLi-ztoVoR"
      },
      "id": "76BLi-ztoVoR",
      "execution_count": null,
      "outputs": []
    }
  ],
  "metadata": {
    "kernelspec": {
      "display_name": "Python 3 (ipykernel)",
      "language": "python",
      "name": "python3"
    },
    "language_info": {
      "codemirror_mode": {
        "name": "ipython",
        "version": 3
      },
      "file_extension": ".py",
      "mimetype": "text/x-python",
      "name": "python",
      "nbconvert_exporter": "python",
      "pygments_lexer": "ipython3",
      "version": "3.9.13"
    },
    "colab": {
      "provenance": [],
      "private_outputs": true,
      "include_colab_link": true
    },
    "gpuClass": "standard"
  },
  "nbformat": 4,
  "nbformat_minor": 5
}