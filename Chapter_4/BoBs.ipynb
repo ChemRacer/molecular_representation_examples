{
  "cells": [
    {
      "cell_type": "markdown",
      "metadata": {
        "id": "view-in-github",
        "colab_type": "text"
      },
      "source": [
        "<a href=\"https://colab.research.google.com/github/ChemRacer/molecular_representation_examples/blob/main/Chapter_4/BoBs.ipynb\" target=\"_parent\"><img src=\"https://colab.research.google.com/assets/colab-badge.svg\" alt=\"Open In Colab\"/></a>"
      ]
    },
    {
      "cell_type": "code",
      "execution_count": null,
      "id": "1a006ae4-371f-41a8-8c8a-50789a63c90c",
      "metadata": {
        "id": "1a006ae4-371f-41a8-8c8a-50789a63c90c"
      },
      "outputs": [],
      "source": [
        "from google.colab import drive\n",
        "drive.mount('/content/drive')\n",
        "%cd /content/drive/MyDrive/Colab Notebooks/Molecular_representations/molecular_representation_examples/Chapter_4\n",
        "!python -m pip install git+https://github.com/qmlcode/qml@develop --user -U"
      ]
    },
    {
      "cell_type": "code",
      "source": [
        "path_to_xyz=\"/content/drive/MyDrive/Colab Notebooks/Molecular_representations/molecular_representation_examples/example_structures/glycidol.xyz\"\n"
      ],
      "metadata": {
        "id": "qaRyuNGxSmLy"
      },
      "id": "qaRyuNGxSmLy",
      "execution_count": null,
      "outputs": []
    },
    {
      "cell_type": "code",
      "execution_count": null,
      "id": "a1ad4d00-77af-4c6c-bc52-d2d0e168010b",
      "metadata": {
        "id": "a1ad4d00-77af-4c6c-bc52-d2d0e168010b"
      },
      "outputs": [],
      "source": [
        "# Bag of Bonds (BoB) example using QML\n",
        "import qml\n",
        "from qml import representations\n",
        "import os\n",
        "from collections import Counter\n",
        "# Create the QML compound using the glycidol xyz file\n",
        "mol = qml.Compound(xyz=path_to_xyz)\n",
        "\n",
        "# Generate the BoB vector for glycidol using Counter to create\n",
        "# a dictionary with the number of each atom type\n",
        "num_atoms = Counter(mol.atomtypes)\n",
        "print(num_atoms)\n",
        "mol.generate_bob(asize=num_atoms)\n",
        "print(mol.representation)"
      ]
    },
    {
      "cell_type": "code",
      "source": [],
      "metadata": {
        "id": "PT4vJEmlQ03J"
      },
      "id": "PT4vJEmlQ03J",
      "execution_count": null,
      "outputs": []
    }
  ],
  "metadata": {
    "kernelspec": {
      "display_name": "Python 3 (ipykernel)",
      "language": "python",
      "name": "python3"
    },
    "language_info": {
      "codemirror_mode": {
        "name": "ipython",
        "version": 3
      },
      "file_extension": ".py",
      "mimetype": "text/x-python",
      "name": "python",
      "nbconvert_exporter": "python",
      "pygments_lexer": "ipython3",
      "version": "3.9.13"
    },
    "colab": {
      "provenance": [],
      "private_outputs": true,
      "include_colab_link": true
    },
    "gpuClass": "standard"
  },
  "nbformat": 4,
  "nbformat_minor": 5
}