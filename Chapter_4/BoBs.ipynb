{
  "cells": [
    {
      "cell_type": "markdown",
      "metadata": {
        "id": "view-in-github",
        "colab_type": "text"
      },
      "source": [
        "<a href=\"https://colab.research.google.com/github/ChemRacer/molecular_representation_examples/blob/main/Chapter_4/BoBs.ipynb\" target=\"_parent\"><img src=\"https://colab.research.google.com/assets/colab-badge.svg\" alt=\"Open In Colab\"/></a>"
      ]
    },
    {
      "cell_type": "code",
      "source": [
        "!pip install -q condacolab\n",
        "import condacolab\n",
        "condacolab.install()\n",
        "from google.colab import drive\n",
        "drive.mount('/content/drive')\n",
        "%cd /content/drive/MyDrive/Colab Notebooks/Molecular_representations/molecular_representation_examples/Chapter_4\n",
        "!conda install -c conda-forge openbabel rdkit nb_conda_kernels python-graphviz\n",
        "!pip install chemml"
      ],
      "metadata": {
        "id": "tJfr7XQ4SEZ0"
      },
      "id": "tJfr7XQ4SEZ0",
      "execution_count": null,
      "outputs": []
    },
    {
      "cell_type": "code",
      "source": [],
      "metadata": {
        "id": "V0xsNgpYOgAb"
      },
      "id": "V0xsNgpYOgAb",
      "execution_count": null,
      "outputs": []
    },
    {
      "cell_type": "code",
      "source": [
        "path_to_xyz=\"/content/drive/MyDrive/Colab Notebooks/Molecular_representations/molecular_representation_examples/example_structures/glycidol.xyz\"\n"
      ],
      "metadata": {
        "id": "qaRyuNGxSmLy"
      },
      "id": "qaRyuNGxSmLy",
      "execution_count": null,
      "outputs": []
    },
    {
      "cell_type": "code",
      "source": [
        "# Bag of Bonds (BoB) example using ChemML\n",
        "from chemml.chem import BagofBonds, Molecule\n",
        "\n",
        "# Glycidol\n",
        "smi='OCC1CO1'\n",
        "mol = Molecule(smi, input_type='smiles')\n",
        "mol.hydrogens('add')\n",
        "mol.to_xyz('MMFF', maxIters=10000, mmffVariant='MMFF94s')\n",
        "\n",
        "# Generate BoBs\n",
        "bob = BagofBonds(const= 1.0)\n",
        "features = bob.represent(mol)\n",
        "\n",
        "# BoBs\n",
        "print(features)"
      ],
      "metadata": {
        "id": "8jWAqc2oV5Hi"
      },
      "id": "8jWAqc2oV5Hi",
      "execution_count": null,
      "outputs": []
    },
    {
      "cell_type": "code",
      "source": [],
      "metadata": {
        "id": "YbjDsr_jXG2g"
      },
      "id": "YbjDsr_jXG2g",
      "execution_count": null,
      "outputs": []
    },
    {
      "cell_type": "code",
      "execution_count": null,
      "id": "a1ad4d00-77af-4c6c-bc52-d2d0e168010b",
      "metadata": {
        "id": "a1ad4d00-77af-4c6c-bc52-d2d0e168010b"
      },
      "outputs": [],
      "source": [
        "# Bag of Bonds (BoB) example using QML\n",
        "import qml\n",
        "from qml import representations\n",
        "import os\n",
        "from collections import Counter\n",
        "# Create the QML compound using the glycidol xyz file\n",
        "mol = qml.Compound(xyz=path_to_xyz)\n",
        "\n",
        "# Generate the BoB vector for glycidol using Counter to create\n",
        "# a dictionary with the number of each atom type\n",
        "num_atoms = Counter(mol.atomtypes)\n",
        "print(num_atoms)\n",
        "mol.generate_bob(asize=num_atoms)\n",
        "print(mol.representation)"
      ]
    },
    {
      "cell_type": "code",
      "source": [],
      "metadata": {
        "id": "PT4vJEmlQ03J"
      },
      "id": "PT4vJEmlQ03J",
      "execution_count": null,
      "outputs": []
    }
  ],
  "metadata": {
    "kernelspec": {
      "display_name": "Python 3 (ipykernel)",
      "language": "python",
      "name": "python3"
    },
    "language_info": {
      "codemirror_mode": {
        "name": "ipython",
        "version": 3
      },
      "file_extension": ".py",
      "mimetype": "text/x-python",
      "name": "python",
      "nbconvert_exporter": "python",
      "pygments_lexer": "ipython3",
      "version": "3.9.13"
    },
    "colab": {
      "provenance": [],
      "private_outputs": true,
      "include_colab_link": true
    },
    "gpuClass": "standard"
  },
  "nbformat": 4,
  "nbformat_minor": 5
}