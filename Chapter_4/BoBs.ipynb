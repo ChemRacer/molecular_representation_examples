<<<<<<< HEAD
{"cells":[{"cell_type":"code","execution_count":1,"id":"1a006ae4-371f-41a8-8c8a-50789a63c90c","metadata":{"colab":{"base_uri":"https://localhost:8080/"},"id":"1a006ae4-371f-41a8-8c8a-50789a63c90c","executionInfo":{"status":"ok","timestamp":1674505115290,"user_tz":300,"elapsed":20545,"user":{"displayName":"Grier Jones","userId":"02529940961804424269"}},"outputId":"c193faf3-5b51-4c4a-8cf3-64b2a489f52f"},"outputs":[{"output_type":"stream","name":"stdout","text":["Drive already mounted at /content/drive; to attempt to forcibly remount, call drive.mount(\"/content/drive\", force_remount=True).\n","/content/drive/MyDrive/Colab Notebooks/Molecular_representations/molecular_representation_examples\n","Looking in indexes: https://pypi.org/simple, https://us-python.pkg.dev/colab-wheels/public/simple/\n","Collecting git+https://github.com/qmlcode/qml@develop\n","  Cloning https://github.com/qmlcode/qml (to revision develop) to /tmp/pip-req-build-7_6g262c\n","  Running command git clone --filter=blob:none --quiet https://github.com/qmlcode/qml /tmp/pip-req-build-7_6g262c\n","  Running command git checkout -b develop --track origin/develop\n","  Switched to a new branch 'develop'\n","  Branch 'develop' set up to track remote branch 'develop' from 'origin'.\n","  Resolved https://github.com/qmlcode/qml to commit a7921c9176b9498dcce096efad0883271706d633\n","  Preparing metadata (setup.py) ... \u001b[?25l\u001b[?25hdone\n","Requirement already satisfied: numpy>=1.13 in /usr/local/lib/python3.8/dist-packages (from qml==0.4.0.12) (1.21.6)\n","Requirement already satisfied: scipy in /usr/local/lib/python3.8/dist-packages (from qml==0.4.0.12) (1.7.3)\n","Requirement already satisfied: scikit-learn in /usr/local/lib/python3.8/dist-packages (from qml==0.4.0.12) (1.0.2)\n","Requirement already satisfied: six in /usr/local/lib/python3.8/dist-packages (from qml==0.4.0.12) (1.15.0)\n","Requirement already satisfied: joblib>=0.11 in /usr/local/lib/python3.8/dist-packages (from scikit-learn->qml==0.4.0.12) (1.2.0)\n","Requirement already satisfied: threadpoolctl>=2.0.0 in /usr/local/lib/python3.8/dist-packages (from scikit-learn->qml==0.4.0.12) (3.1.0)\n"]}],"source":["from google.colab import drive\n","drive.mount('/content/drive')\n","%cd /content/drive/MyDrive/Colab Notebooks/Molecular_representations/molecular_representation_examples/\n","!pip install git+https://github.com/qmlcode/qml@develop --user -U"]},{"cell_type":"code","source":["\n"],"metadata":{"id":"qaRyuNGxSmLy","executionInfo":{"status":"ok","timestamp":1674505288779,"user_tz":300,"elapsed":248,"user":{"displayName":"Grier Jones","userId":"02529940961804424269"}}},"id":"qaRyuNGxSmLy","execution_count":6,"outputs":[]},{"cell_type":"code","execution_count":12,"id":"a1ad4d00-77af-4c6c-bc52-d2d0e168010b","metadata":{"colab":{"base_uri":"https://localhost:8080/"},"id":"a1ad4d00-77af-4c6c-bc52-d2d0e168010b","executionInfo":{"status":"ok","timestamp":1674505311084,"user_tz":300,"elapsed":1051,"user":{"displayName":"Grier Jones","userId":"02529940961804424269"}},"outputId":"6da7cad0-63bd-4c5c-a2dd-aa529b28c9bd"},"outputs":[{"output_type":"stream","name":"stdout","text":["Counter({'H': 6, 'C': 3, 'O': 2})\n","[73.51669472 73.51669472 18.03272067 33.74806776 33.53454721 33.40883844\n"," 20.20185564 19.4960174  12.75390244  8.22822194  3.91033081  3.89963397\n","  3.70965431  3.70840617  3.69094531  3.28646884  3.17177624  2.58945169\n","  1.93682077  1.8825876   1.7759813  36.8581052  36.8581052  36.8581052\n"," 24.14447266 23.86856045 13.79245191  5.54870615  5.543068    5.5408146\n","  5.48239862  5.48019693  3.09339002  2.80428398  2.79606839  2.76091578\n","  2.6864429   2.67711787  2.67316935  2.16346297  2.12427327  1.94743408\n","  1.87332169  1.69915896  1.33176393  0.5         0.5         0.5\n","  0.5         0.5         0.5         0.56121416  0.54855262  0.45061053\n","  0.4321271   0.39331628  0.38258942  0.34773764  0.34143882  0.31882871\n","  0.31362393  0.29493181  0.27173076  0.24372906  0.21223769  0.18751068]\n"]}],"source":["# Bag of Bonds (BoB) example using QML\n","import qml\n","from qml import representations\n","import os\n","from collections import Counter\n","# Create the QML compound using the glycidol xyz file\n","mol = qml.Compound(xyz=\"/content/drive/MyDrive/Colab Notebooks/Molecular_representations/molecular_representation_examples/example_structures/glycidol.xyz\")\n","\n","# Generate the BoB vector for glycidol using Counter to create\n","# a dictionary with the number of each atom type\n","num_atoms = Counter(mol.atomtypes)\n","print(num_atoms)\n","mol.generate_bob(asize=num_atoms)\n","print(mol.representation)"]},{"cell_type":"code","source":[],"metadata":{"id":"PT4vJEmlQ03J","executionInfo":{"status":"aborted","timestamp":1674505120256,"user_tz":300,"elapsed":5,"user":{"displayName":"Grier Jones","userId":"02529940961804424269"}}},"id":"PT4vJEmlQ03J","execution_count":null,"outputs":[]}],"metadata":{"kernelspec":{"display_name":"Python 3 (ipykernel)","language":"python","name":"python3"},"language_info":{"codemirror_mode":{"name":"ipython","version":3},"file_extension":".py","mimetype":"text/x-python","name":"python","nbconvert_exporter":"python","pygments_lexer":"ipython3","version":"3.9.13"},"colab":{"provenance":[]}},"nbformat":4,"nbformat_minor":5}
=======
{
  "cells": [
    {
      "cell_type": "markdown",
      "metadata": {
        "id": "view-in-github",
        "colab_type": "text"
      },
      "source": [
        "<a href=\"https://colab.research.google.com/github/ChemRacer/molecular_representation_examples/blob/main/Chapter_4/BoBs.ipynb\" target=\"_parent\"><img src=\"https://colab.research.google.com/assets/colab-badge.svg\" alt=\"Open In Colab\"/></a>"
      ]
    },
    {
      "cell_type": "code",
      "execution_count": 1,
      "id": "1a006ae4-371f-41a8-8c8a-50789a63c90c",
      "metadata": {
        "colab": {
          "base_uri": "https://localhost:8080/"
        },
        "id": "1a006ae4-371f-41a8-8c8a-50789a63c90c",
        "outputId": "c193faf3-5b51-4c4a-8cf3-64b2a489f52f"
      },
      "outputs": [
        {
          "output_type": "stream",
          "name": "stdout",
          "text": [
            "Drive already mounted at /content/drive; to attempt to forcibly remount, call drive.mount(\"/content/drive\", force_remount=True).\n",
            "/content/drive/MyDrive/Colab Notebooks/Molecular_representations/molecular_representation_examples\n",
            "Looking in indexes: https://pypi.org/simple, https://us-python.pkg.dev/colab-wheels/public/simple/\n",
            "Collecting git+https://github.com/qmlcode/qml@develop\n",
            "  Cloning https://github.com/qmlcode/qml (to revision develop) to /tmp/pip-req-build-7_6g262c\n",
            "  Running command git clone --filter=blob:none --quiet https://github.com/qmlcode/qml /tmp/pip-req-build-7_6g262c\n",
            "  Running command git checkout -b develop --track origin/develop\n",
            "  Switched to a new branch 'develop'\n",
            "  Branch 'develop' set up to track remote branch 'develop' from 'origin'.\n",
            "  Resolved https://github.com/qmlcode/qml to commit a7921c9176b9498dcce096efad0883271706d633\n",
            "  Preparing metadata (setup.py) ... \u001b[?25l\u001b[?25hdone\n",
            "Requirement already satisfied: numpy>=1.13 in /usr/local/lib/python3.8/dist-packages (from qml==0.4.0.12) (1.21.6)\n",
            "Requirement already satisfied: scipy in /usr/local/lib/python3.8/dist-packages (from qml==0.4.0.12) (1.7.3)\n",
            "Requirement already satisfied: scikit-learn in /usr/local/lib/python3.8/dist-packages (from qml==0.4.0.12) (1.0.2)\n",
            "Requirement already satisfied: six in /usr/local/lib/python3.8/dist-packages (from qml==0.4.0.12) (1.15.0)\n",
            "Requirement already satisfied: joblib>=0.11 in /usr/local/lib/python3.8/dist-packages (from scikit-learn->qml==0.4.0.12) (1.2.0)\n",
            "Requirement already satisfied: threadpoolctl>=2.0.0 in /usr/local/lib/python3.8/dist-packages (from scikit-learn->qml==0.4.0.12) (3.1.0)\n"
          ]
        }
      ],
      "source": [
        "from google.colab import drive\n",
        "drive.mount('/content/drive')\n",
        "%cd /content/drive/MyDrive/Colab Notebooks/Molecular_representations/molecular_representation_examples/\n",
        "!pip install git+https://github.com/qmlcode/qml@develop --user -U"
      ]
    },
    {
      "cell_type": "code",
      "source": [
        "\n"
      ],
      "metadata": {
        "id": "qaRyuNGxSmLy"
      },
      "id": "qaRyuNGxSmLy",
      "execution_count": 6,
      "outputs": []
    },
    {
      "cell_type": "code",
      "execution_count": 12,
      "id": "a1ad4d00-77af-4c6c-bc52-d2d0e168010b",
      "metadata": {
        "colab": {
          "base_uri": "https://localhost:8080/"
        },
        "id": "a1ad4d00-77af-4c6c-bc52-d2d0e168010b",
        "outputId": "6da7cad0-63bd-4c5c-a2dd-aa529b28c9bd"
      },
      "outputs": [
        {
          "output_type": "stream",
          "name": "stdout",
          "text": [
            "Counter({'H': 6, 'C': 3, 'O': 2})\n",
            "[73.51669472 73.51669472 18.03272067 33.74806776 33.53454721 33.40883844\n",
            " 20.20185564 19.4960174  12.75390244  8.22822194  3.91033081  3.89963397\n",
            "  3.70965431  3.70840617  3.69094531  3.28646884  3.17177624  2.58945169\n",
            "  1.93682077  1.8825876   1.7759813  36.8581052  36.8581052  36.8581052\n",
            " 24.14447266 23.86856045 13.79245191  5.54870615  5.543068    5.5408146\n",
            "  5.48239862  5.48019693  3.09339002  2.80428398  2.79606839  2.76091578\n",
            "  2.6864429   2.67711787  2.67316935  2.16346297  2.12427327  1.94743408\n",
            "  1.87332169  1.69915896  1.33176393  0.5         0.5         0.5\n",
            "  0.5         0.5         0.5         0.56121416  0.54855262  0.45061053\n",
            "  0.4321271   0.39331628  0.38258942  0.34773764  0.34143882  0.31882871\n",
            "  0.31362393  0.29493181  0.27173076  0.24372906  0.21223769  0.18751068]\n"
          ]
        }
      ],
      "source": [
        "# Bag of Bonds (BoB) example using QML\n",
        "import qml\n",
        "from qml import representations\n",
        "import os\n",
        "from collections import Counter\n",
        "# Create the QML compound using the glycidol xyz file\n",
        "mol = qml.Compound(xyz=\"/content/drive/MyDrive/Colab Notebooks/Molecular_representations/molecular_representation_examples/example_structures/glycidol.xyz\")\n",
        "\n",
        "# Generate the BoB vector for glycidol using Counter to create\n",
        "# a dictionary with the number of each atom type\n",
        "num_atoms = Counter(mol.atomtypes)\n",
        "print(num_atoms)\n",
        "mol.generate_bob(asize=num_atoms)\n",
        "print(mol.representation)"
      ]
    },
    {
      "cell_type": "code",
      "source": [],
      "metadata": {
        "id": "PT4vJEmlQ03J"
      },
      "id": "PT4vJEmlQ03J",
      "execution_count": null,
      "outputs": []
    }
  ],
  "metadata": {
    "kernelspec": {
      "display_name": "Python 3 (ipykernel)",
      "language": "python",
      "name": "python3"
    },
    "language_info": {
      "codemirror_mode": {
        "name": "ipython",
        "version": 3
      },
      "file_extension": ".py",
      "mimetype": "text/x-python",
      "name": "python",
      "nbconvert_exporter": "python",
      "pygments_lexer": "ipython3",
      "version": "3.9.13"
    },
    "colab": {
      "provenance": [],
      "include_colab_link": true
    }
  },
  "nbformat": 4,
  "nbformat_minor": 5
}
>>>>>>> 1aa3accd82f957d726d395002bc8ad30a9826c2c
