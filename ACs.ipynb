{
 "cells": [
  {
   "cell_type": "code",
   "execution_count": null,
   "id": "fa102c7c-dc3b-47a4-ae45-932cf1d486fd",
   "metadata": {},
   "outputs": [],
   "source": [
    "# An example of Autocorrelation Functions (ACs)\n",
    "# using MolSimplify \n",
    "import molSimplify.Informatics.autocorrelation as ac\n",
    "from molSimplify.Classes.mol3D import mol3D\n",
    "import pandas as pd\n",
    "\n",
    "# Create mol object from xyz using the mol3D class\n",
    "mol = mol3D()\n",
    "mol.readfromxyz('glycidol.xyz')\n",
    "\n",
    "\n",
    "# Create the ACs for the full structure with depth 0 to depth 1\n",
    "# \n",
    "# chi - electronegativity\n",
    "# Z - nuclear charge\n",
    "# I - identiy, i.e. 1 for\n",
    "# T - atom coordination number\n",
    "# S - covalent atomic radius\n",
    "acs = ac.generate_full_complex_autocorrelations(mol,depth=1,\n",
    "                                                 loud=False)\n",
    "# print dictionary containing acs\n",
    "print(acs)\n",
    "\n",
    "# Make a Pandas DataFrame to view the features together with \n",
    "# the feature name and depth, i.e. featurename-depth\n",
    "df_feat=pd.DataFrame(zip(sum(acs['colnames'],[]),\n",
    "                         sum(map(list,acs['results']),[])),\n",
    "                     columns=['Feature Name','Features'])\n",
    "print(df_feat)"
   ]
  },
  {
   "cell_type": "code",
   "execution_count": null,
   "id": "134bff2a-c15d-4d1c-b5a7-ca1c3815aa0a",
   "metadata": {},
   "outputs": [],
   "source": []
  }
 ],
 "metadata": {
  "kernelspec": {
   "display_name": "molsimplify",
   "language": "python",
   "name": "molsimplify"
  },
  "language_info": {
   "codemirror_mode": {
    "name": "ipython",
    "version": 3
   },
   "file_extension": ".py",
   "mimetype": "text/x-python",
   "name": "python",
   "nbconvert_exporter": "python",
   "pygments_lexer": "ipython3",
   "version": "3.8.12"
  }
 },
 "nbformat": 4,
 "nbformat_minor": 5
}
