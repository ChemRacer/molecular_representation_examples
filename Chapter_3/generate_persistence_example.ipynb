{
  "cells": [
    {
      "cell_type": "markdown",
      "metadata": {
        "id": "view-in-github",
        "colab_type": "text"
      },
      "source": [
        "<a href=\"https://colab.research.google.com/github/ChemRacer/molecular_representation_examples/blob/main/Chapter_3/generate_persistence_example.ipynb\" target=\"_parent\"><img src=\"https://colab.research.google.com/assets/colab-badge.svg\" alt=\"Open In Colab\"/></a>"
      ]
    },
    {
      "cell_type": "code",
      "execution_count": null,
      "id": "382cca91",
      "metadata": {
        "id": "382cca91"
      },
      "outputs": [],
      "source": [
        "from google.colab import drive\n",
        "drive.mount('/content/drive')\n",
        "%cd /content/drive/MyDrive/Colab Notebooks/Molecular_representations/molecular_representation_examples/Chapter_3\n"
      ]
    },
    {
      "cell_type": "code",
      "source": [
        "# Code to generate the persistence barcode and\n",
        "# persistence diagram for a set of points.\n",
        "import sys\n",
        "!{sys.executable} -m pip install gudhi\n",
        "# Upload required packages:\n",
        "import gudhi\n",
        "import matplotlib.pyplot as plt\n"
      ],
      "metadata": {
        "id": "1OGzI8dQ1Zwz"
      },
      "id": "1OGzI8dQ1Zwz",
      "execution_count": null,
      "outputs": []
    },
    {
      "cell_type": "code",
      "execution_count": null,
      "id": "97334337",
      "metadata": {
        "id": "97334337"
      },
      "outputs": [],
      "source": [
        "# Import your dataset.\n",
        "pt_cloud_x = [3,3.5,2,1,2,1,3,4.5,6.5,8,8,7,8,7,\n",
        "                5,8,8,7.5,9,10,11,12,9,11,11.5]\n",
        "pt_cloud_y = [1,2,2,4,5,6,8,1,1,2,3.5,4,6,7,7,8,\n",
        "                10,9,7.5,7,8,8.5,11,11,10]\n",
        "pt_cloud = zip(pt_cloud_x,pt_cloud_y)\n"
      ]
    },
    {
      "cell_type": "code",
      "execution_count": null,
      "id": "db2f72bc",
      "metadata": {
        "id": "db2f72bc"
      },
      "outputs": [],
      "source": [
        "#Use GUDHI to generate the corresponding Rips complex,\n",
        "rips_complex = gudhi.RipsComplex(points=pt_cloud, max_edge_length=20)\n",
        "# simplex tree,\n",
        "simplex_tree = rips_complex.create_simplex_tree(max_dimension=3)\n",
        "# and persistence data from the point cloud\n",
        "diag = simplex_tree.persistence(min_persistence=0.4)\n"
      ]
    },
    {
      "cell_type": "code",
      "execution_count": null,
      "id": "7eba07a9",
      "metadata": {
        "id": "7eba07a9"
      },
      "outputs": [],
      "source": [
        "# Generate the persistence barcode.\n",
        "pb = gudhi.plot_persistence_barcode(diag, max_intervals=0,\n",
        "                                        alpha=1.0,legend=True)\n",
        "# Plot the barcode.\n",
        "plt.show()\n"
      ]
    },
    {
      "cell_type": "code",
      "execution_count": null,
      "id": "470fab4e",
      "metadata": {
        "id": "470fab4e"
      },
      "outputs": [],
      "source": [
        "# Generate the persistence diagram.\n",
        "pd = gudhi.plot_persistence_diagram(diag, max_intervals=0,\n",
        "                                        alpha=1.0,legend=True)\n",
        "\n",
        "# Plot the diagram.\n",
        "plt.show()\n"
      ]
    },
    {
      "cell_type": "code",
      "execution_count": null,
      "id": "efc585e5",
      "metadata": {
        "id": "efc585e5"
      },
      "outputs": [],
      "source": []
    }
  ],
  "metadata": {
    "kernelspec": {
      "display_name": "Python 3 (ipykernel)",
      "language": "python",
      "name": "python3"
    },
    "language_info": {
      "codemirror_mode": {
        "name": "ipython",
        "version": 3
      },
      "file_extension": ".py",
      "mimetype": "text/x-python",
      "name": "python",
      "nbconvert_exporter": "python",
      "pygments_lexer": "ipython3",
      "version": "3.9.13"
    },
    "colab": {
      "private_outputs": true,
      "provenance": [],
      "include_colab_link": true
    },
    "gpuClass": "standard"
  },
  "nbformat": 4,
  "nbformat_minor": 5
}