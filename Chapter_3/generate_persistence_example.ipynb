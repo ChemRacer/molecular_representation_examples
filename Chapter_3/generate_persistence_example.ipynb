{
 "cells": [
  {
   "cell_type": "code",
   "execution_count": 2,
   "id": "382cca91",
   "metadata": {},
   "outputs": [],
   "source": [
    "# Code to generate the persistence barcode and\n",
    "# persistence diagram for a set of points.\n",
    "\n",
    "# Upload required packages:\n",
    "import matplotlib.pyplot as plt\n"
   ]
  },
  {
   "cell_type": "code",
   "execution_count": 3,
   "id": "97334337",
   "metadata": {},
   "outputs": [],
   "source": [
    "# Import your dataset.\n",
    "pt_cloud_x = [3,3.5,2,1,2,1,3,4.5,6.5,8,8,7,8,7,\n",
    "                5,8,8,7.5,9,10,11,12,9,11,11.5]\n",
    "pt_cloud_y = [1,2,2,4,5,6,8,1,1,2,3.5,4,6,7,7,8,\n",
    "                10,9,7.5,7,8,8.5,11,11,10]\n",
    "pt_cloud = zip(pt_cloud_x,pt_cloud_y)\n"
   ]
  },
  {
   "cell_type": "code",
   "execution_count": 4,
   "id": "db2f72bc",
   "metadata": {},
   "outputs": [
    {
     "ename": "NameError",
     "evalue": "name 'gudhi' is not defined",
     "output_type": "error",
     "traceback": [
      "\u001b[0;31m---------------------------------------------------------------------------\u001b[0m",
      "\u001b[0;31mNameError\u001b[0m                                 Traceback (most recent call last)",
      "\u001b[0;32m/var/folders/4b/bxgpn8cd04d8j1fgm7c5rnpw0000gp/T/ipykernel_64625/4104922643.py\u001b[0m in \u001b[0;36m<module>\u001b[0;34m\u001b[0m\n\u001b[1;32m      1\u001b[0m \u001b[0;31m#Use GUDHI to generate the corresponding Rips complex,\u001b[0m\u001b[0;34m\u001b[0m\u001b[0;34m\u001b[0m\u001b[0m\n\u001b[0;32m----> 2\u001b[0;31m \u001b[0mrips_complex\u001b[0m \u001b[0;34m=\u001b[0m \u001b[0mgudhi\u001b[0m\u001b[0;34m.\u001b[0m\u001b[0mRipsComplex\u001b[0m\u001b[0;34m(\u001b[0m\u001b[0mpoints\u001b[0m\u001b[0;34m=\u001b[0m\u001b[0mpt_cloud\u001b[0m\u001b[0;34m,\u001b[0m \u001b[0mmax_edge_length\u001b[0m\u001b[0;34m=\u001b[0m\u001b[0;36m20\u001b[0m\u001b[0;34m)\u001b[0m\u001b[0;34m\u001b[0m\u001b[0;34m\u001b[0m\u001b[0m\n\u001b[0m\u001b[1;32m      3\u001b[0m \u001b[0;31m# simplex tree,\u001b[0m\u001b[0;34m\u001b[0m\u001b[0;34m\u001b[0m\u001b[0m\n\u001b[1;32m      4\u001b[0m \u001b[0msimplex_tree\u001b[0m \u001b[0;34m=\u001b[0m \u001b[0mrips_complex\u001b[0m\u001b[0;34m.\u001b[0m\u001b[0mcreate_simplex_tree\u001b[0m\u001b[0;34m(\u001b[0m\u001b[0mmax_dimension\u001b[0m\u001b[0;34m=\u001b[0m\u001b[0;36m3\u001b[0m\u001b[0;34m)\u001b[0m\u001b[0;34m\u001b[0m\u001b[0;34m\u001b[0m\u001b[0m\n\u001b[1;32m      5\u001b[0m \u001b[0;31m# and persistence data from the point cloud\u001b[0m\u001b[0;34m\u001b[0m\u001b[0;34m\u001b[0m\u001b[0m\n",
      "\u001b[0;31mNameError\u001b[0m: name 'gudhi' is not defined"
     ]
    }
   ],
   "source": [
    "#Use GUDHI to generate the corresponding Rips complex,\n",
    "rips_complex = gudhi.RipsComplex(points=pt_cloud, max_edge_length=20)\n",
    "# simplex tree,\n",
    "simplex_tree = rips_complex.create_simplex_tree(max_dimension=3)\n",
    "# and persistence data from the point cloud\n",
    "diag = simplex_tree.persistence(min_persistence=0.4)\n"
   ]
  },
  {
   "cell_type": "code",
   "execution_count": 5,
   "id": "7eba07a9",
   "metadata": {},
   "outputs": [
    {
     "ename": "NameError",
     "evalue": "name 'gudhi' is not defined",
     "output_type": "error",
     "traceback": [
      "\u001b[0;31m---------------------------------------------------------------------------\u001b[0m",
      "\u001b[0;31mNameError\u001b[0m                                 Traceback (most recent call last)",
      "\u001b[0;32m/var/folders/4b/bxgpn8cd04d8j1fgm7c5rnpw0000gp/T/ipykernel_64625/2714841490.py\u001b[0m in \u001b[0;36m<module>\u001b[0;34m\u001b[0m\n\u001b[1;32m      1\u001b[0m \u001b[0;31m# Generate the persistence barcode.\u001b[0m\u001b[0;34m\u001b[0m\u001b[0;34m\u001b[0m\u001b[0m\n\u001b[0;32m----> 2\u001b[0;31m pb = gudhi.plot_persistence_barcode(diag, max_intervals=0,\n\u001b[0m\u001b[1;32m      3\u001b[0m                                         alpha=1.0,legend=True)\n\u001b[1;32m      4\u001b[0m \u001b[0;31m# Plot the barcode.\u001b[0m\u001b[0;34m\u001b[0m\u001b[0;34m\u001b[0m\u001b[0m\n\u001b[1;32m      5\u001b[0m \u001b[0mplt\u001b[0m\u001b[0;34m.\u001b[0m\u001b[0mshow\u001b[0m\u001b[0;34m(\u001b[0m\u001b[0;34m)\u001b[0m\u001b[0;34m\u001b[0m\u001b[0;34m\u001b[0m\u001b[0m\n",
      "\u001b[0;31mNameError\u001b[0m: name 'gudhi' is not defined"
     ]
    }
   ],
   "source": [
    "# Generate the persistence barcode.\n",
    "pb = gudhi.plot_persistence_barcode(diag, max_intervals=0,\n",
    "                                        alpha=1.0,legend=True)\n",
    "# Plot the barcode.\n",
    "plt.show()\n"
   ]
  },
  {
   "cell_type": "code",
   "execution_count": 6,
   "id": "470fab4e",
   "metadata": {},
   "outputs": [
    {
     "ename": "NameError",
     "evalue": "name 'gudhi' is not defined",
     "output_type": "error",
     "traceback": [
      "\u001b[0;31m---------------------------------------------------------------------------\u001b[0m",
      "\u001b[0;31mNameError\u001b[0m                                 Traceback (most recent call last)",
      "\u001b[0;32m/var/folders/4b/bxgpn8cd04d8j1fgm7c5rnpw0000gp/T/ipykernel_64625/3312470860.py\u001b[0m in \u001b[0;36m<module>\u001b[0;34m\u001b[0m\n\u001b[1;32m      1\u001b[0m \u001b[0;31m# Generate the persistence diagram.\u001b[0m\u001b[0;34m\u001b[0m\u001b[0;34m\u001b[0m\u001b[0m\n\u001b[0;32m----> 2\u001b[0;31m pd = gudhi.plot_persistence_diagram(diag, max_intervals=0,\n\u001b[0m\u001b[1;32m      3\u001b[0m                                         alpha=1.0,legend=True)\n\u001b[1;32m      4\u001b[0m \u001b[0;34m\u001b[0m\u001b[0m\n\u001b[1;32m      5\u001b[0m \u001b[0;31m# Plot the diagram.\u001b[0m\u001b[0;34m\u001b[0m\u001b[0;34m\u001b[0m\u001b[0m\n",
      "\u001b[0;31mNameError\u001b[0m: name 'gudhi' is not defined"
     ]
    }
   ],
   "source": [
    "# Generate the persistence diagram.\n",
    "pd = gudhi.plot_persistence_diagram(diag, max_intervals=0,\n",
    "                                        alpha=1.0,legend=True)\n",
    "\n",
    "# Plot the diagram.\n",
    "plt.show()\n"
   ]
  },
  {
   "cell_type": "code",
   "execution_count": null,
   "id": "efc585e5",
   "metadata": {},
   "outputs": [],
   "source": []
  }
 ],
 "metadata": {
  "kernelspec": {
   "display_name": "Python 3 (ipykernel)",
   "language": "python",
   "name": "python3"
  },
  "language_info": {
   "codemirror_mode": {
    "name": "ipython",
    "version": 3
   },
   "file_extension": ".py",
   "mimetype": "text/x-python",
   "name": "python",
   "nbconvert_exporter": "python",
   "pygments_lexer": "ipython3",
   "version": "3.9.13"
  }
 },
 "nbformat": 4,
 "nbformat_minor": 5
}
