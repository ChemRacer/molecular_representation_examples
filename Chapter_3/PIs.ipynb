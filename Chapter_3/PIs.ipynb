{
  "cells": [
    {
      "cell_type": "markdown",
      "metadata": {
        "id": "view-in-github",
        "colab_type": "text"
      },
      "source": [
        "<a href=\"https://colab.research.google.com/github/ChemRacer/molecular_representation_examples/blob/main/Chapter_3/PIs.ipynb\" target=\"_parent\"><img src=\"https://colab.research.google.com/assets/colab-badge.svg\" alt=\"Open In Colab\"/></a>"
      ]
    },
    {
      "cell_type": "code",
      "execution_count": 7,
      "id": "8608976d-4398-4ae2-a537-6001eb6d3fab",
      "metadata": {
        "colab": {
          "base_uri": "https://localhost:8080/"
        },
        "id": "8608976d-4398-4ae2-a537-6001eb6d3fab",
        "outputId": "1ad19e56-87ed-4d8d-a14c-d8b4f5320f09"
      },
      "outputs": [
        {
          "output_type": "stream",
          "name": "stdout",
          "text": [
            "Drive already mounted at /content/drive; to attempt to forcibly remount, call drive.mount(\"/content/drive\", force_remount=True).\n",
            "/content/drive/MyDrive/Colab Notebooks/Molecular_representations/molecular_representation_examples/Chapter_3\n"
          ]
        }
      ],
      "source": [
        "from google.colab import drive\n",
        "drive.mount('/content/drive')\n",
        "%cd /content/drive/MyDrive/Colab Notebooks/Molecular_representations/molecular_representation_examples/Chapter_3\n"
      ]
    },
    {
      "cell_type": "code",
      "source": [
        "import os\n",
        "os.listdir()"
      ],
      "metadata": {
        "colab": {
          "base_uri": "https://localhost:8080/"
        },
        "id": "7lPPOu4TVR1h",
        "outputId": "7f8bd443-9be1-40a4-c4df-675c2fc8b37c"
      },
      "id": "7lPPOu4TVR1h",
      "execution_count": 8,
      "outputs": [
        {
          "output_type": "execute_result",
          "data": {
            "text/plain": [
              "['elements.py',\n",
              " 'Element_PI.py',\n",
              " 'PIs_figures.ipynb',\n",
              " 'generate_persistence_example.ipynb',\n",
              " 'PIs.ipynb']"
            ]
          },
          "metadata": {},
          "execution_count": 8
        }
      ]
    },
    {
      "cell_type": "code",
      "source": [
        "!pip install ripser cython"
      ],
      "metadata": {
        "colab": {
          "base_uri": "https://localhost:8080/"
        },
        "id": "MT8YJOakVYX9",
        "outputId": "d6ff9d8d-9d6d-40d6-cfa8-d75a9fd7984f"
      },
      "id": "MT8YJOakVYX9",
      "execution_count": 10,
      "outputs": [
        {
          "output_type": "stream",
          "name": "stdout",
          "text": [
            "Looking in indexes: https://pypi.org/simple, https://us-python.pkg.dev/colab-wheels/public/simple/\n",
            "Collecting ripser\n",
            "  Downloading ripser-0.6.4.tar.gz (74 kB)\n",
            "\u001b[2K     \u001b[90m━━━━━━━━━━━━━━━━━━━━━━━━━━━━━━━━━━━━━━━━\u001b[0m \u001b[32m74.6/74.6 KB\u001b[0m \u001b[31m8.5 MB/s\u001b[0m eta \u001b[36m0:00:00\u001b[0m\n",
            "\u001b[?25h  Installing build dependencies ... \u001b[?25l\u001b[?25hdone\n",
            "  Getting requirements to build wheel ... \u001b[?25l\u001b[?25hdone\n",
            "  Preparing metadata (pyproject.toml) ... \u001b[?25l\u001b[?25hdone\n",
            "Requirement already satisfied: cython in /usr/local/lib/python3.8/dist-packages (0.29.33)\n",
            "Requirement already satisfied: scipy in /usr/local/lib/python3.8/dist-packages (from ripser) (1.7.3)\n",
            "Requirement already satisfied: numpy in /usr/local/lib/python3.8/dist-packages (from ripser) (1.21.6)\n",
            "Requirement already satisfied: scikit-learn in /usr/local/lib/python3.8/dist-packages (from ripser) (1.0.2)\n",
            "Collecting persim\n",
            "  Downloading persim-0.3.1-py3-none-any.whl (47 kB)\n",
            "\u001b[2K     \u001b[90m━━━━━━━━━━━━━━━━━━━━━━━━━━━━━━━━━━━━━━━━\u001b[0m \u001b[32m48.0/48.0 KB\u001b[0m \u001b[31m6.4 MB/s\u001b[0m eta \u001b[36m0:00:00\u001b[0m\n",
            "\u001b[?25hRequirement already satisfied: joblib in /usr/local/lib/python3.8/dist-packages (from persim->ripser) (1.2.0)\n",
            "Requirement already satisfied: matplotlib in /usr/local/lib/python3.8/dist-packages (from persim->ripser) (3.2.2)\n",
            "Collecting deprecated\n",
            "  Downloading Deprecated-1.2.13-py2.py3-none-any.whl (9.6 kB)\n",
            "Collecting hopcroftkarp\n",
            "  Downloading hopcroftkarp-1.2.5.tar.gz (16 kB)\n",
            "  Preparing metadata (setup.py) ... \u001b[?25l\u001b[?25hdone\n",
            "Requirement already satisfied: threadpoolctl>=2.0.0 in /usr/local/lib/python3.8/dist-packages (from scikit-learn->ripser) (3.1.0)\n",
            "Requirement already satisfied: wrapt<2,>=1.10 in /usr/local/lib/python3.8/dist-packages (from deprecated->persim->ripser) (1.14.1)\n",
            "Requirement already satisfied: pyparsing!=2.0.4,!=2.1.2,!=2.1.6,>=2.0.1 in /usr/local/lib/python3.8/dist-packages (from matplotlib->persim->ripser) (3.0.9)\n",
            "Requirement already satisfied: cycler>=0.10 in /usr/local/lib/python3.8/dist-packages (from matplotlib->persim->ripser) (0.11.0)\n",
            "Requirement already satisfied: kiwisolver>=1.0.1 in /usr/local/lib/python3.8/dist-packages (from matplotlib->persim->ripser) (1.4.4)\n",
            "Requirement already satisfied: python-dateutil>=2.1 in /usr/local/lib/python3.8/dist-packages (from matplotlib->persim->ripser) (2.8.2)\n",
            "Requirement already satisfied: six>=1.5 in /usr/local/lib/python3.8/dist-packages (from python-dateutil>=2.1->matplotlib->persim->ripser) (1.15.0)\n",
            "Building wheels for collected packages: ripser, hopcroftkarp\n",
            "  Building wheel for ripser (pyproject.toml) ... \u001b[?25l\u001b[?25hdone\n",
            "  Created wheel for ripser: filename=ripser-0.6.4-cp38-cp38-linux_x86_64.whl size=688028 sha256=d67a1f17891fec1120262690da75d0af3ea731ec897c436f293a25e6de78737b\n",
            "  Stored in directory: /root/.cache/pip/wheels/2a/91/ce/d7deed9ae6fb975821947c9aaa86134c95d2fe3f4b0f89b59e\n",
            "  Building wheel for hopcroftkarp (setup.py) ... \u001b[?25l\u001b[?25hdone\n",
            "  Created wheel for hopcroftkarp: filename=hopcroftkarp-1.2.5-py2.py3-none-any.whl size=18119 sha256=723ed94fb2d26a39cee7e2ec25a950170e3917e6e843b24e9bc25cf565f53364\n",
            "  Stored in directory: /root/.cache/pip/wheels/fb/f7/29/5c31600b478c23a3793be7cea9889d5eccb1e7ef40fef5e34e\n",
            "Successfully built ripser hopcroftkarp\n",
            "Installing collected packages: hopcroftkarp, deprecated, persim, ripser\n",
            "Successfully installed deprecated-1.2.13 hopcroftkarp-1.2.5 persim-0.3.1 ripser-0.6.4\n"
          ]
        }
      ]
    },
    {
      "cell_type": "code",
      "source": [
        "# Chemically driven persistence homology example\n",
        "# Required files to be in same directory:\n",
        "#    -Element_PI.py\n",
        "#    -elements.py\n",
        "# From Element_PI.py import PersDiagram to generate \n",
        "#    a persistence diagram (PD)\n",
        "from Element_PI import PersDiagram\n",
        "# From Element_PI.py import VariancePersist to generate \n",
        "#    a persistence image (PI)\n",
        "from Element_PI import VariancePersist as VP\n",
        "import matplotlib.pyplot as plt\n",
        "\n",
        "test_file1='/content/drive/MyDrive/Colab Notebooks/Molecular_representations/molecular_representation_examples/example_structures/glycidol.xyz'\n",
        "test_file2='/content/drive/MyDrive/Colab Notebooks/Molecular_representations/molecular_representation_examples/example_structures/2-benzyloxirane.xyz'\n",
        "\n",
        "# We will create a four panel figure with a PD and PI both \n",
        "#    sample molecules\n",
        "plt.figure(figsize=(8, 8))\n",
        "\n",
        "# Create subfigures for glycidol\n",
        "plt.subplot(221)\n",
        "PersDiagram(test_file1,lifetime=False)\n",
        "plt.legend(loc=4)\n",
        "plt.subplot(222)\n",
        "VP(test_file1,pixelx=20, pixely=20, myspread=0.1, \n",
        "   myspecs={\"maxBD\": 3, \"minBD\":0},showplot=False)\n",
        "\n",
        "# Create subfigures for 2-benzyloxirane\n",
        "plt.subplot(223)\n",
        "PersDiagram(test_file2,lifetime=False)\n",
        "plt.legend(loc=4)\n",
        "plt.subplot(224)\n",
        "VP(test_file2,pixelx=20, pixely=20, myspread=0.1, \n",
        "   myspecs={\"maxBD\": 3, \"minBD\":0},showplot=False)\n",
        "plt.tight_layout()\n",
        "plt.show()"
      ],
      "metadata": {
        "colab": {
          "base_uri": "https://localhost:8080/",
          "height": 603
        },
        "id": "SjOW5BvkVIkh",
        "outputId": "bfed59a3-c5c2-4310-cefa-45e913a2b595"
      },
      "id": "SjOW5BvkVIkh",
      "execution_count": 11,
      "outputs": [
        {
          "output_type": "stream",
          "name": "stdout",
          "text": [
            "Rips(maxdim=1, thresh=inf, coeff=2, do_cocycles=False, n_perm = None, verbose=True)\n"
          ]
        },
        {
          "output_type": "display_data",
          "data": {
            "text/plain": [
              "<Figure size 576x576 with 4 Axes>"
            ],
            "image/png": "[encoded data removed]"
          },
          "metadata": {
            "needs_background": "light"
          }
        }
      ]
    },
    {
      "cell_type": "code",
      "execution_count": null,
      "id": "155afed0-131a-48b5-8a73-9e1167a66618",
      "metadata": {
        "id": "155afed0-131a-48b5-8a73-9e1167a66618"
      },
      "outputs": [],
      "source": [
        "# # To save \n",
        "# import shutil\n",
        "# plt.savefig('PD_PI_stacked.png',dpi=300)\n",
        "# shutil.copy('./PD_PI_stacked.png','/Users/voglab04/Desktop/Journal Articles/Theory/molecular_representations_Book/figures/')\n"
      ]
    },
    {
      "cell_type": "code",
      "source": [],
      "metadata": {
        "id": "EAftwTG4VExR"
      },
      "id": "EAftwTG4VExR",
      "execution_count": null,
      "outputs": []
    }
  ],
  "metadata": {
    "kernelspec": {
      "display_name": "molecular_representation",
      "language": "python",
      "name": "molecular_representation"
    },
    "language_info": {
      "codemirror_mode": {
        "name": "ipython",
        "version": 3
      },
      "file_extension": ".py",
      "mimetype": "text/x-python",
      "name": "python",
      "nbconvert_exporter": "python",
      "pygments_lexer": "ipython3",
      "version": "3.8.14"
    },
    "colab": {
      "provenance": [],
      "include_colab_link": true
    }
  },
  "nbformat": 4,
  "nbformat_minor": 5
}