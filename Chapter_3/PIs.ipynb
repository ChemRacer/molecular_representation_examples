{
  "cells": [
    {
      "cell_type": "markdown",
      "metadata": {
        "id": "view-in-github",
        "colab_type": "text"
      },
      "source": [
        "<a href=\"https://colab.research.google.com/github/ChemRacer/molecular_representation_examples/blob/main/Chapter_3/PIs.ipynb\" target=\"_parent\"><img src=\"https://colab.research.google.com/assets/colab-badge.svg\" alt=\"Open In Colab\"/></a>"
      ]
    },
    {
      "cell_type": "code",
      "execution_count": null,
      "id": "8608976d-4398-4ae2-a537-6001eb6d3fab",
      "metadata": {
        "id": "8608976d-4398-4ae2-a537-6001eb6d3fab"
      },
      "outputs": [],
      "source": [
        "from google.colab import drive\n",
        "drive.mount('/content/drive')\n",
        "%cd /content/drive/MyDrive/Colab Notebooks/Molecular_representations/molecular_representation_examples/Chapter_3\n"
      ]
    },
    {
      "cell_type": "code",
      "source": [
        "import os\n",
        "os.listdir()"
      ],
      "metadata": {
        "id": "7lPPOu4TVR1h"
      },
      "id": "7lPPOu4TVR1h",
      "execution_count": null,
      "outputs": []
    },
    {
      "cell_type": "code",
      "source": [
        "!pip install ripser cython"
      ],
      "metadata": {
        "id": "MT8YJOakVYX9"
      },
      "id": "MT8YJOakVYX9",
      "execution_count": null,
      "outputs": []
    },
    {
      "cell_type": "code",
      "source": [
        "# Chemically driven persistence homology example\n",
        "# Required files to be in same directory:\n",
        "#    -Element_PI.py\n",
        "#    -elements.py\n",
        "# From Element_PI.py import PersDiagram to generate \n",
        "#    a persistence diagram (PD)\n",
        "from Element_PI import PersDiagram\n",
        "# From Element_PI.py import VariancePersist to generate \n",
        "#    a persistence image (PI)\n",
        "from Element_PI import VariancePersist as VP\n",
        "import matplotlib.pyplot as plt\n",
        "\n",
        "test_file1='/content/drive/MyDrive/Colab Notebooks/Molecular_representations/molecular_representation_examples/example_structures/glycidol.xyz'\n",
        "test_file2='/content/drive/MyDrive/Colab Notebooks/Molecular_representations/molecular_representation_examples/example_structures/2-benzyloxirane.xyz'\n",
        "\n",
        "# We will create a four panel figure with a PD and PI both \n",
        "#    sample molecules\n",
        "plt.figure(figsize=(8, 8))\n",
        "\n",
        "# Create subfigures for glycidol\n",
        "plt.subplot(221)\n",
        "PersDiagram(test_file1,lifetime=False)\n",
        "plt.legend(loc=4)\n",
        "plt.subplot(222)\n",
        "VP(test_file1,pixelx=20, pixely=20, myspread=0.1, \n",
        "   myspecs={\"maxBD\": 3, \"minBD\":0},showplot=False)\n",
        "\n",
        "# Create subfigures for 2-benzyloxirane\n",
        "plt.subplot(223)\n",
        "PersDiagram(test_file2,lifetime=False)\n",
        "plt.legend(loc=4)\n",
        "plt.subplot(224)\n",
        "VP(test_file2,pixelx=20, pixely=20, myspread=0.1, \n",
        "   myspecs={\"maxBD\": 3, \"minBD\":0},showplot=False)\n",
        "plt.tight_layout()\n",
        "plt.show()"
      ],
      "metadata": {
        "id": "SjOW5BvkVIkh"
      },
      "id": "SjOW5BvkVIkh",
      "execution_count": null,
      "outputs": []
    },
    {
      "cell_type": "code",
      "execution_count": null,
      "id": "155afed0-131a-48b5-8a73-9e1167a66618",
      "metadata": {
        "id": "155afed0-131a-48b5-8a73-9e1167a66618"
      },
      "outputs": [],
      "source": [
        "# # To save \n",
        "# import shutil\n",
        "# plt.savefig('PD_PI_stacked.png',dpi=300)\n",
        "# shutil.copy('./PD_PI_stacked.png','/Users/voglab04/Desktop/Journal Articles/Theory/molecular_representations_Book/figures/')\n"
      ]
    },
    {
      "cell_type": "code",
      "source": [],
      "metadata": {
        "id": "EAftwTG4VExR"
      },
      "id": "EAftwTG4VExR",
      "execution_count": null,
      "outputs": []
    }
  ],
  "metadata": {
    "kernelspec": {
      "display_name": "molecular_representation",
      "language": "python",
      "name": "molecular_representation"
    },
    "language_info": {
      "codemirror_mode": {
        "name": "ipython",
        "version": 3
      },
      "file_extension": ".py",
      "mimetype": "text/x-python",
      "name": "python",
      "nbconvert_exporter": "python",
      "pygments_lexer": "ipython3",
      "version": "3.8.14"
    },
    "colab": {
      "private_outputs": true,
      "provenance": [],
      "include_colab_link": true
    },
    "gpuClass": "standard"
  },
  "nbformat": 4,
  "nbformat_minor": 5
}