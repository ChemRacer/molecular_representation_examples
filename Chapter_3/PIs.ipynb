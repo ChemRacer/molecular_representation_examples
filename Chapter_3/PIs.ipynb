{
  "cells": [
    {
      "cell_type": "markdown",
      "metadata": {
        "id": "view-in-github",
        "colab_type": "text"
      },
      "source": [
        "<a href=\"https://colab.research.google.com/github/ChemRacer/molecular_representation_examples/blob/main/Chapter_3/PIs.ipynb\" target=\"_parent\"><img src=\"https://colab.research.google.com/assets/colab-badge.svg\" alt=\"Open In Colab\"/></a>"
      ]
    },
    {
      "cell_type": "code",
      "execution_count": null,
      "id": "8608976d-4398-4ae2-a537-6001eb6d3fab",
      "metadata": {
        "id": "8608976d-4398-4ae2-a537-6001eb6d3fab"
      },
      "outputs": [],
      "source": [
        "\n",
        "from google.colab import drive\n",
        "drive.mount('/content/drive')\n",
        "%cd /content/drive/MyDrive/Colab Notebooks/Molecular_representations/molecular_representation_examples/Chapter_3"
      ]
    },
    {
      "cell_type": "code",
      "source": [
        "# Chemically driven persistence homology example\n",
        "# Required files to be in same directory:\n",
        "#    -Element_PI.py\n",
        "#    -elements.py\n",
        "# From Element_PI.py import PersDiagram to generate \n",
        "#    a persistence diagram (PD)\n",
        "from Element_PI import PersDiagram\n",
        "# From Element_PI.py import VariancePersist to generate \n",
        "#    a persistence image (PI)\n",
        "from Element_PI import VariancePersist as VP\n",
        "import matplotlib.pyplot as plt\n",
        "\n",
        "test_file1='glycidol.xyz'\n",
        "test_file2='2-benzyloxirane.xyz'\n",
        "\n",
        "# We will create a four panel figure with a PD and PI both \n",
        "#    sample molecules\n",
        "plt.figure(figsize=(8, 8))\n",
        "\n",
        "# Create subfigures for glycidol\n",
        "plt.subplot(221)\n",
        "PersDiagram(test_file1,lifetime=False)\n",
        "plt.legend(loc=4)\n",
        "plt.subplot(222)\n",
        "VP(test_file1,pixelx=20, pixely=20, myspread=0.1, \n",
        "   myspecs={\"maxBD\": 3, \"minBD\":0},showplot=False)\n",
        "\n",
        "# Create subfigures for 2-benzyloxirane\n",
        "plt.subplot(223)\n",
        "PersDiagram(test_file2,lifetime=False)\n",
        "plt.legend(loc=4)\n",
        "plt.subplot(224)\n",
        "VP(test_file2,pixelx=20, pixely=20, myspread=0.1, \n",
        "   myspecs={\"maxBD\": 3, \"minBD\":0},showplot=False)\n",
        "plt.tight_layout()\n",
        "plt.show()"
      ],
      "metadata": {
        "id": "a6L-63UW0jPI"
      },
      "id": "a6L-63UW0jPI",
      "execution_count": null,
      "outputs": []
    },
    {
      "cell_type": "code",
      "execution_count": null,
      "id": "155afed0-131a-48b5-8a73-9e1167a66618",
      "metadata": {
        "id": "155afed0-131a-48b5-8a73-9e1167a66618"
      },
      "outputs": [],
      "source": [
        "# # To save \n",
        "# import shutil\n",
        "# plt.savefig('PD_PI_stacked.png',dpi=300)\n",
        "# shutil.copy('./PD_PI_stacked.png','/Users/voglab04/Desktop/Journal Articles/Theory/molecular_representations_Book/figures/')\n"
      ]
    },
    {
      "cell_type": "code",
      "execution_count": null,
      "id": "76b51ee2-8724-478c-ba45-4e37e4b62048",
      "metadata": {
        "id": "76b51ee2-8724-478c-ba45-4e37e4b62048"
      },
      "outputs": [],
      "source": []
    }
  ],
  "metadata": {
    "kernelspec": {
      "display_name": "Python 3",
      "name": "python3"
    },
    "language_info": {
      "name": "python"
    },
    "colab": {
      "provenance": [],
      "private_outputs": true,
      "include_colab_link": true
    },
    "gpuClass": "standard"
  },
  "nbformat": 4,
  "nbformat_minor": 5
}