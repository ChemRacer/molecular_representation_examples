{
  "nbformat": 4,
  "nbformat_minor": 0,
  "metadata": {
    "colab": {
      "provenance": [],
      "private_outputs": true,
      "authorship_tag": "ABX9TyPj86zygkM4kN5KYPZ+o1YU",
      "include_colab_link": true
    },
    "kernelspec": {
      "name": "python3",
      "display_name": "Python 3"
    },
    "language_info": {
      "name": "python"
    },
    "gpuClass": "standard"
  },
  "cells": [
    {
      "cell_type": "markdown",
      "metadata": {
        "id": "view-in-github",
        "colab_type": "text"
      },
      "source": [
        "<a href=\"https://colab.research.google.com/github/ChemRacer/molecular_representation_examples/blob/main/Gen_Directories.ipynb\" target=\"_parent\"><img src=\"https://colab.research.google.com/assets/colab-badge.svg\" alt=\"Open In Colab\"/></a>"
      ]
    },
    {
      "cell_type": "code",
      "execution_count": null,
      "metadata": {
        "id": "VpqsyaAgEe15"
      },
      "outputs": [],
      "source": [
        "from google.colab import drive\n",
        "drive.mount('/content/drive')"
      ]
    },
    {
      "cell_type": "code",
      "source": [
        "%cd /content/drive/MyDrive/Colab Notebooks/Molecular_representations/molecular_representation_examples"
      ],
      "metadata": {
        "id": "hnOJ0kt3ErTo"
      },
      "execution_count": null,
      "outputs": []
    },
    {
      "cell_type": "code",
      "source": [
        "!pip install kora -q  # my library to help get ID\n",
        "from kora.xattr import get_id\n",
        "import os"
      ],
      "metadata": {
        "id": "MEwlSJEwEk4e"
      },
      "execution_count": null,
      "outputs": []
    },
    {
      "cell_type": "code",
      "source": [
        "!pwd"
      ],
      "metadata": {
        "id": "Dv7I913UGTEU"
      },
      "execution_count": null,
      "outputs": []
    },
    {
      "cell_type": "code",
      "source": [],
      "metadata": {
        "id": "r1Ku9HNIGUHe"
      },
      "execution_count": null,
      "outputs": []
    },
    {
      "cell_type": "code",
      "source": [
        "fid=get_id(\"/content/drive/MyDrive/Colab Notebooks/Molecular_representations/molecular_representation_examples/Chapter_4/MBTR.ipynb\")"
      ],
      "metadata": {
        "id": "hjrOv4bkFIap"
      },
      "execution_count": null,
      "outputs": []
    },
    {
      "cell_type": "code",
      "source": [
        "print(\"https://colab.research.google.com/drive/\"+fid)"
      ],
      "metadata": {
        "id": "JENWc31bGiW0"
      },
      "execution_count": null,
      "outputs": []
    },
    {
      "cell_type": "code",
      "source": [
        "for root, dirs, files in os.walk(os.getcwd()):\n",
        "    for file in files:\n",
        "        if file.endswith('.ipynb') and 'Chapter_' in root and '.ipynb_checkpoints' not in root:\n",
        "          if os.path.exists(os.path.join(root,file)):\n",
        "              print(file.split('.')[0], \"https://colab.research.google.com/drive/\"+get_id(os.path.join(root,file)))"
      ],
      "metadata": {
        "id": "WyUOXtpbGt3F"
      },
      "execution_count": null,
      "outputs": []
    },
    {
      "cell_type": "code",
      "source": [],
      "metadata": {
        "id": "fW5peDDCIZqN"
      },
      "execution_count": null,
      "outputs": []
    },
    {
      "cell_type": "code",
      "source": [],
      "metadata": {
        "id": "gYtGf8C5w9Vn"
      },
      "execution_count": null,
      "outputs": []
    }
  ]
}