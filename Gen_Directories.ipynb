{
  "nbformat": 4,
  "nbformat_minor": 0,
  "metadata": {
    "colab": {
      "provenance": [],
      "toc_visible": true,
      "authorship_tag": "ABX9TyNu67I5ka0cKUOTPfPK7qes",
      "include_colab_link": true
    },
    "kernelspec": {
      "name": "python3",
      "display_name": "Python 3"
    },
    "language_info": {
      "name": "python"
    }
  },
  "cells": [
    {
      "cell_type": "markdown",
      "metadata": {
        "id": "view-in-github",
        "colab_type": "text"
      },
      "source": [
        "<a href=\"https://colab.research.google.com/github/ChemRacer/molecular_representation_examples/blob/main/Gen_Directories.ipynb\" target=\"_parent\"><img src=\"https://colab.research.google.com/assets/colab-badge.svg\" alt=\"Open In Colab\"/></a>"
      ]
    },
    {
      "cell_type": "code",
      "execution_count": 1,
      "metadata": {
        "colab": {
          "base_uri": "https://localhost:8080/"
        },
        "id": "VpqsyaAgEe15",
        "outputId": "77a5eb76-e364-4c5e-89db-0f8826bd9915"
      },
      "outputs": [
        {
          "output_type": "stream",
          "name": "stdout",
          "text": [
            "Drive already mounted at /content/drive; to attempt to forcibly remount, call drive.mount(\"/content/drive\", force_remount=True).\n"
          ]
        }
      ],
      "source": [
        "from google.colab import drive\n",
        "drive.mount('/content/drive')"
      ]
    },
    {
      "cell_type": "code",
      "source": [
        "%cd /content/drive/MyDrive/Colab Notebooks/Molecular_representations/molecular_representation_examples"
      ],
      "metadata": {
        "colab": {
          "base_uri": "https://localhost:8080/"
        },
        "id": "hnOJ0kt3ErTo",
        "outputId": "4721da03-16d3-4c01-dfff-db485cf89e24"
      },
      "execution_count": 14,
      "outputs": [
        {
          "output_type": "stream",
          "name": "stdout",
          "text": [
            "/content/drive/MyDrive/Colab Notebooks/Molecular_representations/molecular_representation_examples\n"
          ]
        }
      ]
    },
    {
      "cell_type": "code",
      "source": [
        "!pip install kora -q  # my library to help get ID\n",
        "from kora.xattr import get_id\n",
        "import os"
      ],
      "metadata": {
        "id": "MEwlSJEwEk4e"
      },
      "execution_count": 3,
      "outputs": []
    },
    {
      "cell_type": "code",
      "source": [],
      "metadata": {
        "id": "Dv7I913UGTEU",
        "colab": {
          "base_uri": "https://localhost:8080/"
        },
        "outputId": "d430b044-118c-4910-f37f-405b204168aa"
      },
      "execution_count": 13,
      "outputs": [
        {
          "output_type": "stream",
          "name": "stdout",
          "text": [
            "/content/drive/MyDrive/Colab Notebooks/Molecular_representations/molecular_representation_examples\n"
          ]
        }
      ]
    },
    {
      "cell_type": "code",
      "source": [],
      "metadata": {
        "id": "r1Ku9HNIGUHe"
      },
      "execution_count": 3,
      "outputs": []
    },
    {
      "cell_type": "code",
      "source": [
        "fid=get_id(\"/content/drive/MyDrive/Colab Notebooks/Molecular_representations/molecular_representation_examples/Chapter_4/MBTR.ipynb\")"
      ],
      "metadata": {
        "id": "hjrOv4bkFIap"
      },
      "execution_count": 4,
      "outputs": []
    },
    {
      "cell_type": "code",
      "source": [
        "print(\"https://colab.research.google.com/drive/\"+fid)"
      ],
      "metadata": {
        "colab": {
          "base_uri": "https://localhost:8080/"
        },
        "id": "JENWc31bGiW0",
        "outputId": "ddb6afd9-498c-44da-fa6a-4c52adcd1209"
      },
      "execution_count": null,
      "outputs": [
        {
          "output_type": "stream",
          "name": "stdout",
          "text": [
            "https://colab.research.google.com/drive/1TcqP9Cqodx0LTwYkyynylFaAVZvWGBRt\n"
          ]
        }
      ]
    },
    {
      "cell_type": "code",
      "source": [
        "for root, dirs, files in os.walk(os.getcwd()):\n",
        "    for file in files:\n",
        "        if file.endswith('.ipynb') and 'Chapter_' in root and '.ipynb_checkpoints' not in root:\n",
        "          if os.path.exists(os.path.join(root,file)):\n",
        "              print(file.split('.')[0], \"https://colab.research.google.com/drive/\"+get_id(os.path.join(root,file)))"
      ],
      "metadata": {
        "colab": {
          "base_uri": "https://localhost:8080/"
        },
        "id": "WyUOXtpbGt3F",
        "outputId": "4b203d1b-c185-407a-8334-e4cfc77bc67c"
      },
      "execution_count": 7,
      "outputs": [
        {
          "output_type": "stream",
          "name": "stdout",
          "text": [
            "Morgan_ECFP https://colab.research.google.com/drive/1H0b-0_N6o-zBNdYKm48CkoMQc-w27um3\n",
            "MACCS https://colab.research.google.com/drive/1fsegfik1UrVPdYf7vd2vbqaYOCSp7BDQ\n",
            "InChI https://colab.research.google.com/drive/1RsooRcWaDYoPpUqZIFQpbauWrXJiDNF7\n",
            "LineNotations https://colab.research.google.com/drive/1MyU7---iDMi0Ejcl7vKaBRRLqC60HeV-\n",
            "SMILES_SMARTS https://colab.research.google.com/drive/1vVgalXMTmjEfuOKlNzs5vNdWbbi7l_xq\n",
            "ACs https://colab.research.google.com/drive/1AkwqNFCn-FDPzF3Gabho-5F2oztit-nF\n",
            "BoBs https://colab.research.google.com/drive/1vYwkBTd_Km-GiDFmWVlc-Hi1dmpzRlWz\n",
            "MBTR https://colab.research.google.com/drive/1TcqP9Cqodx0LTwYkyynylFaAVZvWGBRt\n",
            "CMs https://colab.research.google.com/drive/1ieK0SKuj5XabWqTRexB7yrWYXs6_Q7nt\n",
            "SOAPs https://colab.research.google.com/drive/1lig9eabp-rFTKNqrmgFcl7ogSrcfH_km\n",
            "torchANI https://colab.research.google.com/drive/1_xXjWPOpJHayWn3Oash4i-Q55baVN88t\n",
            "ACSFs https://colab.research.google.com/drive/1iR0KQtE4wHObxTi7AJhe7vy_Vz4yXNWu\n",
            "generate_persistence_example https://colab.research.google.com/drive/1FAPfJ7Xw13oBOc4zhbr8ES_L0GSdYXX3\n",
            "PIs_figures https://colab.research.google.com/drive/1oKCY8oKny70FgunJVQ_u29aGLJ0cY7Ub\n",
            "PIs https://colab.research.google.com/drive/1jmAppowrVbUs-QqC1YRe9Z2zzqE2eMUq\n"
          ]
        }
      ]
    },
    {
      "cell_type": "code",
      "source": [],
      "metadata": {
        "id": "fW5peDDCIZqN"
      },
      "execution_count": null,
      "outputs": []
    }
  ]
}