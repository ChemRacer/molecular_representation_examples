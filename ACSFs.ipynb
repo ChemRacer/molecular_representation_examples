{
 "cells": [
  {
   "cell_type": "code",
   "execution_count": 2,
   "id": "8d18c127-153a-4060-b8fc-c479aa701085",
   "metadata": {},
   "outputs": [
    {
     "name": "stdout",
     "output_type": "stream",
     "text": [
      "[[3.5223458  0.         0.8675271 ]\n",
      " [3.1361365  0.8675271  0.        ]\n",
      " [2.1452308  0.9208204  0.7454193 ]\n",
      " [1.88055    0.76192486 0.936886  ]\n",
      " [2.263565   0.91980034 0.72691566]\n",
      " [2.263565   0.91980034 0.72691566]]\n",
      "Shape of the ACSF feature matrix (6, 3)\n"
     ]
    }
   ],
   "source": [
    "# Example of the atom-centered symmetry functions (ACSFs) \n",
    "# representation of methanol using DScribe\n",
    "# https://singroup.github.io/dscribe/0.4.x/tutorials/acsf.html\n",
    "#\n",
    "# From DScribe import the ACSF Class\n",
    "# DScribe: https://singroup.github.io/dscribe/latest/\n",
    "# \n",
    "# From the Atomic Simulation Environment (ASE) environment \n",
    "# import the function molecule which builds a molecule from\n",
    "# a database\n",
    "# ASE: https://wiki.fysik.dtu.dk/ase/\n",
    "# \n",
    "from dscribe.descriptors import ACSF\n",
    "from ase.build import molecule\n",
    "\n",
    "# Set up the ACSF descriptor \n",
    "acsf = ACSF(species=[\"H\", \"O\",\"C\"],rcut=6.0)\n",
    "\n",
    "# Generate methanol from the ASE database\n",
    "methanol = molecule(\"CH3OH\")\n",
    "\n",
    "# Create the methanol ACSFs\n",
    "acsf_methanol = acsf.create(methanol)\n",
    "\n",
    "# Print the ACSFs for methanol and the corresponding shape\n",
    "print(acsf_methanol)\n",
    "print('Shape of the ACSF feature matrix',acsf_methanol.shape)"
   ]
  },
  {
   "cell_type": "code",
   "execution_count": null,
   "id": "07c32f43-2883-4c44-a75b-13da1af05e8b",
   "metadata": {},
   "outputs": [],
   "source": []
  }
 ],
 "metadata": {
  "kernelspec": {
   "display_name": "Python 3 (ipykernel)",
   "language": "python",
   "name": "python3"
  },
  "language_info": {
   "codemirror_mode": {
    "name": "ipython",
    "version": 3
   },
   "file_extension": ".py",
   "mimetype": "text/x-python",
   "name": "python",
   "nbconvert_exporter": "python",
   "pygments_lexer": "ipython3",
   "version": "3.8.13"
  }
 },
 "nbformat": 4,
 "nbformat_minor": 5
}
