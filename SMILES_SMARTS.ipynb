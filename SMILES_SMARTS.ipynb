{
 "cells": [
  {
   "cell_type": "code",
   "execution_count": 1,
   "id": "cc3cb801-e5d3-493d-95ac-662c2e5bb196",
   "metadata": {},
   "outputs": [
    {
     "name": "stdout",
     "output_type": "stream",
     "text": [
      "[#6]1:[#6]:[#6]:[#6](-[#6]-[#6@@H]2-[#6]-[#8]-2):[#6]:[#6]:1\n",
      "c1ccc(C[C@@H]2CO2)cc1\n"
     ]
    }
   ],
   "source": [
    "# This example includes examples of SMARTS and SMILES\n",
    "# RDKit\n",
    "from rdkit.Chem import MolFromSmiles, MolToSmarts, MolToSmiles\n",
    "\n",
    "# Glycidol\n",
    "# mol=MolFromSmiles('OC[C@@H]1CO1')\n",
    "# 2-benzyloxirane\n",
    "mol=MolFromSmiles('c1ccc(C[C@@H]2CO2)cc1')\n",
    "# Print SMILES and SMARTS\n",
    "print(MolToSmarts(mol))\n",
    "print(MolToSmiles(mol))"
   ]
  }
 ],
 "metadata": {
  "kernelspec": {
   "display_name": "molecular_representation",
   "language": "python",
   "name": "molecular_representation"
  },
  "language_info": {
   "codemirror_mode": {
    "name": "ipython",
    "version": 3
   },
   "file_extension": ".py",
   "mimetype": "text/x-python",
   "name": "python",
   "nbconvert_exporter": "python",
   "pygments_lexer": "ipython3",
   "version": "3.8.14"
  }
 },
 "nbformat": 4,
 "nbformat_minor": 5
}
