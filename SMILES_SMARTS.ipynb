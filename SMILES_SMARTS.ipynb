{
 "cells": [
  {
   "cell_type": "code",
   "execution_count": 2,
   "id": "cc3cb801-e5d3-493d-95ac-662c2e5bb196",
   "metadata": {},
   "outputs": [
    {
     "name": "stdout",
     "output_type": "stream",
     "text": [
      "SMARTS [#6]1:[#6]:[#6]:[#6](-[#6]-[#6@@H]2-[#6]-[#8]-2):[#6]:[#6]:1\n",
      "SMILES c1ccc(C[C@@H]2CO2)cc1\n",
      "DeepSMILES ccccC[C@@H]CO3))))cc6\n",
      "SELFIES [C][=C][C][=C][Branch1][#Branch1][C][C@@H1][C][O][Ring1][Ring1][C][=C][Ring1][#Branch2]\n"
     ]
    }
   ],
   "source": [
    "# This example includes examples of SMARTS and SMILES\n",
    "# RDKit\n",
    "from rdkit.Chem import MolFromSmiles, MolToSmarts, MolToSmiles\n",
    "\n",
    "# Glycidol\n",
    "# mol=MolFromSmiles('OC[C@@H]1CO1')\n",
    "# 2-benzyloxirane\n",
    "mol=MolFromSmiles('c1ccc(C[C@@H]2CO2)cc1')\n",
    "# Print SMILES and SMARTS\n",
    "print('SMARTS',MolToSmarts(mol))\n",
    "print('SMILES',MolToSmiles(mol))\n",
    "\n",
    "# DeepSMILES example from:\n",
    "# https://github.com/baoilleach/deepsmiles\n",
    "import deepsmiles\n",
    "converter = deepsmiles.Converter(rings=True, branches=True)\n",
    "\n",
    "# DeepSMILES encoding of 2-benzyloxirane from canonical SMILES\n",
    "encoded = converter.encode('c1ccc(C[C@@H]2CO2)cc1')\n",
    "# Print the DeepSMILES\n",
    "print('DeepSMILES', encoded)\n",
    "\n",
    "# Example of SELFIES from:\n",
    "# https://github.com/aspuru-guzik-group/selfies\n",
    "import selfies \n",
    "\n",
    "# SMILES to SELFIES\n",
    "try:\n",
    "    selfie = selfies.encoder('c1ccc(C[C@@H]2CO2)cc1')  \n",
    "    # Print SELFIE\n",
    "    print('SELFIES',selfie)\n",
    "except selfies.EncoderError:\n",
    "    pass  # selfies.encoder error!\n",
    "except selfies.DecoderError:\n",
    "    pass  # selfies.decoder error!\n"
   ]
  },
  {
   "cell_type": "code",
   "execution_count": null,
   "id": "fd97a89d-9c8d-4248-93e0-804c62ab06cc",
   "metadata": {},
   "outputs": [],
   "source": []
  }
 ],
 "metadata": {
  "kernelspec": {
   "display_name": "molecular_representation",
   "language": "python",
   "name": "molecular_representation"
  },
  "language_info": {
   "codemirror_mode": {
    "name": "ipython",
    "version": 3
   },
   "file_extension": ".py",
   "mimetype": "text/x-python",
   "name": "python",
   "nbconvert_exporter": "python",
   "pygments_lexer": "ipython3",
   "version": "3.8.14"
  }
 },
 "nbformat": 4,
 "nbformat_minor": 5
}
