{
 "cells": [
  {
   "cell_type": "code",
   "execution_count": 2,
   "id": "c4d0f016-4b8d-40be-95ab-dc8df6753abb",
   "metadata": {},
   "outputs": [
    {
     "name": "stdout",
     "output_type": "stream",
     "text": [
      "<class 'ase.atoms.Atoms'>\n",
      "[[ 0.01351775  0.06629142  0.16094629 ...  0.21447571 -0.22148368\n",
      "   0.22873365]\n",
      " [ 0.0014784   0.00770228  0.02174748 ...  0.11766522 -0.18823848\n",
      "   0.30114017]\n",
      " [ 0.01324208  0.064094    0.15964831 ...  0.03648228 -0.08245972\n",
      "   0.20295852]\n",
      " ...\n",
      " [ 0.00611441  0.03079214  0.08635163 ...  0.16088625 -0.22291443\n",
      "   0.30973952]\n",
      " [ 0.01511665  0.07417158  0.18446582 ...  0.20048048 -0.18987821\n",
      "   0.20337657]\n",
      " [ 0.00080425  0.00389791  0.01053843 ...  0.11766522 -0.18823848\n",
      "   0.30114017]]\n",
      "Shape of the SOAP representation of glycidol (11, 2100)\n"
     ]
    }
   ],
   "source": [
    "# Example of generating a smooth overlap of atomic positions \n",
    "# (SOAPs) representation for glycidol using DScribe and\n",
    "# the Atomic Simulation Environment (ASE) environment \n",
    "#\n",
    "from dscribe.descriptors import SOAP\n",
    "from ase.io import read\n",
    "\n",
    "# Import the glycidol xyz \n",
    "mol = read('../glycidol.xyz')\n",
    "print(type(mol))\n",
    "\n",
    "\n",
    "# Set up the SOAP descriptor with parameters:\n",
    "# species, rcut, nmax, and lmax\n",
    "soap = SOAP(species=[\"H\", \"O\",\"C\"],rcut=6.0,nmax=8,lmax=6)\n",
    "\n",
    "\n",
    "# Create SOAP representation of glycidol\n",
    "soap_mol = soap.create(mol)\n",
    "\n",
    "# Print the SOAP representation for glycidol and the shape of the \n",
    "# feature vector \n",
    "print(soap_mol)\n",
    "print('Shape of the SOAP representation of glycidol',\n",
    "      soap_mol.shape)"
   ]
  },
  {
   "cell_type": "code",
   "execution_count": null,
   "id": "1b1d87c4-62fd-4347-aa07-c2211bf28a34",
   "metadata": {},
   "outputs": [],
   "source": []
  }
 ],
 "metadata": {
  "kernelspec": {
   "display_name": "Python 3 (ipykernel)",
   "language": "python",
   "name": "python3"
  },
  "language_info": {
   "codemirror_mode": {
    "name": "ipython",
    "version": 3
   },
   "file_extension": ".py",
   "mimetype": "text/x-python",
   "name": "python",
   "nbconvert_exporter": "python",
   "pygments_lexer": "ipython3",
   "version": "3.9.13"
  }
 },
 "nbformat": 4,
 "nbformat_minor": 5
}
