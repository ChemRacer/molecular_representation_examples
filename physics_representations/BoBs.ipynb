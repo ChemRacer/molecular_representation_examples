{
 "cells": [
  {
   "cell_type": "code",
   "execution_count": 1,
   "id": "1a006ae4-371f-41a8-8c8a-50789a63c90c",
   "metadata": {},
   "outputs": [
    {
     "name": "stdout",
     "output_type": "stream",
     "text": [
      "<chemml.chem.Molecule(\n",
      "        rdkit_molecule : <rdkit.Chem.rdchem.Mol object at 0x7fcdc7438b80>,\n",
      "        pybel_molecule : None,\n",
      "        creator        : ('SMILES', 'CO'),\n",
      "        smiles         : 'CO',\n",
      "        smarts         : None,\n",
      "        inchi          : None,\n",
      "        xyz            : <XYZ(geometry: (6, 3), atomic_numbers: (6, 1), atomic_symbols: (6, 1))>)>\n",
      "CO\n",
      "[['C']\n",
      " ['O']\n",
      " ['H']\n",
      " ['H']\n",
      " ['H']\n",
      " ['H']]\n",
      "featurizing molecules in batches of 1 ...\n",
      "1/1 [==================================================] - 7s 7s/step\n",
      "Merging batch features ...    [DONE]\n",
      "          0          1         2         3         4         5          6   \\\n",
      "0  36.858105  33.904673  5.491844  5.490692  5.490691  3.094722  73.516695   \n",
      "\n",
      "         7         8         9   ...   11   12   13   14        15        16  \\\n",
      "0  8.227491  3.901689  3.888509  ...  0.5  0.5  0.5  0.5  0.560849  0.560849   \n",
      "\n",
      "         17        18        19        20  \n",
      "0  0.558327  0.436414  0.436414  0.351751  \n",
      "\n",
      "[1 rows x 21 columns]\n"
     ]
    }
   ],
   "source": [
    "# Bag of Bonds (BoB) example using ChemML\n",
    "# https://hachmannlab.github.io/chemml/index.html\n",
    "# \n",
    "# Molecule uses the RDKit and OpenBabel APIs to construct molecules\n",
    "from chemml.chem import Molecule\n",
    "# ChemML's implementation of BoB\n",
    "from chemml.chem import BagofBonds\n",
    "\n",
    "# Generate the molecule using SMILES and using ChemML's \n",
    "# Molecule class\n",
    "methanol='CO'\n",
    "mol = Molecule(methanol, input_type='smiles')\n",
    "\n",
    "# Add hydrogens for safety and then perform a geometry optimization \n",
    "# using force fields\n",
    "mol.hydrogens('add')\n",
    "mol.to_xyz(optimizer='MMFF', mmffVariant='MMFF94s', maxIters=300)\n",
    "\n",
    "# Print the Molecule class for methanol\n",
    "print(mol)\n",
    "\n",
    "# Print SMILES (should be the same as defined above)\n",
    "print(mol.smiles)\n",
    "\n",
    "# Print the atom symbols, should include the missing hydrogens\n",
    "print(mol.xyz.atomic_symbols)\n",
    "mol.visualize()\n",
    "\n",
    "# Set BoB parameters\n",
    "bob = BagofBonds(const= 1.0)\n",
    "\n",
    "# Returns a Pandas dataframe\n",
    "features = bob.represent(mol)\n",
    "\n",
    "# Print the BoB vector\n",
    "print(features)"
   ]
  }
 ],
 "metadata": {
  "kernelspec": {
   "display_name": "Python 3 (ipykernel)",
   "language": "python",
   "name": "python3"
  },
  "language_info": {
   "codemirror_mode": {
    "name": "ipython",
    "version": 3
   },
   "file_extension": ".py",
   "mimetype": "text/x-python",
   "name": "python",
   "nbconvert_exporter": "python",
   "pygments_lexer": "ipython3",
   "version": "3.8.13"
  }
 },
 "nbformat": 4,
 "nbformat_minor": 5
}
