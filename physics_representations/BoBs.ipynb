{
 "cells": [
  {
   "cell_type": "code",
   "execution_count": 1,
   "id": "1a006ae4-371f-41a8-8c8a-50789a63c90c",
   "metadata": {},
   "outputs": [
    {
     "ename": "ModuleNotFoundError",
     "evalue": "No module named 'chemml'",
     "output_type": "error",
     "traceback": [
      "\u001b[0;31m---------------------------------------------------------------------------\u001b[0m",
      "\u001b[0;31mModuleNotFoundError\u001b[0m                       Traceback (most recent call last)",
      "Input \u001b[0;32mIn [1]\u001b[0m, in \u001b[0;36m<cell line: 5>\u001b[0;34m()\u001b[0m\n\u001b[1;32m      1\u001b[0m \u001b[38;5;66;03m# Bag of Bonds (BoB) example using ChemML\u001b[39;00m\n\u001b[1;32m      2\u001b[0m \u001b[38;5;66;03m# https://hachmannlab.github.io/chemml/index.html\u001b[39;00m\n\u001b[1;32m      3\u001b[0m \u001b[38;5;66;03m# \u001b[39;00m\n\u001b[1;32m      4\u001b[0m \u001b[38;5;66;03m# Molecule uses the RDKit and OpenBabel APIs to construct molecules\u001b[39;00m\n\u001b[0;32m----> 5\u001b[0m \u001b[38;5;28;01mfrom\u001b[39;00m \u001b[38;5;21;01mchemml\u001b[39;00m\u001b[38;5;21;01m.\u001b[39;00m\u001b[38;5;21;01mchem\u001b[39;00m \u001b[38;5;28;01mimport\u001b[39;00m Molecule\n\u001b[1;32m      6\u001b[0m \u001b[38;5;66;03m# ChemML's implementation of BoB\u001b[39;00m\n\u001b[1;32m      7\u001b[0m \u001b[38;5;28;01mfrom\u001b[39;00m \u001b[38;5;21;01mchemml\u001b[39;00m\u001b[38;5;21;01m.\u001b[39;00m\u001b[38;5;21;01mchem\u001b[39;00m \u001b[38;5;28;01mimport\u001b[39;00m BagofBonds\n",
      "\u001b[0;31mModuleNotFoundError\u001b[0m: No module named 'chemml'"
     ]
    }
   ],
   "source": [
    "# Bag of Bonds (BoB) example using ChemML\n",
    "# https://hachmannlab.github.io/chemml/index.html\n",
    "# \n",
    "# Molecule uses the RDKit and OpenBabel APIs to construct molecules\n",
    "from chemml.chem import Molecule\n",
    "# ChemML's implementation of BoB\n",
    "from chemml.chem import BagofBonds\n",
    "\n",
    "# Generate the molecule using SMILES and using ChemML's \n",
    "# Molecule class\n",
    "methanol='CO'\n",
    "mol = Molecule(methanol, input_type='smiles')\n",
    "\n",
    "# Add hydrogens for safety and then perform a geometry optimization \n",
    "# using force fields\n",
    "mol.hydrogens('add')\n",
    "mol.to_xyz(optimizer='MMFF', mmffVariant='MMFF94s', maxIters=300)\n",
    "\n",
    "# Print the Molecule class for methanol\n",
    "print(mol)\n",
    "\n",
    "# Print SMILES (should be the same as defined above)\n",
    "print(mol.smiles)\n",
    "\n",
    "# Print the atom symbols, should include the missing hydrogens\n",
    "print(mol.xyz.atomic_symbols)\n",
    "mol.visualize()\n",
    "\n",
    "# Set BoB parameters\n",
    "bob = BagofBonds(const= 1.0)\n",
    "\n",
    "# Returns a Pandas dataframe\n",
    "features = bob.represent(mol)\n",
    "\n",
    "# Print the BoB vector\n",
    "print(features)"
   ]
  },
  {
   "cell_type": "code",
   "execution_count": null,
   "id": "a1ad4d00-77af-4c6c-bc52-d2d0e168010b",
   "metadata": {},
   "outputs": [],
   "source": []
  }
 ],
 "metadata": {
  "kernelspec": {
   "display_name": "Python 3 (ipykernel)",
   "language": "python",
   "name": "python3"
  },
  "language_info": {
   "codemirror_mode": {
    "name": "ipython",
    "version": 3
   },
   "file_extension": ".py",
   "mimetype": "text/x-python",
   "name": "python",
   "nbconvert_exporter": "python",
   "pygments_lexer": "ipython3",
   "version": "3.9.13"
  }
 },
 "nbformat": 4,
 "nbformat_minor": 5
}
