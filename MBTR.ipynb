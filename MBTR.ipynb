{
 "cells": [
  {
   "cell_type": "code",
   "execution_count": 4,
   "id": "c4d0f016-4b8d-40be-95ab-dc8df6753abb",
   "metadata": {},
   "outputs": [
    {
     "name": "stdout",
     "output_type": "stream",
     "text": [
      "[0. 0. 0. ... 0. 0. 0.]\n",
      "Shape of the MBTR representation of methanol (1800,)\n"
     ]
    }
   ],
   "source": [
    "# Example of generating a many-body tensor representation\n",
    "# (MBTRs) representation for methanol \n",
    "# using DScribe\n",
    "# https://singroup.github.io/dscribe/latest/tutorials/descriptors\n",
    "#  /mbtr.html\n",
    "# \n",
    "# From DScribe import the MBTR Class\n",
    "# DScribe: https://singroup.github.io/dscribe/latest/\n",
    "#\n",
    "# From the Atomic Simulation Environment (ASE) environment \n",
    "# import the function molecule which builds a molecule from\n",
    "# a database\n",
    "# ASE: https://wiki.fysik.dtu.dk/ase/\n",
    "from dscribe.descriptors import MBTR\n",
    "from ase.build import molecule\n",
    "\n",
    "# Set up the MBTR descriptor with parameters:\n",
    "# species, rcut, nmax, and lmax\n",
    "mbtr = MBTR(species=[\"H\", \"O\",\"C\"],\n",
    "    k1={\n",
    "        \"geometry\": {\"function\": \"atomic_number\"},\n",
    "        \"grid\": {\"min\": 0, \"max\": 8, \"n\": 100, \"sigma\": 0.1},\n",
    "    },\n",
    "    k2={\n",
    "        \"geometry\": {\"function\": \"inverse_distance\"},\n",
    "        \"grid\": {\"min\": 0, \"max\": 1, \"n\": 100, \"sigma\": 0.1},\n",
    "        \"weighting\": {\"function\": \"exp\", \"scale\": 0.5, \n",
    "                      \"threshold\": 1e-3},\n",
    "    },\n",
    "    k3 = {\n",
    "        \"geometry\": {\"function\": \"angle\"},\n",
    "        \"grid\": {\"min\": 0, \"max\": 180, \"sigma\": 5, \"n\": 50},\n",
    "        \"weighting\" : {\"function\": \"exp\", \"r_cut\": 10, \n",
    "                       \"threshold\": 1e-3}\n",
    "    },\n",
    "    periodic=False,\n",
    "    normalization=\"l2_each\",)\n",
    "\n",
    "# Generate methanol from a database\n",
    "methanol = molecule(\"CH3OH\")\n",
    "\n",
    "# Create MBTR representation of methanol\n",
    "mbtr_methanol = mbtr.create(methanol)\n",
    "\n",
    "# Print the MBTR representation for methanol and the shape of the \n",
    "# feature vector \n",
    "print(mbtr_methanol)\n",
    "print('Shape of the MBTR representation of methanol',\n",
    "      mbtr_methanol.shape)"
   ]
  },
  {
   "cell_type": "code",
   "execution_count": null,
   "id": "1b1d87c4-62fd-4347-aa07-c2211bf28a34",
   "metadata": {},
   "outputs": [],
   "source": []
  }
 ],
 "metadata": {
  "kernelspec": {
   "display_name": "Python 3 (ipykernel)",
   "language": "python",
   "name": "python3"
  },
  "language_info": {
   "codemirror_mode": {
    "name": "ipython",
    "version": 3
   },
   "file_extension": ".py",
   "mimetype": "text/x-python",
   "name": "python",
   "nbconvert_exporter": "python",
   "pygments_lexer": "ipython3",
   "version": "3.9.13"
  }
 },
 "nbformat": 4,
 "nbformat_minor": 5
}
