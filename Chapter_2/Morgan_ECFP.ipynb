{
  "cells": [
    {
      "cell_type": "markdown",
      "metadata": {
        "id": "view-in-github",
        "colab_type": "text"
      },
      "source": [
        "<a href=\"https://colab.research.google.com/github/ChemRacer/molecular_representation_examples/blob/main/Chapter_2/Morgan_ECFP.ipynb\" target=\"_parent\"><img src=\"https://colab.research.google.com/assets/colab-badge.svg\" alt=\"Open In Colab\"/></a>"
      ]
    },
    {
      "cell_type": "code",
      "execution_count": null,
      "id": "cc3cb801-e5d3-493d-95ac-662c2e5bb196",
      "metadata": {
        "id": "cc3cb801-e5d3-493d-95ac-662c2e5bb196"
      },
      "outputs": [],
      "source": [
        "!python -m pip install rdkit\n",
        "\n",
        "from google.colab import drive\n",
        "drive.mount('/content/drive')\n",
        "%cd /content/drive/MyDrive/Colab Notebooks/Molecular_representations/molecular_representation_examples/Chapter_2/"
      ]
    },
    {
      "cell_type": "code",
      "execution_count": null,
      "id": "f24e5590-7ddf-4a8c-a611-2710680431d7",
      "metadata": {
        "id": "f24e5590-7ddf-4a8c-a611-2710680431d7"
      },
      "outputs": [],
      "source": [
        "# This is an example of Morgan fingerprints as implemented in RDKit\n",
        "from rdkit import Chem\n",
        "from rdkit.Chem import AllChem\n",
        "from rdkit.Chem import MolFromSmiles,MolToSmiles\n",
        "from rdkit.Chem import Draw\n",
        "from rdkit.Chem.Draw import rdMolDraw2D\n",
        "# Glycidol\n",
        "# smi='OC[C@@H]1CO1'\n",
        "# 2-benzyloxirane\n",
        "smi='c1ccc(C[CH]2CO2)cc1'\n",
        "mol=MolFromSmiles(smi)\n",
        "\n",
        "# Prepare an interpretable Morgan Fingerprint instance\n",
        "info={}\n",
        "fp = AllChem.GetMorganFingerprint(mol,2,bitInfo=info)\n",
        "\n",
        "# info will be a dictionary with bit id keys and \n",
        "# values of (atom index, radius)\n",
        "print(info)\n",
        "# The first bit, 98513984, is set three times: \n",
        "#    ((1, 1), (0, 1), (9, 1)).\n",
        "# This means that it is set by atom 1, 0, and 9 at radius 1."
      ]
    }
  ],
  "metadata": {
    "kernelspec": {
      "display_name": "Python 3 (ipykernel)",
      "language": "python",
      "name": "python3"
    },
    "language_info": {
      "codemirror_mode": {
        "name": "ipython",
        "version": 3
      },
      "file_extension": ".py",
      "mimetype": "text/x-python",
      "name": "python",
      "nbconvert_exporter": "python",
      "pygments_lexer": "ipython3",
      "version": "3.9.13"
    },
    "colab": {
      "provenance": [],
      "private_outputs": true,
      "include_colab_link": true
    },
    "gpuClass": "standard"
  },
  "nbformat": 4,
  "nbformat_minor": 5
}