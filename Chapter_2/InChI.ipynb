{
 "cells": [
  {
   "cell_type": "markdown",
   "id": "4637f3e1",
   "metadata": {
    "colab_type": "text",
    "id": "view-in-github"
   },
   "source": [
    "<a href=\"https://colab.research.google.com/github/ChemRacer/molecular_representation_examples/blob/main/Chapter_2/InChI.ipynb\" target=\"_parent\"><img src=\"https://colab.research.google.com/assets/colab-badge.svg\" alt=\"Open In Colab\"/></a>"
   ]
  },
  {
   "cell_type": "code",
   "execution_count": null,
   "id": "cc3cb801-e5d3-493d-95ac-662c2e5bb196",
   "metadata": {
    "id": "cc3cb801-e5d3-493d-95ac-662c2e5bb196"
   },
   "outputs": [],
   "source": [
    "!python -m pip install rdkit\n",
    "\n",
    "\n",
    "from google.colab import drive\n",
    "drive.mount('/content/drive')\n",
    "%cd /content/drive/MyDrive/Colab Notebooks/Molecular_representations/molecular_representation_examples/Chapter_2/"
   ]
  },
  {
   "cell_type": "code",
   "execution_count": null,
   "id": "23b9f43c-b3d1-4f8c-82e7-7a26767703e7",
   "metadata": {
    "id": "23b9f43c-b3d1-4f8c-82e7-7a26767703e7"
   },
   "outputs": [],
   "source": [
    "# This is an example of InChI and InChI key as implemented in RDKit\n",
    "from rdkit import Chem\n",
    "from rdkit.Chem import AllChem\n",
    "from rdkit.Chem import MolFromSmiles,InchiToInchiKey,MolToInchi\n",
    "from rdkit.Chem import Draw\n",
    "from rdkit.Chem.Draw import rdMolDraw2D\n",
    "# Glycidol\n",
    "# smi='C1C(O1)CO'\n",
    "# 2-benzyloxirane\n",
    "smi='c1ccc(C[CH]2CO2)cc1'\n",
    "mol=MolFromSmiles(smi)\n",
    "# RDKit mol object to InChI\n",
    "print(MolToInchi(mol))\n",
    "# InChI to InChIKey\n",
    "print(InchiToInchiKey(MolToInchi(mol)))"
   ]
  },
  {
   "cell_type": "code",
   "execution_count": null,
   "id": "6474348a-a688-4274-a1d0-560c5526a59a",
   "metadata": {
    "id": "6474348a-a688-4274-a1d0-560c5526a59a"
   },
   "outputs": [],
   "source": []
  }
 ],
 "metadata": {
  "colab": {
   "include_colab_link": true,
   "private_outputs": true,
   "provenance": []
  },
  "gpuClass": "standard",
  "kernelspec": {
   "display_name": "Python 3 (ipykernel)",
   "language": "python",
   "name": "python3"
  },
  "language_info": {
   "codemirror_mode": {
    "name": "ipython",
    "version": 3
   },
   "file_extension": ".py",
   "mimetype": "text/x-python",
   "name": "python",
   "nbconvert_exporter": "python",
   "pygments_lexer": "ipython3",
   "version": "3.9.13"
  }
 },
 "nbformat": 4,
 "nbformat_minor": 5
}
