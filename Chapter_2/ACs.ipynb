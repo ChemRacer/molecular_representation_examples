{
  "cells": [
    {
      "cell_type": "markdown",
      "metadata": {
        "id": "view-in-github",
        "colab_type": "text"
      },
      "source": [
        "<a href=\"https://colab.research.google.com/github/ChemRacer/molecular_representation_examples/blob/main/Chapter_2/ACs.ipynb\" target=\"_parent\"><img src=\"https://colab.research.google.com/assets/colab-badge.svg\" alt=\"Open In Colab\"/></a>"
      ]
    },
    {
      "cell_type": "code",
      "execution_count": null,
      "id": "fa102c7c-dc3b-47a4-ae45-932cf1d486fd",
      "metadata": {
        "id": "fa102c7c-dc3b-47a4-ae45-932cf1d486fd"
      },
      "outputs": [],
      "source": [
        "from google.colab import drive\n",
        "drive.mount('/content/drive')\n",
        "%cd /content/drive/MyDrive/Colab Notebooks/Molecular_representations/molecular_representation_examples/Chapter_2"
      ]
    },
    {
      "cell_type": "code",
      "source": [
        "!pip install -q condacolab\n",
        "import condacolab\n",
        "condacolab.install()\n",
        "condacolab.check()"
      ],
      "metadata": {
        "id": "vn41e8OqNCNq"
      },
      "id": "vn41e8OqNCNq",
      "execution_count": null,
      "outputs": []
    },
    {
      "cell_type": "code",
      "source": [
        "# Uncomment if the repository isn't clone yet\n",
        "# !git clone https://github.com/hjkgrp/molSimplify.git"
      ],
      "metadata": {
        "id": "YUl9WcptK84i"
      },
      "id": "YUl9WcptK84i",
      "execution_count": null,
      "outputs": []
    },
    {
      "cell_type": "code",
      "source": [
        "%%bash\n",
        "# Move to path where the yml files are to create the conda env\n",
        "cd /content/drive/MyDrive/Colab\\ Notebooks/Molecular_representations/molecular_representation_examples/Chapter_2/molSimplify/devtools/conda-envs\n",
        "echo $PWD\n",
        "mamba env list\n",
        "mamba activate base\n",
        "mamba env update -n base -f mols_minimal.yml\n",
        "\n",
        "# Move back to top directory and install molSimplify\n",
        "cd /content/drive/MyDrive/Colab\\ Notebooks/Molecular_representations/molecular_representation_examples/Chapter_2/molSimplify/ && echo \"$PWD\" && python -m pip install -e . --no-deps\n",
        "source activate base\n",
        "\n",
        "# Check python version\n",
        "which python \n",
        "python --version\n",
        "\n",
        "python\n",
        "import sys\n",
        "print(sys.path)\n",
        "print(\"Python version\")\n",
        "print(sys.version)\n",
        "\n",
        "\n",
        "# An example of Autocorrelation Functions (ACs)\n",
        "# using MolSimplify \n",
        "import molSimplify.Informatics.autocorrelation as ac\n",
        "from molSimplify.Classes.mol3D import mol3D\n",
        "import pandas as pd\n",
        "\n",
        "# Create mol object from xyz using the mol3D class\n",
        "mol = mol3D()\n",
        "mol.readfromxyz('/content/drive/MyDrive/Colab Notebooks/Molecular_representations/molecular_representation_examples/example_structures/glycidol.xyz')\n",
        "\n",
        "\n",
        "# Create the ACs for the full structure with depth 0 to depth 1\n",
        "# \n",
        "# chi - electronegativity\n",
        "# Z - nuclear charge\n",
        "# I - identiy, i.e. 1 for\n",
        "# T - atom coordination number\n",
        "# S - covalent atomic radius\n",
        "acs = ac.generate_full_complex_autocorrelations(mol,depth=1,\n",
        "                                                 loud=False)\n",
        "# print dictionary containing acs\n",
        "print(acs)\n",
        "\n",
        "# Make a Pandas DataFrame to view the features together with \n",
        "# the feature name and depth, i.e. featurename-depth\n",
        "df_feat=pd.DataFrame(zip(sum(acs['colnames'],[]),\n",
        "                         sum(map(list,acs['results']),[])),\n",
        "                     columns=['Feature Name','Features'])\n",
        "print(df_feat)"
      ],
      "metadata": {
        "id": "BNppItaJzdtA"
      },
      "id": "BNppItaJzdtA",
      "execution_count": null,
      "outputs": []
    }
  ],
  "metadata": {
    "kernelspec": {
      "display_name": "molsimplify",
      "language": "python",
      "name": "molsimplify"
    },
    "language_info": {
      "codemirror_mode": {
        "name": "ipython",
        "version": 3
      },
      "file_extension": ".py",
      "mimetype": "text/x-python",
      "name": "python",
      "nbconvert_exporter": "python",
      "pygments_lexer": "ipython3",
      "version": "3.8.12"
    },
    "colab": {
      "provenance": [],
      "private_outputs": true,
      "include_colab_link": true
    },
    "gpuClass": "standard"
  },
  "nbformat": 4,
  "nbformat_minor": 5
}