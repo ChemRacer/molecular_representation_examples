{
  "cells": [
    {
      "cell_type": "markdown",
      "metadata": {
        "id": "view-in-github",
        "colab_type": "text"
      },
      "source": [
        "<a href=\"https://colab.research.google.com/github/ChemRacer/molecular_representation_examples/blob/main/Chapter_2/ACs.ipynb\" target=\"_parent\"><img src=\"https://colab.research.google.com/assets/colab-badge.svg\" alt=\"Open In Colab\"/></a>"
      ]
    },
    {
      "cell_type": "code",
      "execution_count": null,
      "id": "fa102c7c-dc3b-47a4-ae45-932cf1d486fd",
      "metadata": {
        "id": "fa102c7c-dc3b-47a4-ae45-932cf1d486fd"
      },
      "outputs": [],
      "source": [
        "from google.colab import drive\n",
        "drive.mount('/content/drive')\n",
        "%cd /content/drive/MyDrive/Colab Notebooks/Molecular_representations/molecular_representation_examples/Chapter_2"
      ]
    },
    {
      "cell_type": "code",
      "source": [
        "!pip install -q condacolab\n",
        "import condacolab\n",
        "condacolab.install()"
      ],
      "metadata": {
        "id": "vn41e8OqNCNq"
      },
      "id": "vn41e8OqNCNq",
      "execution_count": null,
      "outputs": []
    },
    {
      "cell_type": "code",
      "source": [
        "!conda --version\n",
        "# !git clone https://github.com/hjkgrp/molSimplify.git\n",
        "%cd molSimplify/devtools/conda-envs\n",
        "!pwd\n",
        "!conda env create -f mols.yml\n",
        "!conda activate mols_test\n",
        "%cd ../\n",
        "!pip install -e ."
      ],
      "metadata": {
        "id": "5RuB95ubcZXB"
      },
      "id": "5RuB95ubcZXB",
      "execution_count": null,
      "outputs": []
    },
    {
      "cell_type": "code",
      "source": [],
      "metadata": {
        "id": "o7OZJRZn3pBw"
      },
      "id": "o7OZJRZn3pBw",
      "execution_count": null,
      "outputs": []
    },
    {
      "cell_type": "markdown",
      "source": [],
      "metadata": {
        "id": "0j337aRj3pGc"
      },
      "id": "0j337aRj3pGc"
    },
    {
      "cell_type": "code",
      "execution_count": null,
      "id": "134bff2a-c15d-4d1c-b5a7-ca1c3815aa0a",
      "metadata": {
        "id": "134bff2a-c15d-4d1c-b5a7-ca1c3815aa0a"
      },
      "outputs": [],
      "source": [
        "# An example of Autocorrelation Functions (ACs)\n",
        "# using MolSimplify \n",
        "import molSimplify.Informatics.autocorrelation as ac\n",
        "from molSimplify.Classes.mol3D import mol3D\n",
        "import pandas as pd\n",
        "\n",
        "# Create mol object from xyz using the mol3D class\n",
        "mol = mol3D()\n",
        "mol.readfromxyz('/content/drive/MyDrive/Colab\\ Notebooks/Molecular_representations/molecular_representation_examples/example_structures/glycidol.xyz')\n",
        "\n",
        "\n",
        "# Create the ACs for the full structure with depth 0 to depth 1\n",
        "# \n",
        "# chi - electronegativity\n",
        "# Z - nuclear charge\n",
        "# I - identiy, i.e. 1 for\n",
        "# T - atom coordination number\n",
        "# S - covalent atomic radius\n",
        "acs = ac.generate_full_complex_autocorrelations(mol,depth=1,\n",
        "                                                 loud=False)\n",
        "# print dictionary containing acs\n",
        "print(acs)\n",
        "\n",
        "# Make a Pandas DataFrame to view the features together with \n",
        "# the feature name and depth, i.e. featurename-depth\n",
        "df_feat=pd.DataFrame(zip(sum(acs['colnames'],[]),\n",
        "                         sum(map(list,acs['results']),[])),\n",
        "                     columns=['Feature Name','Features'])\n",
        "print(df_feat)"
      ]
    },
    {
      "cell_type": "code",
      "source": [],
      "metadata": {
        "id": "sau4qTr1b8En"
      },
      "id": "sau4qTr1b8En",
      "execution_count": null,
      "outputs": []
    }
  ],
  "metadata": {
    "kernelspec": {
      "display_name": "molsimplify",
      "language": "python",
      "name": "molsimplify"
    },
    "language_info": {
      "codemirror_mode": {
        "name": "ipython",
        "version": 3
      },
      "file_extension": ".py",
      "mimetype": "text/x-python",
      "name": "python",
      "nbconvert_exporter": "python",
      "pygments_lexer": "ipython3",
      "version": "3.8.12"
    },
    "colab": {
      "provenance": [],
      "private_outputs": true,
      "include_colab_link": true
    },
    "gpuClass": "standard"
  },
  "nbformat": 4,
  "nbformat_minor": 5
}