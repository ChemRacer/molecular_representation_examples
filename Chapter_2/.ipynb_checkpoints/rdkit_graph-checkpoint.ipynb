{
 "cells": [
  {
   "cell_type": "code",
   "execution_count": null,
   "id": "075ec303-0d9a-4f1a-8d90-f84f1c3bc77b",
   "metadata": {},
   "outputs": [],
   "source": [
    "!python -m pip install rdkit"
   ]
  },
  {
   "cell_type": "code",
   "execution_count": null,
   "id": "8bba3e16-a6f8-4ca8-9403-0382c357b3d1",
   "metadata": {},
   "outputs": [],
   "source": [
    "# This example includes examples of adjacency and distance matrices\n",
    "from rdkit.Chem import MolFromSmiles, MolToSmiles, rdmolops\n",
    "from rdkit.Chem import rdDistGeom, AllChem\n",
    "\n",
    "# Glycidol\n",
    "smi='OCC1CO1'\n",
    "# 2-benzyloxirane\n",
    "# smi='c1ccc(C[CH]2CO2)cc1'\n",
    "mol=MolFromSmiles(smi)\n",
    "\n",
    "# Print SMILES\n",
    "print('SMILES',MolToSmiles(mol))\n",
    "\n",
    "# Print the adjacency matrix\n",
    "A=rdmolops.GetAdjacencyMatrix(mol)\n",
    "print(A)\n",
    "\n",
    "# Print the distance matrix in two formats\n",
    "# Format 1: topological distance\n",
    "# Format 2: 2D geometric distances\n",
    "# Format 3: 3D geometric distances\n",
    "print(rdmolops.GetDistanceMatrix(mol))\n",
    "print(rdDistGeom.GetMoleculeBoundsMatrix(mol))\n",
    "AllChem.EmbedMolecule(mol) \n",
    "D=AllChem.Get3DDistanceMatrix(mol)\n",
    "\n",
    "# The weighed adjacency matrix can be formed via\n",
    "print(A*D)"
   ]
  },
  {
   "cell_type": "code",
   "execution_count": null,
   "id": "2603ee58-533a-4556-affc-14215750168d",
   "metadata": {},
   "outputs": [],
   "source": []
  }
 ],
 "metadata": {
  "kernelspec": {
   "display_name": "molecular_representation",
   "language": "python",
   "name": "molecular_representation"
  },
  "language_info": {
   "codemirror_mode": {
    "name": "ipython",
    "version": 3
   },
   "file_extension": ".py",
   "mimetype": "text/x-python",
   "name": "python",
   "nbconvert_exporter": "python",
   "pygments_lexer": "ipython3",
   "version": "3.8.14"
  }
 },
 "nbformat": 4,
 "nbformat_minor": 5
}
