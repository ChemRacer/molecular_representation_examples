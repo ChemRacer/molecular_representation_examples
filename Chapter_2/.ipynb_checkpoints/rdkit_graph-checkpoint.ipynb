{
 "cells": [
  {
   "cell_type": "code",
   "execution_count": 1,
   "id": "075ec303-0d9a-4f1a-8d90-f84f1c3bc77b",
   "metadata": {},
   "outputs": [
    {
     "name": "stdout",
     "output_type": "stream",
     "text": [
      "Requirement already satisfied: rdkit in /Users/voglab04/miniconda3/lib/python3.9/site-packages (2022.9.1)\n",
      "Requirement already satisfied: Pillow in /Users/voglab04/miniconda3/lib/python3.9/site-packages (from rdkit) (9.3.0)\n",
      "Requirement already satisfied: numpy in /Users/voglab04/miniconda3/lib/python3.9/site-packages (from rdkit) (1.23.5)\n"
     ]
    }
   ],
   "source": [
    "!python -m pip install rdkit"
   ]
  },
  {
   "cell_type": "code",
   "execution_count": 2,
   "id": "8bba3e16-a6f8-4ca8-9403-0382c357b3d1",
   "metadata": {},
   "outputs": [
    {
     "name": "stdout",
     "output_type": "stream",
     "text": [
      "SMILES OCC1CO1\n",
      "[[0 1 0 0 0]\n",
      " [1 0 1 0 0]\n",
      " [0 1 0 1 1]\n",
      " [0 0 1 0 1]\n",
      " [0 0 1 1 0]]\n",
      "[[0. 1. 2. 3. 3.]\n",
      " [1. 0. 1. 2. 2.]\n",
      " [2. 1. 0. 1. 1.]\n",
      " [3. 2. 1. 0. 1.]\n",
      " [3. 2. 1. 1. 0.]]\n",
      "[[0.         1.40384485 2.41567928 3.76020545 3.64656796]\n",
      " [1.38384485 0.         1.524      2.60788964 2.50681417]\n",
      " [2.33567928 1.504      0.         1.524      1.49764137]\n",
      " [2.64338459 2.52788964 1.35384485 0.         1.49764137]\n",
      " [2.59101724 2.42681417 1.38384485 1.38384485 0.        ]]\n",
      "[[0.         1.37201492 0.         0.         0.        ]\n",
      " [1.37201492 0.         1.48813985 0.         0.        ]\n",
      " [0.         1.48813985 0.         1.34454809 1.39165309]\n",
      " [0.         0.         1.34454809 0.         1.44328178]\n",
      " [0.         0.         1.39165309 1.44328178 0.        ]]\n"
     ]
    },
    {
     "name": "stderr",
     "output_type": "stream",
     "text": [
      "[16:59:18] Molecule does not have explicit Hs. Consider calling AddHs()\n"
     ]
    }
   ],
   "source": [
    "# This example includes examples of adjacency and distance matrices\n",
    "from rdkit.Chem import MolFromSmiles, MolToSmiles, rdmolops\n",
    "from rdkit.Chem import rdDistGeom, AllChem\n",
    "\n",
    "# Glycidol\n",
    "smi='OCC1CO1'\n",
    "# 2-benzyloxirane\n",
    "# smi='c1ccc(C[CH]2CO2)cc1'\n",
    "mol=MolFromSmiles(smi)\n",
    "\n",
    "# Print SMILES\n",
    "print('SMILES',MolToSmiles(mol))\n",
    "\n",
    "# Print the adjacency matrix\n",
    "A=rdmolops.GetAdjacencyMatrix(mol)\n",
    "print(A)\n",
    "\n",
    "# Print the distance matrix in two formats\n",
    "# Format 1: topological distance\n",
    "# Format 2: 2D geometric distances\n",
    "# Format 3: 3D geometric distances\n",
    "print(rdmolops.GetDistanceMatrix(mol))\n",
    "print(rdDistGeom.GetMoleculeBoundsMatrix(mol))\n",
    "AllChem.EmbedMolecule(mol) \n",
    "D=AllChem.Get3DDistanceMatrix(mol)\n",
    "\n",
    "# The weighed adjacency matrix can be formed via\n",
    "print(A*D)"
   ]
  }
 ],
 "metadata": {
  "kernelspec": {
   "display_name": "molecular_representation",
   "language": "python",
   "name": "molecular_representation"
  },
  "language_info": {
   "codemirror_mode": {
    "name": "ipython",
    "version": 3
   },
   "file_extension": ".py",
   "mimetype": "text/x-python",
   "name": "python",
   "nbconvert_exporter": "python",
   "pygments_lexer": "ipython3",
   "version": "3.8.14"
  }
 },
 "nbformat": 4,
 "nbformat_minor": 5
}
