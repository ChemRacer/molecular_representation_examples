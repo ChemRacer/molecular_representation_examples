{
 "cells": [
  {
   "cell_type": "markdown",
   "id": "a2091490",
   "metadata": {
    "colab_type": "text",
    "id": "view-in-github"
   },
   "source": [
    "<a href=\"https://colab.research.google.com/github/ChemRacer/molecular_representation_examples/blob/main/Chapter_2/SMILES_SMARTS.ipynb\" target=\"_parent\"><img src=\"https://colab.research.google.com/assets/colab-badge.svg\" alt=\"Open In Colab\"/></a>"
   ]
  },
  {
   "cell_type": "code",
   "execution_count": 1,
   "id": "cc3cb801-e5d3-493d-95ac-662c2e5bb196",
   "metadata": {
    "id": "cc3cb801-e5d3-493d-95ac-662c2e5bb196"
   },
   "outputs": [
    {
     "name": "stdout",
     "output_type": "stream",
     "text": [
      "Requirement already satisfied: rdkit in /Users/voglab04/miniconda3/lib/python3.9/site-packages (2022.9.1)\n",
      "Requirement already satisfied: deepsmiles in /Users/voglab04/miniconda3/lib/python3.9/site-packages (1.0.1)\n",
      "Requirement already satisfied: selfies in /Users/voglab04/miniconda3/lib/python3.9/site-packages (2.1.1)\n",
      "Requirement already satisfied: numpy in /Users/voglab04/miniconda3/lib/python3.9/site-packages (from rdkit) (1.23.5)\n",
      "Requirement already satisfied: Pillow in /Users/voglab04/miniconda3/lib/python3.9/site-packages (from rdkit) (9.3.0)\n"
     ]
    }
   ],
   "source": [
    "!python -m pip install rdkit deepsmiles selfies "
   ]
  },
  {
   "cell_type": "code",
   "execution_count": 1,
   "id": "fd97a89d-9c8d-4248-93e0-804c62ab06cc",
   "metadata": {
    "id": "fd97a89d-9c8d-4248-93e0-804c62ab06cc"
   },
   "outputs": [
    {
     "name": "stdout",
     "output_type": "stream",
     "text": [
      "SMARTS [#6]1-[#6](-[#8]-1)-[#6]-[#8]\n",
      "SMILES OCC1CO1\n",
      "DeepSMILES OCCCO3\n",
      "SELFIES [O][C][C][C][O][Ring1][Ring1]\n"
     ]
    }
   ],
   "source": [
    "# This example includes examples of SMARTS and SMILES\n",
    "# RDKit\n",
    "from rdkit.Chem import MolFromSmiles, MolToSmarts, MolToSmiles\n",
    "# Glycidol\n",
    "smi='C1C(O1)CO'\n",
    "# 2-benzyloxirane\n",
    "# smi='c1ccc(C[CH]2CO2)cc1'\n",
    "mol=MolFromSmiles(smi)\n",
    "\n",
    "# Use RDKit canonicalization\n",
    "smi=MolToSmiles(mol)\n",
    "# Print SMILES and SMARTS\n",
    "print('SMARTS',MolToSmarts(mol))\n",
    "print('SMILES',MolToSmiles(mol))\n",
    "\n",
    "# DeepSMILES\n",
    "import deepsmiles\n",
    "converter = deepsmiles.Converter(rings=True, branches=True)\n",
    "\n",
    "# DeepSMILES encoding of 2-benzyloxirane from canonical SMILES\n",
    "encoded = converter.encode(smi)\n",
    "# Print the DeepSMILES\n",
    "print('DeepSMILES', encoded)\n",
    "\n",
    "# Example of SELFIES\n",
    "import selfies \n",
    "\n",
    "# SMILES to SELFIES\n",
    "try:\n",
    "    selfie = selfies.encoder(smi)  \n",
    "    # Print SELFIE\n",
    "    print('SELFIES',selfie)\n",
    "except selfies.EncoderError:\n",
    "    pass  # selfies.encoder error!\n",
    "except selfies.DecoderError:\n",
    "    pass  # selfies.decoder error!\n"
   ]
  },
  {
   "cell_type": "code",
   "execution_count": 7,
   "id": "83146cd9-428b-4c90-9381-8f3763a03ccb",
   "metadata": {},
   "outputs": [
    {
     "data": {
      "text/plain": [
       "'[12C+2]'"
      ]
     },
     "execution_count": 7,
     "metadata": {},
     "output_type": "execute_result"
    }
   ],
   "source": [
    "selfies.encoder('[12C++]') "
   ]
  },
  {
   "cell_type": "code",
   "execution_count": 9,
   "id": "2dc5e134-dba6-4350-8166-edd73c1d1334",
   "metadata": {},
   "outputs": [
    {
     "data": {
      "text/plain": [
       "'[13C+2]'"
      ]
     },
     "execution_count": 9,
     "metadata": {},
     "output_type": "execute_result"
    }
   ],
   "source": [
    "selfies.encoder('[13C++]') "
   ]
  },
  {
   "cell_type": "code",
   "execution_count": 78,
   "id": "0000e74d-c4eb-479f-9964-4c3f8b7a80ed",
   "metadata": {},
   "outputs": [
    {
     "data": {
      "text/plain": [
       "'[C][C][=Branch1][C][=O][O]'"
      ]
     },
     "execution_count": 78,
     "metadata": {},
     "output_type": "execute_result"
    }
   ],
   "source": [
    "selfies.encoder('CC(=O)O') "
   ]
  },
  {
   "cell_type": "code",
   "execution_count": 79,
   "id": "81dcef12-d4fd-4351-85a7-6bf18dc58316",
   "metadata": {},
   "outputs": [
    {
     "data": {
      "text/plain": [
       "'OC(=O)C'"
      ]
     },
     "execution_count": 79,
     "metadata": {},
     "output_type": "execute_result"
    }
   ],
   "source": [
    "selfies.decoder('[O][C][=Branch1][C][=O][=C]')"
   ]
  },
  {
   "cell_type": "code",
   "execution_count": 68,
   "id": "1c4464f0-97a2-41b9-908c-172c635e941c",
   "metadata": {},
   "outputs": [
    {
     "data": {
      "text/plain": [
       "'C1CC1'"
      ]
     },
     "execution_count": 68,
     "metadata": {},
     "output_type": "execute_result"
    }
   ],
   "source": [
    "MolToSmiles(MolFromSmiles('C1CC1'))"
   ]
  },
  {
   "cell_type": "code",
   "execution_count": 81,
   "id": "2daf57db-bc8b-483c-a2ab-073bf4b20c9e",
   "metadata": {},
   "outputs": [
    {
     "data": {
      "image/png": "[encoded data removed]",
      "text/plain": [
       "<rdkit.Chem.rdchem.Mol at 0x119f5dbe0>"
      ]
     },
     "execution_count": 81,
     "metadata": {},
     "output_type": "execute_result"
    }
   ],
   "source": [
    "MolFromSmiles('C(=O)(C(=O)O)O')"
   ]
  },
  {
   "cell_type": "code",
   "execution_count": 100,
   "id": "0e717361-fa87-44c7-99a1-3738ab137a47",
   "metadata": {},
   "outputs": [
    {
     "data": {
      "image/png": "[encoded data removed]",
      "text/plain": [
       "<rdkit.Chem.rdchem.Mol at 0x119f9d4c0>"
      ]
     },
     "execution_count": 100,
     "metadata": {},
     "output_type": "execute_result"
    }
   ],
   "source": [
    "MolFromSmiles('c1ccccc1CC1CO1')"
   ]
  },
  {
   "cell_type": "code",
   "execution_count": 95,
   "id": "205006c6-a904-44fb-a045-c4044110db5b",
   "metadata": {},
   "outputs": [
    {
     "data": {
      "text/plain": [
       "'CCC1CO1'"
      ]
     },
     "execution_count": 95,
     "metadata": {},
     "output_type": "execute_result"
    }
   ],
   "source": [
    "MolToSmiles(MolFromSmiles('C(C[CH]2CO2)'))"
   ]
  },
  {
   "cell_type": "code",
   "execution_count": 101,
   "id": "8c82e183-eb0f-4a29-b8c7-bac355d391e2",
   "metadata": {},
   "outputs": [
    {
     "data": {
      "text/plain": [
       "'[C][=C][C][=C][C][=C][Ring1][=Branch1][C][C][C][O][Ring1][Ring1]'"
      ]
     },
     "execution_count": 101,
     "metadata": {},
     "output_type": "execute_result"
    }
   ],
   "source": [
    "selfies.encoder('c1ccccc1CC1CO1') "
   ]
  },
  {
   "cell_type": "code",
   "execution_count": null,
   "id": "d0cbadbb-4177-4875-9744-f78ad46565ea",
   "metadata": {},
   "outputs": [],
   "source": []
  }
 ],
 "metadata": {
  "colab": {
   "include_colab_link": true,
   "private_outputs": true,
   "provenance": []
  },
  "gpuClass": "standard",
  "kernelspec": {
   "display_name": "Python 3 (ipykernel)",
   "language": "python",
   "name": "python3"
  },
  "language_info": {
   "codemirror_mode": {
    "name": "ipython",
    "version": 3
   },
   "file_extension": ".py",
   "mimetype": "text/x-python",
   "name": "python",
   "nbconvert_exporter": "python",
   "pygments_lexer": "ipython3",
   "version": "3.9.13"
  }
 },
 "nbformat": 4,
 "nbformat_minor": 5
}
