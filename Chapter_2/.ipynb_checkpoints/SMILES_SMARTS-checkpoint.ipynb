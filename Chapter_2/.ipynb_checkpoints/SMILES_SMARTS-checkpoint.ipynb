{
 "cells": [
  {
   "cell_type": "markdown",
   "id": "a2091490",
   "metadata": {
    "colab_type": "text",
    "id": "view-in-github"
   },
   "source": [
    "<a href=\"https://colab.research.google.com/github/ChemRacer/molecular_representation_examples/blob/main/Chapter_2/SMILES_SMARTS.ipynb\" target=\"_parent\"><img src=\"https://colab.research.google.com/assets/colab-badge.svg\" alt=\"Open In Colab\"/></a>"
   ]
  },
  {
   "cell_type": "code",
   "execution_count": 1,
   "id": "cc3cb801-e5d3-493d-95ac-662c2e5bb196",
   "metadata": {
    "id": "cc3cb801-e5d3-493d-95ac-662c2e5bb196"
   },
   "outputs": [
    {
     "name": "stdout",
     "output_type": "stream",
     "text": [
      "Requirement already satisfied: rdkit in /Users/voglab04/miniconda3/lib/python3.9/site-packages (2022.9.1)\n",
      "Requirement already satisfied: deepsmiles in /Users/voglab04/miniconda3/lib/python3.9/site-packages (1.0.1)\n",
      "Requirement already satisfied: selfies in /Users/voglab04/miniconda3/lib/python3.9/site-packages (2.1.1)\n",
      "Requirement already satisfied: numpy in /Users/voglab04/miniconda3/lib/python3.9/site-packages (from rdkit) (1.23.5)\n",
      "Requirement already satisfied: Pillow in /Users/voglab04/miniconda3/lib/python3.9/site-packages (from rdkit) (9.3.0)\n"
     ]
    }
   ],
   "source": [
    "!python -m pip install rdkit deepsmiles selfies "
   ]
  },
  {
   "cell_type": "code",
   "execution_count": 2,
   "id": "fd97a89d-9c8d-4248-93e0-804c62ab06cc",
   "metadata": {
    "id": "fd97a89d-9c8d-4248-93e0-804c62ab06cc"
   },
   "outputs": [
    {
     "name": "stdout",
     "output_type": "stream",
     "text": [
      "SMARTS [#6]1:[#6]:[#6]:[#6](-[#6]-[#6H]2-[#6]-[#8]-2):[#6]:[#6]:1\n",
      "SMILES c1ccc(CC2CO2)cc1\n",
      "DeepSMILES ccccCCCO3))))cc6\n",
      "SELFIES [C][=C][C][=C][Branch1][#Branch1][C][C][C][O][Ring1][Ring1][C][=C][Ring1][#Branch2]\n"
     ]
    }
   ],
   "source": [
    "# This example includes examples of SMARTS and SMILES\n",
    "# RDKit\n",
    "from rdkit.Chem import MolFromSmiles, MolToSmarts, MolToSmiles\n",
    "# Glycidol\n",
    "# smi='C1C(O1)CO'\n",
    "# 2-benzyloxirane\n",
    "smi='c1ccc(C[CH]2CO2)cc1'\n",
    "mol=MolFromSmiles(smi)\n",
    "\n",
    "# Use RDKit canonicalization\n",
    "smi=MolToSmiles(mol)\n",
    "# Print SMILES and SMARTS\n",
    "print('SMARTS',MolToSmarts(mol))\n",
    "print('SMILES',MolToSmiles(mol))\n",
    "\n",
    "# DeepSMILES\n",
    "import deepsmiles\n",
    "converter = deepsmiles.Converter(rings=True, branches=True)\n",
    "\n",
    "# DeepSMILES encoding of 2-benzyloxirane from canonical SMILES\n",
    "encoded = converter.encode(smi)\n",
    "# Print the DeepSMILES\n",
    "print('DeepSMILES', encoded)\n",
    "\n",
    "# Example of SELFIES\n",
    "import selfies \n",
    "\n",
    "# SMILES to SELFIES\n",
    "try:\n",
    "    selfie = selfies.encoder(smi)  \n",
    "    # Print SELFIE\n",
    "    print('SELFIES',selfie)\n",
    "except selfies.EncoderError:\n",
    "    pass  # selfies.encoder error!\n",
    "except selfies.DecoderError:\n",
    "    pass  # selfies.decoder error!\n"
   ]
  },
  {
   "cell_type": "code",
   "execution_count": 71,
   "id": "6909275e-a4ec-4ff0-8890-73b662ae3704",
   "metadata": {},
   "outputs": [
    {
     "data": {
      "image/png": "[encoded data removed]",
      "text/plain": [
       "<rdkit.Chem.rdchem.Mol at 0x1273ff520>"
      ]
     },
     "execution_count": 71,
     "metadata": {},
     "output_type": "execute_result"
    }
   ],
   "source": [
    "m1 = MolFromSmiles('OCCCN.O=C=O')\n",
    "# m1.GetConformer()\n",
    "m1"
   ]
  },
  {
   "cell_type": "code",
   "execution_count": 114,
   "id": "39d71735-8a58-4ed0-9d7f-cd09849bb69e",
   "metadata": {},
   "outputs": [
    {
     "name": "stdout",
     "output_type": "stream",
     "text": [
      "N   0.823789  -1.079266  -2.394788\n",
      "C   1.141931  -1.575140  -1.033096\n",
      "C   0.533457  -0.702942   0.064535\n",
      "O   0.746363  -0.861858   1.256923\n",
      "O  -0.276971   0.252466  -0.435835\n",
      "O  -2.825310   3.835050   2.355951\n",
      "C  -2.081011   2.800112   1.772587\n",
      "O  -1.336074   1.763559   1.175658\n",
      "H   1.145436  -0.107124  -2.424527\n",
      "H  -0.194891  -0.954732  -2.409676\n",
      "H   2.228401  -1.583030  -0.908568\n",
      "H   0.748302  -2.589751  -0.925903\n",
      "H  -0.653422   0.802655   0.327232\n"
     ]
    }
   ],
   "source": [
    "from rdkit.Chem import AllChem, AddHs,rdmolfiles\n",
    "glycine = MolFromSmiles('NCC(=O)O.O=C=O')\n",
    "glycine=AddHs(glycine)\n",
    "AllChem.EmbedMolecule(glycine)\n",
    "AllChem.MMFFOptimizeMoleculeConfs(glycine,maxIters=1000,ignoreInterfragInteractions=False)\n",
    "glycine.GetConformer()\n",
    "with open('glycine.xyz','w') as w:\n",
    "    \n",
    "    w.write(f'{glycine.GetNumAtoms()}\\n\\n')\n",
    "    for i, atom in enumerate(glycine.GetAtoms()):\n",
    "        positions = glycine.GetConformer().GetAtomPosition(i)\n",
    "        w.write(f'{atom.GetSymbol()} {positions.x:>10.6f} {positions.y:>10.6f} {positions.z:>10.6f}\\n')\n",
    "        print(f'{atom.GetSymbol()} {positions.x:>10.6f} {positions.y:>10.6f} {positions.z:>10.6f}')"
   ]
  },
  {
   "cell_type": "code",
   "execution_count": 111,
   "id": "ed765097-cf31-4881-9807-2129651581c6",
   "metadata": {},
   "outputs": [
    {
     "data": {
      "text/plain": [
       "'NCC(=O)O'"
      ]
     },
     "execution_count": 111,
     "metadata": {},
     "output_type": "execute_result"
    }
   ],
   "source": [
    "MolToSmiles(MolFromSmiles('NCC(=O)O'))"
   ]
  },
  {
   "cell_type": "code",
   "execution_count": 112,
   "id": "6f62b4e3-c896-4ec4-a2f3-ecad6276dd17",
   "metadata": {},
   "outputs": [
    {
     "data": {
      "image/png": "[encoded data removed]",
      "text/plain": [
       "<rdkit.Chem.rdchem.Mol at 0x127455460>"
      ]
     },
     "execution_count": 112,
     "metadata": {},
     "output_type": "execute_result"
    }
   ],
   "source": [
    "glycine"
   ]
  },
  {
   "cell_type": "code",
   "execution_count": 86,
   "id": "0c2936e6-8114-4a3d-a62e-fcbce5defdb5",
   "metadata": {},
   "outputs": [],
   "source": []
  },
  {
   "cell_type": "code",
   "execution_count": null,
   "id": "e78f4cf3-f5cd-4057-85f2-60cd7b78c128",
   "metadata": {},
   "outputs": [],
   "source": []
  },
  {
   "cell_type": "code",
   "execution_count": null,
   "id": "c1b14487-7c7b-493d-8182-4b58301ff2f4",
   "metadata": {},
   "outputs": [],
   "source": []
  }
 ],
 "metadata": {
  "colab": {
   "include_colab_link": true,
   "private_outputs": true,
   "provenance": []
  },
  "gpuClass": "standard",
  "kernelspec": {
   "display_name": "Python 3 (ipykernel)",
   "language": "python",
   "name": "python3"
  },
  "language_info": {
   "codemirror_mode": {
    "name": "ipython",
    "version": 3
   },
   "file_extension": ".py",
   "mimetype": "text/x-python",
   "name": "python",
   "nbconvert_exporter": "python",
   "pygments_lexer": "ipython3",
   "version": "3.9.13"
  }
 },
 "nbformat": 4,
 "nbformat_minor": 5
}
