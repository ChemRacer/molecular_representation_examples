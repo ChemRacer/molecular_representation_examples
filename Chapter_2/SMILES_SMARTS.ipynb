{
  "cells": [
    {
      "cell_type": "markdown",
      "metadata": {
        "id": "view-in-github",
        "colab_type": "text"
      },
      "source": [
        "<a href=\"https://colab.research.google.com/github/ChemRacer/molecular_representation_examples/blob/main/Chapter_2/SMILES_SMARTS.ipynb\" target=\"_parent\"><img src=\"https://colab.research.google.com/assets/colab-badge.svg\" alt=\"Open In Colab\"/></a>"
      ]
    },
    {
      "cell_type": "code",
      "execution_count": 1,
      "id": "cc3cb801-e5d3-493d-95ac-662c2e5bb196",
      "metadata": {
        "id": "cc3cb801-e5d3-493d-95ac-662c2e5bb196",
        "colab": {
          "base_uri": "https://localhost:8080/"
        },
        "outputId": "fbe08118-6d58-4635-939c-d210d2c466dd"
      },
      "outputs": [
        {
          "output_type": "stream",
          "name": "stdout",
          "text": [
            "Looking in indexes: https://pypi.org/simple, https://us-python.pkg.dev/colab-wheels/public/simple/\n",
            "Collecting rdkit\n",
            "  Downloading rdkit-2022.9.4-cp38-cp38-manylinux_2_17_x86_64.manylinux2014_x86_64.whl (29.3 MB)\n",
            "\u001b[2K     \u001b[90m━━━━━━━━━━━━━━━━━━━━━━━━━━━━━━━━━━━━━━━━\u001b[0m \u001b[32m29.3/29.3 MB\u001b[0m \u001b[31m22.8 MB/s\u001b[0m eta \u001b[36m0:00:00\u001b[0m\n",
            "\u001b[?25hCollecting deepsmiles\n",
            "  Downloading deepsmiles-1.0.1-py2.py3-none-any.whl (12 kB)\n",
            "Collecting selfies\n",
            "  Downloading selfies-2.1.1-py3-none-any.whl (35 kB)\n",
            "Requirement already satisfied: Pillow in /usr/local/lib/python3.8/dist-packages (from rdkit) (7.1.2)\n",
            "Requirement already satisfied: numpy in /usr/local/lib/python3.8/dist-packages (from rdkit) (1.21.6)\n",
            "Installing collected packages: deepsmiles, selfies, rdkit\n",
            "Successfully installed deepsmiles-1.0.1 rdkit-2022.9.4 selfies-2.1.1\n"
          ]
        }
      ],
      "source": [
        "!python -m pip install rdkit deepsmiles selfies "
      ]
    },
    {
      "cell_type": "code",
      "execution_count": 6,
      "id": "fd97a89d-9c8d-4248-93e0-804c62ab06cc",
      "metadata": {
        "id": "fd97a89d-9c8d-4248-93e0-804c62ab06cc",
        "colab": {
          "base_uri": "https://localhost:8080/"
        },
        "outputId": "5a8568fa-7df7-4ecf-ee84-3425010bdb36"
      },
      "outputs": [
        {
          "output_type": "stream",
          "name": "stdout",
          "text": [
            "SMARTS [#6]1:[#6]:[#6]:[#6](-[#6]-[#6H]2-[#6]-[#8]-2):[#6]:[#6]:1\n",
            "SMILES c1ccc(CC2CO2)cc1\n",
            "DeepSMILES ccccC[CH]CO3))))cc6\n",
            "SELFIES [C][=C][C][=C][Branch1][#Branch1][C][CH1][C][O][Ring1][Ring1][C][=C][Ring1][#Branch2]\n"
          ]
        }
      ],
      "source": [
        "# This example includes examples of SMARTS and SMILES\n",
        "# RDKit\n",
        "from rdkit.Chem import MolFromSmiles, MolToSmarts, MolToSmiles\n",
        "# Glycidol\n",
        "# smi='C1C(O1)CO'\n",
        "# 2-benzyloxirane\n",
        "smi='c1ccc(C[CH]2CO2)cc1'\n",
        "mol=MolFromSmiles(smi)\n",
        "# Print SMILES and SMARTS\n",
        "print('SMARTS',MolToSmarts(mol))\n",
        "print('SMILES',MolToSmiles(mol))\n",
        "\n",
        "# DeepSMILES\n",
        "import deepsmiles\n",
        "converter = deepsmiles.Converter(rings=True, branches=True)\n",
        "\n",
        "# DeepSMILES encoding of 2-benzyloxirane from canonical SMILES\n",
        "encoded = converter.encode(smi)\n",
        "# Print the DeepSMILES\n",
        "print('DeepSMILES', encoded)\n",
        "\n",
        "# Example of SELFIES\n",
        "import selfies \n",
        "\n",
        "# SMILES to SELFIES\n",
        "try:\n",
        "    selfie = selfies.encoder(smi)  \n",
        "    # Print SELFIE\n",
        "    print('SELFIES',selfie)\n",
        "except selfies.EncoderError:\n",
        "    pass  # selfies.encoder error!\n",
        "except selfies.DecoderError:\n",
        "    pass  # selfies.decoder error!\n"
      ]
    },
    {
      "cell_type": "code",
      "execution_count": null,
      "id": "5df02da0-21c4-4926-b779-2fad466cb216",
      "metadata": {
        "id": "5df02da0-21c4-4926-b779-2fad466cb216"
      },
      "outputs": [],
      "source": []
    }
  ],
  "metadata": {
    "kernelspec": {
      "display_name": "Python 3",
      "name": "python3"
    },
    "language_info": {
      "name": "python"
    },
    "colab": {
      "provenance": [],
      "include_colab_link": true
    },
    "gpuClass": "standard"
  },
  "nbformat": 4,
  "nbformat_minor": 5
}