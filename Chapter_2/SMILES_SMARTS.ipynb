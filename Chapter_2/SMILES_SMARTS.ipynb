{
 "cells": [
  {
   "cell_type": "markdown",
   "id": "a2091490",
   "metadata": {
    "colab_type": "text",
    "id": "view-in-github"
   },
   "source": [
    "<a href=\"https://colab.research.google.com/github/ChemRacer/molecular_representation_examples/blob/main/Chapter_2/SMILES_SMARTS.ipynb\" target=\"_parent\"><img src=\"https://colab.research.google.com/assets/colab-badge.svg\" alt=\"Open In Colab\"/></a>"
   ]
  },
  {
   "cell_type": "code",
   "execution_count": null,
   "id": "cc3cb801-e5d3-493d-95ac-662c2e5bb196",
   "metadata": {
    "id": "cc3cb801-e5d3-493d-95ac-662c2e5bb196"
   },
   "outputs": [],
   "source": [
    "!python -m pip install rdkit deepsmiles selfies "
   ]
  },
  {
   "cell_type": "code",
   "execution_count": null,
   "id": "fd97a89d-9c8d-4248-93e0-804c62ab06cc",
   "metadata": {
    "id": "fd97a89d-9c8d-4248-93e0-804c62ab06cc"
   },
   "outputs": [],
   "source": [
    "# This example includes examples of SMARTS and SMILES\n",
    "# RDKit\n",
    "from rdkit.Chem import MolFromSmiles, MolToSmarts, MolToSmiles\n",
    "# Glycidol\n",
    "smi='C1C(O1)CO'\n",
    "# 2-benzyloxirane\n",
    "# smi='c1ccc(C[CH]2CO2)cc1'\n",
    "mol=MolFromSmiles(smi)\n",
    "\n",
    "# Use RDKit canonicalization\n",
    "smi=MolToSmiles(mol)\n",
    "# Print SMILES and SMARTS\n",
    "print('SMARTS',MolToSmarts(mol))\n",
    "print('SMILES',MolToSmiles(mol))\n",
    "\n",
    "# DeepSMILES\n",
    "import deepsmiles\n",
    "converter = deepsmiles.Converter(rings=True, branches=True)\n",
    "\n",
    "# DeepSMILES encoding of 2-benzyloxirane from canonical SMILES\n",
    "encoded = converter.encode(smi)\n",
    "# Print the DeepSMILES\n",
    "print('DeepSMILES', encoded)\n",
    "\n",
    "# Example of SELFIES\n",
    "import selfies \n",
    "\n",
    "# SMILES to SELFIES\n",
    "try:\n",
    "    selfie = selfies.encoder(smi)  \n",
    "    # Print SELFIE\n",
    "    print('SELFIES',selfie)\n",
    "except selfies.EncoderError:\n",
    "    pass  # selfies.encoder error!\n",
    "except selfies.DecoderError:\n",
    "    pass  # selfies.decoder error!\n"
   ]
  }
 ],
 "metadata": {
  "colab": {
   "include_colab_link": true,
   "private_outputs": true,
   "provenance": []
  },
  "gpuClass": "standard",
  "kernelspec": {
   "display_name": "Python 3 (ipykernel)",
   "language": "python",
   "name": "python3"
  },
  "language_info": {
   "codemirror_mode": {
    "name": "ipython",
    "version": 3
   },
   "file_extension": ".py",
   "mimetype": "text/x-python",
   "name": "python",
   "nbconvert_exporter": "python",
   "pygments_lexer": "ipython3",
   "version": "3.9.13"
  }
 },
 "nbformat": 4,
 "nbformat_minor": 5
}
