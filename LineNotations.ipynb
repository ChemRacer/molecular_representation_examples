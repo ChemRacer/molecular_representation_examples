{
 "cells": [
  {
   "cell_type": "code",
   "execution_count": null,
   "id": "cc3cb801-e5d3-493d-95ac-662c2e5bb196",
   "metadata": {},
   "outputs": [],
   "source": [
    "# This example includes examples of the Morgan and MACCS fingerprints \n",
    "# as implemented in RDKit along with SMARTS, SMILES, and InCHI using \n",
    "# ChemML\n",
    "\n",
    "# Import the required classes from the chem module in ChemML\n",
    "from chemml.chem import Molecule, RDKitFingerprint\n",
    "\n",
    "# Generate a mol object from our example xyz coordinates\n",
    "mol = Molecule('2-benzyloxirane.xyz', 'xyz')\n",
    "# mol = Molecule('glycidol.xyz', 'xyz')\n",
    "\n",
    "# Print the original mol object\n",
    "print(mol)\n",
    "\n",
    "# Generate SMILES, SMARTS, and InChi\n",
    "mol.to_smiles()\n",
    "mol.to_smarts()\n",
    "mol.to_inchi()\n",
    "\n",
    "# Print the updated mol object\n",
    "print(mol)\n",
    "\n",
    "# Generate RDKit Morgan fingerprints\n",
    "morgan_fp = RDKitFingerprint(fingerprint_type='morgan', vector='bit', \n",
    "                             n_bits=1024, radius=3)\n",
    "morgan_fpfeatures = morgan_fp.represent(mol)\n",
    "print(morgan_fpfeatures)\n",
    "\n",
    "# Generate RDKit MACCS fingerprints\n",
    "maccs = RDKitFingerprint(fingerprint_type='maccs', vector='bit', \n",
    "                         n_bits=1024, radius=3)\n",
    "maccsfeatures = maccs.represent(mol)\n",
    "print(maccsfeatures)\n",
    "\n",
    "# mol.xyz contains the atomic_numbers, atomic_symbols, and geometry\n",
    "# Print mol.xyz\n",
    "print(mol.xyz)\n",
    "# Print atomic numbers, symbols, and geometry\n",
    "print(mol.xyz.atomic_numbers)\n",
    "print(mol.xyz.atomic_symbols)\n",
    "print(mol.xyz.geometry)\n",
    "\n",
    "# Print InChi\n",
    "print(mol.inchi)\n",
    "\n",
    "# Print SMARTS\n",
    "print(mol.smarts)\n",
    "\n",
    "# Print SMILES\n",
    "print(mol.smiles)\n"
   ]
  },
  {
   "cell_type": "code",
   "execution_count": null,
   "id": "d691360e-03dc-40b0-a89e-9368c3f7565f",
   "metadata": {},
   "outputs": [],
   "source": []
  }
 ],
 "metadata": {
  "kernelspec": {
   "display_name": "Python 3 (ipykernel)",
   "language": "python",
   "name": "python3"
  },
  "language_info": {
   "codemirror_mode": {
    "name": "ipython",
    "version": 3
   },
   "file_extension": ".py",
   "mimetype": "text/x-python",
   "name": "python",
   "nbconvert_exporter": "python",
   "pygments_lexer": "ipython3",
   "version": "3.8.13"
  }
 },
 "nbformat": 4,
 "nbformat_minor": 5
}
