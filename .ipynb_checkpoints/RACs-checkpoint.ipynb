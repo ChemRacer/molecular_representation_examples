{
 "cells": [
  {
   "cell_type": "code",
   "execution_count": null,
   "id": "fa102c7c-dc3b-47a4-ae45-932cf1d486fd",
   "metadata": {},
   "outputs": [],
   "source": [
    "# Example of Revised Autocorrelation Functions (RACs)\n",
    "# Using MolSimplify \n",
    "# https://github.com/hjkgrp/molSimplify\n",
    "from molSimplify.Informatics.autocorrelation import generate_full_complex_autocorrelations\n",
    "from molSimplify.Classes.mol3D import mol3D\n",
    "# Create mol object from xyz using the mol3D class\n",
    "mol = mol3D()\n",
    "mol.readfromxyz('glycidol.xyz')\n",
    "# Create the RACs for the full structure with depth 0 to depth 2\n",
    "racs = generate_full_complex_autocorrelations(mol,depth=2,loud=False)\n",
    "# print dictionary containing racs\n",
    "print(racs)"
   ]
  }
 ],
 "metadata": {
  "kernelspec": {
   "display_name": "molsimplify",
   "language": "python",
   "name": "molsimplify"
  },
  "language_info": {
   "codemirror_mode": {
    "name": "ipython",
    "version": 3
   },
   "file_extension": ".py",
   "mimetype": "text/x-python",
   "name": "python",
   "nbconvert_exporter": "python",
   "pygments_lexer": "ipython3",
   "version": "3.8.12"
  }
 },
 "nbformat": 4,
 "nbformat_minor": 5
}
