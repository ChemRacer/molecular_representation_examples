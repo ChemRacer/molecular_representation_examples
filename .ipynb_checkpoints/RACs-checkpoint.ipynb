{
 "cells": [
  {
   "cell_type": "code",
   "execution_count": 1,
   "id": "fa102c7c-dc3b-47a4-ae45-932cf1d486fd",
   "metadata": {},
   "outputs": [
    {
     "name": "stdout",
     "output_type": "stream",
     "text": [
      "{'colnames': [['chi-0', 'chi-1', 'chi-2'], ['Z-0', 'Z-1', 'Z-2'], ['I-0', 'I-1', 'I-2'], ['T-0', 'T-1', 'T-2'], ['S-0', 'S-1', 'S-2']], 'results': [array([ 72.2147, 149.878 , 221.673 ]), array([242., 508., 432.]), array([11., 22., 34.]), array([ 62., 156., 144.]), array([ 3.6659,  9.1334, 10.6714])]}\n",
      "   Feature Name  Features\n",
      "0         chi-0   72.2147\n",
      "1         chi-1  149.8780\n",
      "2         chi-2  221.6730\n",
      "3           Z-0  242.0000\n",
      "4           Z-1  508.0000\n",
      "5           Z-2  432.0000\n",
      "6           I-0   11.0000\n",
      "7           I-1   22.0000\n",
      "8           I-2   34.0000\n",
      "9           T-0   62.0000\n",
      "10          T-1  156.0000\n",
      "11          T-2  144.0000\n",
      "12          S-0    3.6659\n",
      "13          S-1    9.1334\n",
      "14          S-2   10.6714\n"
     ]
    }
   ],
   "source": [
    "# Example of Revised Autocorrelation Functions (RACs)\n",
    "# using MolSimplify \n",
    "import molSimplify.Informatics.autocorrelation as ac\n",
    "from molSimplify.Classes.mol3D import mol3D\n",
    "import pandas as pd\n",
    "\n",
    "# Create mol object from xyz using the mol3D class\n",
    "mol = mol3D()\n",
    "mol.readfromxyz('glycidol.xyz')\n",
    "\n",
    "# Create the RACs for the full structure with depth 0 to depth 2\n",
    "# \n",
    "# chi - electronegativity\n",
    "# Z - nuclear charge\n",
    "# I - identiy, i.e. 1 for\n",
    "# T - atom coordination number\n",
    "# S - covalent atomic radius\n",
    "racs = ac.generate_full_complex_autocorrelations(mol,depth=2,\n",
    "                                                 loud=False)\n",
    "# print dictionary containing racs\n",
    "print(racs)\n",
    "\n",
    "# Make a Pandas DataFrame to view the features together with \n",
    "# the feature name and depth, i.e. featurename-depth\n",
    "df_feat=pd.DataFrame(zip(sum(racs['colnames'],[]),\n",
    "                         sum(map(list,racs['results']),[])),\n",
    "                     columns=['Feature Name','Features'])\n",
    "print(df_feat)"
   ]
  },
  {
   "cell_type": "code",
   "execution_count": null,
   "id": "bbe6f3bc-9885-46e5-ba35-d47fde58e5d2",
   "metadata": {},
   "outputs": [],
   "source": []
  }
 ],
 "metadata": {
  "kernelspec": {
   "display_name": "molsimplify",
   "language": "python",
   "name": "molsimplify"
  },
  "language_info": {
   "codemirror_mode": {
    "name": "ipython",
    "version": 3
   },
   "file_extension": ".py",
   "mimetype": "text/x-python",
   "name": "python",
   "nbconvert_exporter": "python",
   "pygments_lexer": "ipython3",
   "version": "3.8.12"
  }
 },
 "nbformat": 4,
 "nbformat_minor": 5
}
