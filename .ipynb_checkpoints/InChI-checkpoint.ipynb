{
 "cells": [
  {
   "cell_type": "code",
   "execution_count": 4,
   "id": "cc3cb801-e5d3-493d-95ac-662c2e5bb196",
   "metadata": {},
   "outputs": [],
   "source": [
    "# This is an example of InChI and InChI key as implemented in RDKit\n",
    "# For more information check:\n",
    "# https://www.rdkit.org/docs/GettingStartedInPython.html\n",
    "from rdkit import Chem\n",
    "from rdkit.Chem import AllChem\n",
    "from rdkit.Chem import MolFromSmiles,InchiToInchiKey,MolToInchi\n",
    "# Glycidol\n",
    "# mol=MolFromSmiles('OC[C@@H]1CO1')\n",
    "# 2-benzyloxirane\n",
    "mol=MolFromSmiles('c1ccc(C[C@@H]2CO2)cc1')\n",
    "\n"
   ]
  },
  {
   "cell_type": "code",
   "execution_count": 5,
   "id": "d691360e-03dc-40b0-a89e-9368c3f7565f",
   "metadata": {},
   "outputs": [
    {
     "data": {
      "text/plain": [
       "'InChI=1S/C9H10O/c1-2-4-8(5-3-1)6-9-7-10-9/h1-5,9H,6-7H2/t9-/m1/s1'"
      ]
     },
     "execution_count": 5,
     "metadata": {},
     "output_type": "execute_result"
    }
   ],
   "source": [
    "MolToInchi(mol)"
   ]
  },
  {
   "cell_type": "code",
   "execution_count": 6,
   "id": "4dd3e367-269f-44f2-a323-cfb37fae7732",
   "metadata": {},
   "outputs": [
    {
     "data": {
      "text/plain": [
       "'JFDMLXYWGLECEY-SECBINFHSA-N'"
      ]
     },
     "execution_count": 6,
     "metadata": {},
     "output_type": "execute_result"
    }
   ],
   "source": [
    "InchiToInchiKey(MolToInchi(mol))"
   ]
  },
  {
   "cell_type": "code",
   "execution_count": null,
   "id": "e0c7d0b0-4708-4b5a-9271-6fabab5b804d",
   "metadata": {},
   "outputs": [],
   "source": []
  }
 ],
 "metadata": {
  "kernelspec": {
   "display_name": "Python 3 (ipykernel)",
   "language": "python",
   "name": "python3"
  },
  "language_info": {
   "codemirror_mode": {
    "name": "ipython",
    "version": 3
   },
   "file_extension": ".py",
   "mimetype": "text/x-python",
   "name": "python",
   "nbconvert_exporter": "python",
   "pygments_lexer": "ipython3",
   "version": "3.10.8"
  }
 },
 "nbformat": 4,
 "nbformat_minor": 5
}
