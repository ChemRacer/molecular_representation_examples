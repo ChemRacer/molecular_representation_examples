{
 "cells": [
  {
   "cell_type": "code",
   "execution_count": 1,
   "id": "c4d0f016-4b8d-40be-95ab-dc8df6753abb",
   "metadata": {},
   "outputs": [
    {
     "name": "stdout",
     "output_type": "stream",
     "text": [
      "[[1.66593288e-02 8.44274351e-02 2.42128371e-01 ... 2.52208810e-05\n",
      "  1.13047682e-04 5.06714194e-04]\n",
      " [1.51147896e-03 7.84002898e-03 2.29157376e-02 ... 0.00000000e+00\n",
      "  0.00000000e+00 0.00000000e+00]\n",
      " [1.60288950e-02 7.85659765e-02 2.02590965e-01 ... 1.94333739e-05\n",
      "  5.24187584e-04 1.41392135e-02]\n",
      " [1.31048259e-02 6.32122881e-02 1.54375357e-01 ... 8.54573315e-07\n",
      "  2.62699491e-06 8.07549466e-06]\n",
      " [1.52115221e-02 7.48151637e-02 1.93166239e-01 ... 1.29863602e-06\n",
      "  1.59465439e-04 1.95814884e-02]\n",
      " [1.52115221e-02 7.48151637e-02 1.93166239e-01 ... 1.29863602e-06\n",
      "  1.59465439e-04 1.95814884e-02]]\n",
      "Shape of the SOAP representation of methanol (6, 2100)\n"
     ]
    }
   ],
   "source": [
    "# Example of generating a smooth overlap of atomic positions \n",
    "# (SOAPs) representation for methanol \n",
    "# using DScribe\n",
    "# https://singroup.github.io/dscribe/0.3.x/tutorials/soap.html\n",
    "# \n",
    "# From DScribe import the SOAP Class\n",
    "# DScribe: https://singroup.github.io/dscribe/latest/\n",
    "#\n",
    "# From the Atomic Simulation Environment (ASE) environment \n",
    "# import the function molecule which builds a molecule from\n",
    "# a database\n",
    "# ASE: https://wiki.fysik.dtu.dk/ase/\n",
    "from dscribe.descriptors import SOAP\n",
    "from ase.build import molecule\n",
    "\n",
    "# Set up the SOAP descriptor with parameters:\n",
    "# species, rcut, nmax, and lmax\n",
    "soap = SOAP(species=[\"H\", \"O\",\"C\"],rcut=6.0,nmax=8,lmax=6)\n",
    "\n",
    "# Generate methanol from a database\n",
    "methanol = molecule(\"CH3OH\")\n",
    "\n",
    "# Create SOAP representation of methanol\n",
    "soap_methanol = soap.create(methanol)\n",
    "\n",
    "# Print the SOAP representation for methanol and the shape of the \n",
    "# feature vector \n",
    "print(soap_methanol)\n",
    "print('Shape of the SOAP representation of methanol',\n",
    "      soap_methanol.shape)"
   ]
  },
  {
   "cell_type": "code",
   "execution_count": null,
   "id": "1b1d87c4-62fd-4347-aa07-c2211bf28a34",
   "metadata": {},
   "outputs": [],
   "source": []
  }
 ],
 "metadata": {
  "kernelspec": {
   "display_name": "Python 3 (ipykernel)",
   "language": "python",
   "name": "python3"
  },
  "language_info": {
   "codemirror_mode": {
    "name": "ipython",
    "version": 3
   },
   "file_extension": ".py",
   "mimetype": "text/x-python",
   "name": "python",
   "nbconvert_exporter": "python",
   "pygments_lexer": "ipython3",
   "version": "3.8.13"
  }
 },
 "nbformat": 4,
 "nbformat_minor": 5
}
