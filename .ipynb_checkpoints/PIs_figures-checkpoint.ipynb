{
 "cells": [
  {
   "cell_type": "code",
   "execution_count": 19,
   "id": "8608976d-4398-4ae2-a537-6001eb6d3fab",
   "metadata": {},
   "outputs": [],
   "source": [
    "import sys\n",
    "# !{sys.executable} -m pip install seaborn\n",
    "from Element_PI import PersDiagram, dgms,ripser_f,Makexyzdistance\n",
    "from Element_PI import VariancePersist3 as VP\n",
    "import os, shutil\n",
    "import matplotlib.pyplot as plt\n",
    "import seaborn as sns\n",
    "import numpy as np\n",
    "from persim import plot_diagrams\n",
    "from ase.visualize.plot import plot_atoms\n",
    "from ase.io import read, write\n",
    "from ase import Atoms"
   ]
  },
  {
   "cell_type": "code",
   "execution_count": 2,
   "id": "b09776c5-1049-4a70-9fea-15f62480151d",
   "metadata": {},
   "outputs": [],
   "source": [
    "def plot_PD_PI(file):\n",
    "    plt.figure(figsize=(8, 4))\n",
    "    plt.subplot(121)\n",
    "    PersDiagram(file,lifetime=True)\n",
    "    plt.legend(loc=2)\n",
    "    plt.subplot(122)\n",
    "    VP(file,pixelx=50, pixely=50, myspread=2, myspecs={\"maxBD\": 2, \"minBD\":0})\n",
    "    plt.tight_layout()\n",
    "    plt.show()"
   ]
  },
  {
   "cell_type": "code",
   "execution_count": 3,
   "id": "948a5ddc-9896-4e2f-884a-62f8fda13631",
   "metadata": {},
   "outputs": [],
   "source": [
    "test_ase=read('2-benzyloxirane.xyz',format='xyz')"
   ]
  },
  {
   "cell_type": "code",
   "execution_count": 4,
   "id": "0e779ac9-d475-490e-8f9f-b9b47a47f3d9",
   "metadata": {},
   "outputs": [],
   "source": [
    "import ase.visualize.plot as aseplot"
   ]
  },
  {
   "cell_type": "code",
   "execution_count": 5,
   "id": "c7f755fc-9aa1-4cff-92df-661a2d9cccab",
   "metadata": {},
   "outputs": [
    {
     "data": {
      "text/plain": [
       "1.5115265508088174"
      ]
     },
     "execution_count": 5,
     "metadata": {},
     "output_type": "execute_result"
    }
   ],
   "source": [
    "test_ase.get_distance(0,1)"
   ]
  },
  {
   "cell_type": "code",
   "execution_count": 6,
   "id": "0d27282d-ce20-4912-a5b9-8026e709f7a6",
   "metadata": {},
   "outputs": [],
   "source": [
    "dictase=test_ase.todict()\n",
    "pos=dictase['positions']\n",
    "lbs=dictase['numbers']"
   ]
  },
  {
   "cell_type": "code",
   "execution_count": 7,
   "id": "a371543d-b52d-4369-88b9-8814113531f0",
   "metadata": {},
   "outputs": [
    {
     "data": {
      "text/plain": [
       "array([6, 6, 8, 6, 6, 6, 6, 6, 6, 6, 1, 1, 1, 1, 1, 1, 1, 1, 1, 1])"
      ]
     },
     "execution_count": 7,
     "metadata": {},
     "output_type": "execute_result"
    }
   ],
   "source": [
    "lbs"
   ]
  },
  {
   "cell_type": "code",
   "execution_count": 8,
   "id": "b87a5b17-4d3b-474a-9e61-0eabd4d697d5",
   "metadata": {},
   "outputs": [
    {
     "data": {
      "text/plain": [
       "<Figure size 400x200 with 0 Axes>"
      ]
     },
     "metadata": {},
     "output_type": "display_data"
    },
    {
     "data": {
      "text/plain": [
       "<Figure size 400x200 with 0 Axes>"
      ]
     },
     "metadata": {},
     "output_type": "display_data"
    },
    {
     "data": {
      "text/plain": [
       "<Figure size 400x200 with 0 Axes>"
      ]
     },
     "metadata": {},
     "output_type": "display_data"
    },
    {
     "data": {
      "text/plain": [
       "<Figure size 400x200 with 0 Axes>"
      ]
     },
     "metadata": {},
     "output_type": "display_data"
    }
   ],
   "source": [
    "from mpl_toolkits.mplot3d import Axes3D\n",
    "list_center = pos\n",
    "list_lbs = lbs\n",
    "def plt_sphere(list_center, radius,list_lbs):\n",
    "    fig = plt.figure(figsize=(4,2))\n",
    "    \n",
    "    r = radius\n",
    "\n",
    "plt_sphere(list_center, 1e-1,list_lbs) \n",
    "plt_sphere(list_center, 1,list_lbs) \n",
    "plt_sphere(list_center, 2,list_lbs) \n",
    "plt_sphere(list_center, 3,list_lbs) "
   ]
  },
  {
   "cell_type": "code",
   "execution_count": 9,
   "id": "a2692818-9256-45ba-acd0-b089f4550f91",
   "metadata": {},
   "outputs": [
    {
     "data": {
      "text/plain": [
       "(['__setattr__',\n",
       "  '_set_positions',\n",
       "  'set_angle',\n",
       "  'set_array',\n",
       "  'set_atomic_numbers',\n",
       "  'set_calculator',\n",
       "  'set_cell',\n",
       "  'set_celldisp',\n",
       "  'set_center_of_mass',\n",
       "  'set_chemical_symbols',\n",
       "  'set_constraint',\n",
       "  'set_dihedral',\n",
       "  'set_distance',\n",
       "  'set_initial_charges',\n",
       "  'set_initial_magnetic_moments',\n",
       "  'set_masses',\n",
       "  'set_momenta',\n",
       "  'set_pbc',\n",
       "  'set_positions',\n",
       "  'set_scaled_positions',\n",
       "  'set_tags',\n",
       "  'set_velocities'],\n",
       " ['__getattribute__',\n",
       "  '__getitem__',\n",
       "  '_get_atomic_numbers',\n",
       "  '_get_constraints',\n",
       "  '_get_positions',\n",
       "  'get_all_distances',\n",
       "  'get_angle',\n",
       "  'get_angles',\n",
       "  'get_angular_momentum',\n",
       "  'get_array',\n",
       "  'get_atomic_numbers',\n",
       "  'get_calculator',\n",
       "  'get_cell',\n",
       "  'get_cell_lengths_and_angles',\n",
       "  'get_celldisp',\n",
       "  'get_center_of_mass',\n",
       "  'get_charges',\n",
       "  'get_chemical_formula',\n",
       "  'get_chemical_symbols',\n",
       "  'get_dihedral',\n",
       "  'get_dihedrals',\n",
       "  'get_dipole_moment',\n",
       "  'get_distance',\n",
       "  'get_distances',\n",
       "  'get_forces',\n",
       "  'get_global_number_of_atoms',\n",
       "  'get_initial_charges',\n",
       "  'get_initial_magnetic_moments',\n",
       "  'get_kinetic_energy',\n",
       "  'get_magnetic_moment',\n",
       "  'get_magnetic_moments',\n",
       "  'get_masses',\n",
       "  'get_momenta',\n",
       "  'get_moments_of_inertia',\n",
       "  'get_number_of_atoms',\n",
       "  'get_pbc',\n",
       "  'get_positions',\n",
       "  'get_potential_energies',\n",
       "  'get_potential_energy',\n",
       "  'get_properties',\n",
       "  'get_reciprocal_cell',\n",
       "  'get_scaled_positions',\n",
       "  'get_stress',\n",
       "  'get_stresses',\n",
       "  'get_tags',\n",
       "  'get_temperature',\n",
       "  'get_total_energy',\n",
       "  'get_velocities',\n",
       "  'get_volume'])"
      ]
     },
     "execution_count": 9,
     "metadata": {},
     "output_type": "execute_result"
    }
   ],
   "source": [
    "[i for i in dir(test_ase) if 'set' in i],[i for i in dir(test_ase) if 'get' in i]"
   ]
  },
  {
   "cell_type": "code",
   "execution_count": 10,
   "id": "f124c6f0-33f1-4440-9ccb-f6fac1551608",
   "metadata": {},
   "outputs": [],
   "source": [
    "# test_ase.symbols='X'\n",
    "# test_ase.set_atomic_numbers = 16"
   ]
  },
  {
   "cell_type": "code",
   "execution_count": null,
   "id": "bb875aa7-257d-44e4-b7d7-25cffbac1228",
   "metadata": {},
   "outputs": [],
   "source": []
  },
  {
   "cell_type": "code",
   "execution_count": 11,
   "id": "4e1c52a2-a886-4da2-b47a-e48e5c7a0f9f",
   "metadata": {},
   "outputs": [
    {
     "data": {
      "text/plain": [
       "array([2., 2., 2., 2., 2., 2., 2., 2., 2., 2., 2., 2., 2., 2., 2., 2., 2.,\n",
       "       2., 2., 2.])"
      ]
     },
     "execution_count": 11,
     "metadata": {},
     "output_type": "execute_result"
    }
   ],
   "source": [
    "test_ase.set_masses(np.ones(len(test_ase))+1)\n",
    "test_ase.get_masses()"
   ]
  },
  {
   "cell_type": "code",
   "execution_count": null,
   "id": "6e664016-bac1-4f11-9c9a-5607ba943ff3",
   "metadata": {},
   "outputs": [],
   "source": [
    "\n"
   ]
  },
  {
   "cell_type": "code",
   "execution_count": 12,
   "id": "45c261d6-4bbc-4905-97ad-6c26390c4416",
   "metadata": {},
   "outputs": [],
   "source": [
    "\n",
    "# plot_atoms(test_ase,radii=len(test_ase)*[3])\n",
    "# # plot_atoms(test_ase)\n",
    "# plt.ylim(-10,20)\n",
    "# plt.xlim(-10,20)\n",
    "# plt.grid(False)\n",
    "# plt.axis(False)"
   ]
  },
  {
   "cell_type": "code",
   "execution_count": null,
   "id": "a042b408-c532-4db8-9bf7-762cf8014977",
   "metadata": {},
   "outputs": [
    {
     "name": "stdout",
     "output_type": "stream",
     "text": [
      "0.5\n",
      "1.0\n",
      "1.5\n"
     ]
    }
   ],
   "source": [
    "fig=plt.figure(figsize=(36, 24))\n",
    "plt.rcParams.update({'font.size': 36,'font.family':'Times New Roman'})\n",
    "test_file='2-benzyloxirane.xyz'\n",
    "radmax=4\n",
    "for i in range(radmax):\n",
    "    thresh=i\n",
    "    r=ripser_f(test_file,thresh=thresh)\n",
    "    con_components = np.flip(r['dgms'][0],axis=0)\n",
    "    con_components[con_components == np.inf] = thresh\n",
    "    holes = np.flip(r['dgms'][1],axis=0)\n",
    "    holes[holes == np.inf] = thresh\n",
    "    len_components = len(con_components)\n",
    "    len_holes = len(holes)\n",
    "    hole_idx=list(map(lambda x:x+len_components, range(len_holes)))\n",
    "    components_idx=range(len_components)\n",
    "\n",
    "\n",
    "    ax=fig.add_subplot(3,4,i+1,projection='3d')\n",
    "    \n",
    "    if i==0:\n",
    "        rad=1e-1\n",
    "    else:\n",
    "        rad=i/2\n",
    "        print(rad)\n",
    "    for lbl,c in zip(list_lbs,list_center):\n",
    "        if lbl==6:\n",
    "            colors='gray'\n",
    "        if lbl==8:\n",
    "            colors='red'\n",
    "        if lbl==1:\n",
    "            colors='white'\n",
    "            \n",
    "        # draw sphere\n",
    "        u, v = np.mgrid[0:2*np.pi:50j, 0:np.pi:50j]\n",
    "        x = rad*np.cos(u)*np.sin(v)\n",
    "        y = rad*np.sin(u)*np.sin(v)\n",
    "        z = rad*np.cos(v)\n",
    "\n",
    "        ax.plot_surface(x-c[0], y-c[1], z-c[2],color=colors,rstride=1, cstride=1, alpha=None, antialiased=True)\n",
    "    ax.grid(False)\n",
    "    ax.set_axis_off()\n",
    "    ax.view_init(90, -90, 0)\n",
    "    plt.tight_layout()\n",
    "    \n",
    "    \n",
    "\n",
    "\n",
    "    fig.add_subplot(3,4,radmax+i+1)\n",
    "    clean_components = r['dgms'][0][:-1]\n",
    "    persistence_cc = clean_components[:,1]-clean_components[:,0]\n",
    "    clean_holes = r['dgms'][1]\n",
    "    persistence_holes = clean_holes[:,1] - clean_holes[:,0]\n",
    "    plt.scatter(clean_components[:,0],persistence_cc,label='Connected Components',color='#FF8200',s=500)\n",
    "    plt.scatter(clean_holes[:,0],persistence_holes,label='Holes',marker='^',color='#58595B',s=500)\n",
    "    # plt.hlines(i,-5,5,color='red',label=f'Radius={i}')\n",
    "    if i==0:\n",
    "        plt.legend(loc=1)\n",
    "    plt.xlim(-1e-1,3+1e-1)\n",
    "    plt.ylim(-1e-1,3+1e-1)\n",
    "    plt.ylabel('Persistence')\n",
    "    plt.xlabel('Birth')\n",
    "    \n",
    "    \n",
    "\n",
    "    fig.add_subplot(3,4,2*radmax+i+1)\n",
    "    \n",
    "    if i==0:\n",
    "        plt.barh(range(16),np.zeros(16)+1e-2,label='Connected Components',color='#FF8200')\n",
    "        plt.barh(np.NaN,np.NaN,left=np.NaN,label='Hole',color='#58595B')\n",
    "        plt.legend(loc=1)\n",
    "        \n",
    "    else:\n",
    "        plt.barh(hole_idx,holes[:,1]-holes[:,0],left=holes[:,0],label='Hole',color='#58595B')\n",
    "        plt.barh(components_idx,con_components[:,1]-con_components[:,0],label='Connected Components',color='#FF8200')\n",
    "    plt.xlabel('Double of Sphere Radius')\n",
    "    plt.yticks([])\n",
    "    plt.ylim(-1,max(components_idx)+3)\n",
    "    plt.xlim(-1e-1,3+1e-1)\n",
    "plt.savefig('2-benzyloxiranefig.png',dpi=300)  \n",
    "shutil.copy('./2-benzyloxiranefig.png','/Users/voglab04/Desktop/Journal Articles/Theory/molecular_representations_Book/figures/')\n",
    "\n",
    "plt.show()"
   ]
  },
  {
   "cell_type": "code",
   "execution_count": null,
   "id": "671c7ece-d9a7-480e-ba23-7ee5e389b2e7",
   "metadata": {},
   "outputs": [],
   "source": []
  },
  {
   "cell_type": "code",
   "execution_count": 14,
   "id": "fa4963a7-d594-414a-8fce-562c610b9512",
   "metadata": {},
   "outputs": [],
   "source": [
    "\n",
    "# for i in range(4):\n",
    "#     fig, ax = plt.subplots(figsize=(4,4))\n",
    "#     for lbl,xyz in list(zip(dictase['numbers'],dictase['positions'])):\n",
    "#         if lbl==6:\n",
    "#             ax.add_patch(plt.Circle((xyz[0],  xyz[1]),i,facecolor='grey',linewidth=1,edgecolor='black'))\n",
    "#         if lbl==1:\n",
    "#             ax.add_patch(plt.Circle((xyz[0],  xyz[1]),i,facecolor='white',linewidth=1,edgecolor='black'))        \n",
    "#         if lbl==8:\n",
    "#             ax.add_patch(plt.Circle((xyz[0],  xyz[1]),i,facecolor='red',linewidth=1,edgecolor='black'))        \n",
    "#     plt.xlim(-10,10)\n",
    "#     plt.ylim(-10,10)\n",
    "#     plt.show()"
   ]
  },
  {
   "cell_type": "code",
   "execution_count": 15,
   "id": "155afed0-131a-48b5-8a73-9e1167a66618",
   "metadata": {},
   "outputs": [
    {
     "data": {
      "image/png": "[encoded data removed]",
      "text/plain": [
       "<Figure size 800x800 with 4 Axes>"
      ]
     },
     "metadata": {},
     "output_type": "display_data"
    }
   ],
   "source": [
    "\n",
    "test_file1='glycidol.xyz'\n",
    "test_file2='2-benzyloxirane.xyz'\n",
    "plt.figure(figsize=(8, 8))\n",
    "# plt.rcParams.update({'font.size': 16,'font.family':'Times New Roman'})\n",
    "plt.subplot(221)\n",
    "PersDiagram(test_file1,lifetime=False)\n",
    "plt.legend(loc=4)\n",
    "plt.subplot(222)\n",
    "VP(test_file1,pixelx=20, pixely=20, myspread=2, myspecs={\"maxBD\": 2, \"minBD\":0},showplot=False)\n",
    "\n",
    "plt.subplot(223)\n",
    "PersDiagram(test_file2,lifetime=False)\n",
    "plt.legend(loc=4)\n",
    "plt.subplot(224)\n",
    "VP(test_file2,pixelx=20, pixely=20, myspread=2, myspecs={\"maxBD\": 2, \"minBD\":0},showplot=False)\n",
    "\n",
    "plt.tight_layout()\n",
    "plt.savefig('PD_PI_stacked.png',dpi=300)\n",
    "plt.show()"
   ]
  },
  {
   "cell_type": "code",
   "execution_count": 16,
   "id": "1d70c016-97d7-4f1a-8cd3-313b2e009230",
   "metadata": {},
   "outputs": [],
   "source": [
    "# import gudhi\n",
    "# pt_cloud = Makexyzdistance('2-benzyloxirane.xyz')[0]\n",
    "# #Use GUDHI to generate the corresponding Rips complex,\n",
    "# rips_complex = gudhi.RipsComplex(points=pt_cloud, max_edge_length=20)\n",
    "# # simplex tree,\n",
    "# simplex_tree = rips_complex.create_simplex_tree(max_dimension=3)\n",
    "# # and persistence data from the point cloud\n",
    "# diag = simplex_tree.persistence(min_persistence=0.4)\n",
    "# # Generate the persistence barcode.\n",
    "# pb = gudhi.plot_persistence_barcode(diag, max_intervals=0,alpha=1.0,legend=True)\n",
    "# plt.xlim(0,20)\n",
    "# plt.show()\n",
    "# # Generate the persistence diagram.\n",
    "# pd = gudhi.plot_persistence_diagram(diag, max_intervals=0,alpha=1.0,legend=True)\n",
    "# # Plot the barcode and diagram\n",
    "# plt.show()\n"
   ]
  },
  {
   "cell_type": "code",
   "execution_count": null,
   "id": "1ef5e2f4-0903-4d21-a43b-b490435c1524",
   "metadata": {},
   "outputs": [],
   "source": []
  }
 ],
 "metadata": {
  "kernelspec": {
   "display_name": "molecular_representation",
   "language": "python",
   "name": "molecular_representation"
  },
  "language_info": {
   "codemirror_mode": {
    "name": "ipython",
    "version": 3
   },
   "file_extension": ".py",
   "mimetype": "text/x-python",
   "name": "python",
   "nbconvert_exporter": "python",
   "pygments_lexer": "ipython3",
   "version": "3.8.14"
  }
 },
 "nbformat": 4,
 "nbformat_minor": 5
}
