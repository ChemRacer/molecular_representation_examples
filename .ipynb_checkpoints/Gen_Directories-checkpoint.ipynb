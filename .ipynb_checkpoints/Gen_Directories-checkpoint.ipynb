{
 "cells": [
  {
   "cell_type": "markdown",
   "metadata": {
    "colab_type": "text",
    "id": "view-in-github"
   },
   "source": [
    "<a href=\"https://colab.research.google.com/github/ChemRacer/molecular_representation_examples/blob/main/Gen_Directories.ipynb\" target=\"_parent\"><img src=\"https://colab.research.google.com/assets/colab-badge.svg\" alt=\"Open In Colab\"/></a>"
   ]
  },
  {
   "cell_type": "code",
   "execution_count": null,
   "metadata": {
    "id": "VpqsyaAgEe15"
   },
   "outputs": [],
   "source": [
    "!pip install kora -q  # my library to help get ID\n",
    "from kora.xattr import get_id\n",
    "import os\n",
    "from google.colab import drive\n",
    "drive.mount('/content/drive')"
   ]
  },
  {
   "cell_type": "code",
   "execution_count": null,
   "metadata": {
    "id": "PNtUhxgY5De1"
   },
   "outputs": [],
   "source": [
    "fullpath='/content/drive/MyDrive/Colab Notebooks/Molecular_representations/molecular_representation_examples'\n",
    "\n",
    "if os.path.exists('/content/drive/MyDrive/Colab Notebooks')==False:\n",
    "    os.mkdir('/content/drive/MyDrive/Colab Notebooks')\n",
    "    \n",
    "if os.path.exists('/content/drive/MyDrive/Colab Notebooks/Molecular_representations')==False:\n",
    "    os.mkdir('/content/drive/MyDrive/Colab Notebooks/Molecular_representations')\n"
   ]
  },
  {
   "cell_type": "code",
   "execution_count": null,
   "metadata": {
    "id": "hnOJ0kt3ErTo"
   },
   "outputs": [],
   "source": [
    "%cd '/content/drive/MyDrive/Colab Notebooks/Molecular_representations/'"
   ]
  },
  {
   "cell_type": "code",
   "execution_count": null,
   "metadata": {
    "id": "MEwlSJEwEk4e"
   },
   "outputs": [],
   "source": [
    "!pwd"
   ]
  },
  {
   "cell_type": "code",
   "execution_count": null,
   "metadata": {
    "id": "6ReE708c8ATl"
   },
   "outputs": [],
   "source": []
  },
  {
   "cell_type": "code",
   "execution_count": null,
   "metadata": {
    "id": "FoBv30T072uT"
   },
   "outputs": [],
   "source": [
    "token=''"
   ]
  },
  {
   "cell_type": "code",
   "execution_count": null,
   "metadata": {
    "id": "Dv7I913UGTEU"
   },
   "outputs": [],
   "source": [
    "!git clone https://{token}@github.com/ChemRacer/molecular_representation_examples.git"
   ]
  },
  {
   "cell_type": "code",
   "execution_count": null,
   "metadata": {
    "id": "r1Ku9HNIGUHe"
   },
   "outputs": [],
   "source": [
    "%cd {fullpath}"
   ]
  },
  {
   "cell_type": "code",
   "execution_count": null,
   "metadata": {
    "id": "WyUOXtpbGt3F"
   },
   "outputs": [],
   "source": [
    "for root, dirs, files in os.walk(os.getcwd()):\n",
    "    for file in files:\n",
    "        if file.endswith('.ipynb') and 'Chapter_' in root and '.ipynb_checkpoints' not in root:\n",
    "            if os.path.exists(os.path.join(root,file)):\n",
    "                print(file.split('.')[0], \"https://colab.research.google.com/drive/\"+get_id(os.path.join(root,file)))"
   ]
  },
  {
   "cell_type": "code",
   "execution_count": null,
   "metadata": {
    "id": "gYtGf8C5w9Vn"
   },
   "outputs": [],
   "source": []
  }
 ],
 "metadata": {
  "colab": {
   "authorship_tag": "ABX9TyOm5J9NbW4yyprw/btpaVcC",
   "include_colab_link": true,
   "private_outputs": true,
   "provenance": []
  },
  "gpuClass": "standard",
  "kernelspec": {
   "display_name": "Python 3 (ipykernel)",
   "language": "python",
   "name": "python3"
  },
  "language_info": {
   "codemirror_mode": {
    "name": "ipython",
    "version": 3
   },
   "file_extension": ".py",
   "mimetype": "text/x-python",
   "name": "python",
   "nbconvert_exporter": "python",
   "pygments_lexer": "ipython3",
   "version": "3.9.13"
  }
 },
 "nbformat": 4,
 "nbformat_minor": 4
}
