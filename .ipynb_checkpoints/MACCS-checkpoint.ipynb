{
 "cells": [
  {
   "cell_type": "code",
   "execution_count": null,
   "id": "cc3cb801-e5d3-493d-95ac-662c2e5bb196",
   "metadata": {},
   "outputs": [],
   "source": [
    "# This example includes examples of the MACCS key\n",
    "# as implemented in RDKit \n",
    "# This is a SMARTS-based implementation of the 166 public MACCS keys \n",
    "# based on https://www.rdkit.org/docs/GettingStartedInPython.html\n",
    "from rdkit.Chem import MACCSkeys\n",
    "from rdkit.Chem import MolFromSmiles\n",
    "# # Glycidol\n",
    "# mol=MolFromSmiles('OC[C@@H]1CO1')\n",
    "# 2-benzyloxirane\n",
    "mol=MolFromSmiles('c1ccc(C[C@@H]2CO2)cc1')\n",
    "\n",
    "# This should show the type of object below\n",
    "print(MACCSkeys.GenMACCSKeys(mol))\n",
    "# Print MACCS key\n",
    "print(f'Length of MACCS key={len(list(MACCSkeys.GenMACCSKeys(mol)))}')\n",
    "print(list(MACCSkeys.GenMACCSKeys(mol)))"
   ]
  },
  {
   "cell_type": "code",
   "execution_count": null,
   "id": "e806ebf7-0986-4108-b938-df7a5f2afcb8",
   "metadata": {},
   "outputs": [],
   "source": []
  }
 ],
 "metadata": {
  "kernelspec": {
   "display_name": "molecular_representation",
   "language": "python",
   "name": "molecular_representation"
  },
  "language_info": {
   "codemirror_mode": {
    "name": "ipython",
    "version": 3
   },
   "file_extension": ".py",
   "mimetype": "text/x-python",
   "name": "python",
   "nbconvert_exporter": "python",
   "pygments_lexer": "ipython3",
   "version": "3.8.14"
  }
 },
 "nbformat": 4,
 "nbformat_minor": 5
}
