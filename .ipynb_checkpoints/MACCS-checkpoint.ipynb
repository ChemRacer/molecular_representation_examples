{
 "cells": [
  {
   "cell_type": "code",
   "execution_count": 2,
   "id": "cc3cb801-e5d3-493d-95ac-662c2e5bb196",
   "metadata": {},
   "outputs": [
    {
     "name": "stdout",
     "output_type": "stream",
     "text": [
      "Length of MACCS key=167\n",
      "00000000000000001000001000000000000000000000000000000000010000000000000010000000001000000111000000000000000001000000000000000000010010000111000000000000110101010000110\n",
      "                Value\n",
      "Key                  \n",
      "16              QAA@1\n",
      "22            3M RING\n",
      "57      O HETEROCYCLE\n",
      "72               OAAO\n",
      "82             ACH2QH\n",
      "89              OAAAO\n",
      "90           QHAACH2A\n",
      "91          QHAAACH2A\n",
      "109             ACH2O\n",
      "129        ACH2AACH2A\n",
      "132            OACH2A\n",
      "137       HETEROCYCLE\n",
      "138  QCH2A > 1 (&...)\n",
      "139                OH\n",
      "152            OC(C)C\n",
      "153             QCH2A\n",
      "155           A!CH2!A\n",
      "157               C-O\n",
      "159             O > 1\n",
      "164                 O\n",
      "165              RING\n"
     ]
    }
   ],
   "source": [
    "# This example includes examples of the MACCS key\n",
    "# as implemented in RDKit \n",
    "# This is a SMARTS-based implementation of the 166 public MACCS keys \n",
    "# based on https://www.rdkit.org/docs/GettingStartedInPython.html\n",
    "import pandas as pd\n",
    "from rdkit.Chem import MACCSkeys\n",
    "from rdkit.Chem import MolFromSmiles\n",
    "# glycidol\n",
    "smi='C1C(O1)CO'\n",
    "# 2-benzyloxirane\n",
    "# smi='c1ccc(C[CH]2CO2)cc1'\n",
    "mol=MolFromSmiles(smi)\n",
    "MACCS=list(MACCSkeys.GenMACCSKeys(mol))\n",
    "# Print MACCS key\n",
    "length=len(list(MACCS))\n",
    "print(f'Length of MACCS key={length}')\n",
    "# Print MACCS as a string of consecutive numbers\n",
    "print(''.join(map(str,list(MACCS))))\n",
    "\n",
    "\n",
    "# Keys from http://www.mayachemtools.org/index.html\n",
    "keys=pd.read_excel('MACCS_keys_example.xlsx').drop(\n",
    "    columns=['Unnamed: 0'])\n",
    "\n",
    "# Find the keys that appear in the fingerprint\n",
    "mol_keys=[idx for idx, i in enumerate(MACCS) if i==1]\n",
    "# Print what the bit corresponds to\n",
    "print(keys.set_index('Key').loc[mol_keys])"
   ]
  },
  {
   "cell_type": "code",
   "execution_count": null,
   "id": "b9284b8b-8dce-4332-8786-b5f9a343a30d",
   "metadata": {},
   "outputs": [],
   "source": [
    "import pandas as pd\n",
    "\n",
    "pd.DataFrame([(idx,keys[idx]) for idx, i in enumerate(MACCS) if i==1],columns=['Key','Value']).to_excel('glycidolMACCS.xlsx')"
   ]
  },
  {
   "cell_type": "code",
   "execution_count": null,
   "id": "57cec0cf-2e56-4175-8439-0f60fcbd505d",
   "metadata": {},
   "outputs": [],
   "source": [
    "mol"
   ]
  },
  {
   "cell_type": "code",
   "execution_count": null,
   "id": "f3dfceaf-b6e8-462e-8f64-c242dad4d9a1",
   "metadata": {},
   "outputs": [],
   "source": [
    "# pd.DataFrame(keys.items(),columns=['Key','Value']).to_excel('MACCS_keys_example.xlsx')"
   ]
  },
  {
   "cell_type": "code",
   "execution_count": null,
   "id": "38816359-6568-4e88-9f5b-305e37ea9157",
   "metadata": {},
   "outputs": [],
   "source": [
    "keys={1:'ISOTOPE', 2:'103 < ATOMIC NO. < 256', \n",
    "      3:'GROUP IVA,VA,VIA PERIODS 4-6 (Ge...)', \n",
    "      4:'ACTINIDE', 5:'GROUP IIIB,IVB (Sc...)', \n",
    "      6:'LANTHANIDE', 7:'GROUP VB,VIB,VIIB (V...)', \n",
    "      8:'QAAA@1', 9:'GROUP VIII (Fe...)', \n",
    "      10:'GROUP IIA (ALKALINE EARTH)', 11:'4M RING', \n",
    "      12:'GROUP IB,IIB (Cu...)', 13:'ON(C)C', 14:'S-S', \n",
    "      15:'OC(O)O', 16:'QAA@1', 17:'CTC', \n",
    "      18:'GROUP IIIA (B...)', 19:'7M RING', 20:'SI', \n",
    "      21:'C=C(Q)Q', 22:'3M RING', 23:'NC(O)O', \n",
    "      24:'N-O', 25:'NC(N)N', 26:'C$=C($A)$A', 27:'I', \n",
    "      28:'QCH2Q', 29:'P', 30:'CQ(C)(C)A', 31:'QX', 32:'CSN', \n",
    "      33:'NS', 34:'CH2=A', 35:'GROUP IA (ALKALI METAL)', \n",
    "      36:'S HETEROCYCLE', 37:'NC(O)N', 38:'NC(C)N', \n",
    "      39:'OS(O)O', 40:'S-O', 41:'CTN', 42:'F', 43:'QHAQH', 44:'OTHER', \n",
    "      45:'C=CN', 46:'BR', 47:'SAN', 48:'OQ(O)O', 49:'CHARGE', 50:'C=C(C)C', 51:'CSO', 52:'NN', \n",
    "      53:'QHAAAQH', 54:'QHAAQH', 55:'OSO', 56:'ON(O)C', 57:'O HETEROCYCLE', 58:'QSQ', 59:'Snot%A%A',\n",
    "      60:'S=O', 61:'AS(A)A', 62:'A$A!A$A', 63:'N=O', 64:'A$A!S', 65:'C%N', 66:'CC(C)(C)A', 67:'QS', \n",
    "      68:'QHQH (&...)', 69:'QQH', 70:'QNQ', 71:'NO', 72:'OAAO', 73:'S=A', 74:'CH3ACH3', 75:'A!N$A', \n",
    "      76:'C=C(A)A', 77:'NAN', 78:'C=N', 79:'NAAN', 80:'NAAAN', 81:'SA(A)A', 82:'ACH2QH', 83:'QAAAA@1', \n",
    "      84:'NH2', 85:'CN(C)C', 86:'CH2QCH2', 87:'X!A$A', 88:'S', 89:'OAAAO', 90:'QHAACH2A', 91:'QHAAACH2A', \n",
    "      92:'OC(N)C', 93:'QCH3', 94:'QN', 95:'NAAO', 96:'5M RING', 97:'NAAAO', 98:'QAAAAA@1', 99:'C=C', \n",
    "      100:'ACH2N', 101:'8M RING', 102:'QO', 103:'CL', 104:'QHACH2A', 105:'A$A($A)$A', 106:'QA(Q)Q', \n",
    "      107:'XA(A)A', 108:'CH3AAACH2A', 109:'ACH2O', 110:'NCO', 111:'NACH2A', 112:'AA(A)(A)A', 113:'Onot%A%A',\n",
    "      114:'CH3CH2A', 115:'CH3ACH2A', 116:'CH3AACH2A', 117:'NAO', 118:'ACH2CH2A > 1', 119:'N=A', \n",
    "      120:'HETEROCYCLIC ATOM > 1 (&...)', 121:'N HETEROCYCLE', 122:'AN(A)A', 123:'OCO', 124:'QQ', \n",
    "      125:'AROMATIC RING > 1', 126:'A!O!A', 127:'A$A!O > 1 (&...)', 128:'ACH2AAACH2A', 129:'ACH2AACH2A', \n",
    "      130:'QQ > 1 (&...)', 131:'QH > 1', 132:'OACH2A', 133:'A$A!N', 134:'X (HALOGEN)', 135:'Nnot%A%A', \n",
    "      136:'O=A > 1', 137:'HETEROCYCLE', 138:'QCH2A > 1 (&...)', 139:'OH', 140:'O > 3 (&...)', 141:'CH3 > 2 (&...)', \n",
    "      142:'N > 1', 143:'A$A!O', 144:'Anot%A%Anot%A', 145:'6M RING > 1', 146:'O > 2', 147:'ACH2CH2A', 148:'AQ(A)A',\n",
    "      149:'CH3 > 1', 150:'A!A$A!A', 151:'NH', 152:'OC(C)C', 153:'QCH2A', 154:'C=O', 155:'A!CH2!A', 156:'NA(A)A', \n",
    "      157:'C-O', 158:'C-N', 159:'O > 1', 160:'CH3', 161:'N', 162:'AROMATIC', 163:'6M RING', 164:'O', \n",
    "      165:'RING', 166:'FRAGMENTS'}\n"
   ]
  }
 ],
 "metadata": {
  "kernelspec": {
   "display_name": "molecular_representation",
   "language": "python",
   "name": "molecular_representation"
  },
  "language_info": {
   "codemirror_mode": {
    "name": "ipython",
    "version": 3
   },
   "file_extension": ".py",
   "mimetype": "text/x-python",
   "name": "python",
   "nbconvert_exporter": "python",
   "pygments_lexer": "ipython3",
   "version": "3.8.14"
  }
 },
 "nbformat": 4,
 "nbformat_minor": 5
}
