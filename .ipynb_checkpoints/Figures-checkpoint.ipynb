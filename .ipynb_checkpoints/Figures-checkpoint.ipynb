{
 "cells": [
  {
   "cell_type": "code",
   "execution_count": 1,
   "id": "b867d41f-e744-42fc-bc26-fcbe30d84964",
   "metadata": {},
   "outputs": [
    {
     "name": "stdout",
     "output_type": "stream",
     "text": [
      "<rdkit.Chem.rdchem.Mol object at 0x10780fc40>\n"
     ]
    }
   ],
   "source": [
    "# This example includes examples of the Morgan and MACCS fingerprints \n",
    "# as implemented in RDKit along with SMARTS, SMILES, and InCHI using \n",
    "# ChemML\n",
    "import sys\n",
    "# !{sys.executable} -m pip install rdkit #chemml\n",
    "# Import the required classes from the chem module in ChemML\n",
    "# from chemml.chem import Molecule, RDKitFingerprint\n",
    "import rdkit.Chem.rdmolfiles as rdmol\n",
    "from rdkit import Chem\n",
    "from rdkit.Chem.Draw import rdMolDraw2D\n",
    "\n",
    "\n",
    "# Generate a mol object from our example xyz coordinates\n",
    "mol = rdmol.MolFromXYZFile('2-benzyloxirane.xyz')\n",
    "# mol = Molecule('glycidol.xyz', 'xyz')\n",
    "\n",
    "# Print the original mol object\n",
    "print(mol)\n",
    "\n",
    "# # Generate SMILES, SMARTS, and InChi\n",
    "# mol.to_smiles()\n",
    "# mol.to_smarts()\n",
    "# mol.to_inchi()\n",
    "\n",
    "# # Print the updated mol object\n",
    "\n",
    "# # Print InChi\n",
    "# print(mol.inchi)\n",
    "\n",
    "# # Print SMARTS\n",
    "# print(mol.smarts)\n",
    "\n",
    "# # Print SMILES\n",
    "# print(mol.smiles)\n"
   ]
  },
  {
   "cell_type": "code",
   "execution_count": 2,
   "id": "eac8c881-f617-4fd9-962a-1590a7a6b3e8",
   "metadata": {},
   "outputs": [
    {
     "data": {
      "text/plain": [
       "'C.C.C.C.C.C.C.C.C.O.[HH].[HH].[HH].[HH].[HH].[HH].[HH].[HH].[HH].[HH]'"
      ]
     },
     "execution_count": 2,
     "metadata": {},
     "output_type": "execute_result"
    }
   ],
   "source": [
    "rdmol.MolToSmiles(mol)"
   ]
  },
  {
   "cell_type": "code",
   "execution_count": 3,
   "id": "3ab22062-6339-4515-8ce7-0f6dab818c53",
   "metadata": {},
   "outputs": [
    {
     "data": {
      "text/plain": [
       "'[#6].[#6].[#8].[#6].[#6].[#6].[#6].[#6].[#6].[#6].[H].[H].[H].[H].[H].[H].[H].[H].[H].[H]'"
      ]
     },
     "execution_count": 3,
     "metadata": {},
     "output_type": "execute_result"
    }
   ],
   "source": [
    "rdmol.MolToSmarts(mol)"
   ]
  },
  {
   "cell_type": "code",
   "execution_count": 11,
   "id": "28d0cfb2-1ef0-472c-8e0d-bc98f475f97c",
   "metadata": {},
   "outputs": [],
   "source": [
    "mol=Chem.MolFromSmiles('c1ccc(C[C@@H]2CO2)cc1')\n",
    "patt = Chem.MolFromSmarts('C[C@@H]2CO2')\n",
    "\n",
    "hit_ats = list(mol.GetSubstructMatch(patt))\n",
    "hit_bonds = []\n",
    "for bond in patt.GetBonds():\n",
    "    aid1 = hit_ats[bond.GetBeginAtomIdx()]\n",
    "    aid2 = hit_ats[bond.GetEndAtomIdx()]\n",
    "    hit_bonds.append(mol.GetBondBetweenAtoms(aid1,aid2).GetIdx())\n",
    "d = rdMolDraw2D.MolDraw2DSVG(500, 500) # or MolDraw2DCairo to get PNGs\n",
    "rdMolDraw2D.PrepareAndDrawMolecule(d, mol, highlightAtoms=hit_ats,highlightBonds=hit_bonds)\n",
    "\n"
   ]
  },
  {
   "cell_type": "code",
   "execution_count": 12,
   "id": "fca76ba3-19f7-414c-8a23-c9f822e66fde",
   "metadata": {},
   "outputs": [
    {
     "data": {
      "image/png": "[encoded data removed]",
      "text/plain": [
       "<rdkit.Chem.rdchem.Mol at 0x12655fb20>"
      ]
     },
     "execution_count": 12,
     "metadata": {},
     "output_type": "execute_result"
    }
   ],
   "source": [
    "mol"
   ]
  },
  {
   "cell_type": "code",
   "execution_count": null,
   "id": "f1965589-5b7a-488f-9a66-16f3d388604c",
   "metadata": {},
   "outputs": [],
   "source": [
    "dir(rdMolDraw2D)"
   ]
  },
  {
   "cell_type": "code",
   "execution_count": null,
   "id": "a8958c3b-dcb0-4235-9692-e37ef629c604",
   "metadata": {},
   "outputs": [],
   "source": [
    "dir(rdMolDraw2D.PrepareAndDrawMolecule)"
   ]
  },
  {
   "cell_type": "code",
   "execution_count": null,
   "id": "62a0f8f2-a2fe-443f-97f3-449d37330a34",
   "metadata": {},
   "outputs": [],
   "source": []
  }
 ],
 "metadata": {
  "kernelspec": {
   "display_name": "Python 3 (ipykernel)",
   "language": "python",
   "name": "python3"
  },
  "language_info": {
   "codemirror_mode": {
    "name": "ipython",
    "version": 3
   },
   "file_extension": ".py",
   "mimetype": "text/x-python",
   "name": "python",
   "nbconvert_exporter": "python",
   "pygments_lexer": "ipython3",
   "version": "3.9.13"
  }
 },
 "nbformat": 4,
 "nbformat_minor": 5
}
