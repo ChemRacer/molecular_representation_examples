{
 "cells": [
  {
   "cell_type": "code",
   "execution_count": 15,
   "id": "cc3cb801-e5d3-493d-95ac-662c2e5bb196",
   "metadata": {},
   "outputs": [
    {
     "name": "stdout",
     "output_type": "stream",
     "text": [
      "[#6]1:[#6]:[#6]:[#6](-[#6]-[#6@@H]2-[#6]-[#8]-2):[#6]:[#6]:1 c1ccc(C[C@@H]2CO2)cc1\n"
     ]
    }
   ],
   "source": [
    "# This example includes examples of SMARTS and SMILES\n",
    "# ChemML\n",
    "# Import the required classes from the chem module in ChemML\n",
    "from rdkit.Chem import MolFromSmiles, MolToSmarts, MolToSmiles\n",
    "\n",
    "# Glycidol\n",
    "# mol=MolFromSmiles('OC[C@@H]1CO1')\n",
    "# 2-benzyloxirane\n",
    "mol=MolFromSmiles('c1ccc(C[C@@H]2CO2)cc1')\n",
    "# Generate a mol object from our example xyz coordinates\n",
    "\n",
    "print(MolToSmarts(mol))\n",
    "print(MolToSmiles(mol))"
   ]
  },
  {
   "cell_type": "code",
   "execution_count": 12,
   "id": "b06835b6-bd4a-41ea-9eca-79b9eadfaf58",
   "metadata": {},
   "outputs": [
    {
     "data": {
      "text/plain": [
       "'[#6]1:[#6]:[#6]:[#6](-[#6]-[#6@@H]2-[#6]-[#8]-2):[#6]:[#6]:1'"
      ]
     },
     "execution_count": 12,
     "metadata": {},
     "output_type": "execute_result"
    }
   ],
   "source": []
  },
  {
   "cell_type": "code",
   "execution_count": 13,
   "id": "36334d07-7665-49db-af07-e1b867bde1e2",
   "metadata": {},
   "outputs": [
    {
     "data": {
      "text/plain": [
       "'c1ccc(C[C@@H]2CO2)cc1'"
      ]
     },
     "execution_count": 13,
     "metadata": {},
     "output_type": "execute_result"
    }
   ],
   "source": []
  },
  {
   "cell_type": "code",
   "execution_count": null,
   "id": "45597ad1-d93b-43b2-8c7a-7a7d8c4315b4",
   "metadata": {},
   "outputs": [],
   "source": []
  }
 ],
 "metadata": {
  "kernelspec": {
   "display_name": "molecular_representation",
   "language": "python",
   "name": "molecular_representation"
  },
  "language_info": {
   "codemirror_mode": {
    "name": "ipython",
    "version": 3
   },
   "file_extension": ".py",
   "mimetype": "text/x-python",
   "name": "python",
   "nbconvert_exporter": "python",
   "pygments_lexer": "ipython3",
   "version": "3.8.14"
  }
 },
 "nbformat": 4,
 "nbformat_minor": 5
}
