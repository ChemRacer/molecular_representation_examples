{
 "cells": [
  {
   "cell_type": "code",
   "execution_count": 1,
   "id": "cc3cb801-e5d3-493d-95ac-662c2e5bb196",
   "metadata": {},
   "outputs": [
    {
     "name": "stdout",
     "output_type": "stream",
     "text": [
      "InChI=1S/C9H10O/c1-2-4-8(5-3-1)6-9-7-10-9/h1-5,9H,6-7H2\n",
      "JFDMLXYWGLECEY-UHFFFAOYSA-N\n"
     ]
    },
    {
     "name": "stderr",
     "output_type": "stream",
     "text": [
      "[16:24:23] WARNING: Omitted undefined stereo\n",
      "\n",
      "[16:24:23] WARNING: Omitted undefined stereo\n",
      "\n"
     ]
    }
   ],
   "source": [
    "# This is an example of InChI and InChI key as implemented in RDKit\n",
    "# For more information check:\n",
    "# https://www.rdkit.org/docs/GettingStartedInPython.html\n",
    "from rdkit import Chem\n",
    "from rdkit.Chem import AllChem\n",
    "from rdkit.Chem import MolFromSmiles,InchiToInchiKey,MolToInchi\n",
    "from rdkit.Chem import Draw\n",
    "from rdkit.Chem.Draw import rdMolDraw2D\n",
    "# Glycidol\n",
    "# smi='C1C(O1)CO'\n",
    "# 2-benzyloxirane\n",
    "smi='c1ccc(C[CH]2CO2)cc1'\n",
    "mol=MolFromSmiles(smi)\n",
    "# RDKit mol object to InChI\n",
    "print(MolToInchi(mol))\n",
    "# InChI to InChIKey\n",
    "print(InchiToInchiKey(MolToInchi(mol)))"
   ]
  },
  {
   "cell_type": "code",
   "execution_count": 2,
   "id": "f97d64f7-213e-4d2c-85e4-45d72974b7ce",
   "metadata": {},
   "outputs": [],
   "source": [
    "d = rdMolDraw2D.MolDraw2DCairo(500, 500) # or MolDraw2DCairo to get PNGs\n",
    "# Iterate over the atoms\n",
    "for atom in mol.GetAtoms():\n",
    "    # For each atom, set the property \"atomNote\" to a index+1 of the atom\n",
    "    atom.SetProp(\"atomNote\", str(atom.GetIdx()+1))\n",
    "d.drawOptions().addStereoAnnotation = True\n",
    "# d.drawOptions().addAtomIndices = True\n",
    "# d.DrawMolecule(mol)\n",
    "d.FinishDrawing()\n",
    "rdMolDraw2D.PrepareAndDrawMolecule(d, mol)\n",
    "# d.WriteDrawingText('atom_annotation_1.png')   \n",
    "d.WriteDrawingText(f'annotated_{smi}_rdkit.png')   \n"
   ]
  },
  {
   "cell_type": "code",
   "execution_count": null,
   "id": "23b9f43c-b3d1-4f8c-82e7-7a26767703e7",
   "metadata": {},
   "outputs": [],
   "source": []
  },
  {
   "cell_type": "code",
   "execution_count": null,
   "id": "6474348a-a688-4274-a1d0-560c5526a59a",
   "metadata": {},
   "outputs": [],
   "source": []
  }
 ],
 "metadata": {
  "kernelspec": {
   "display_name": "Python 3 (ipykernel)",
   "language": "python",
   "name": "python3"
  },
  "language_info": {
   "codemirror_mode": {
    "name": "ipython",
    "version": 3
   },
   "file_extension": ".py",
   "mimetype": "text/x-python",
   "name": "python",
   "nbconvert_exporter": "python",
   "pygments_lexer": "ipython3",
   "version": "3.9.13"
  }
 },
 "nbformat": 4,
 "nbformat_minor": 5
}
