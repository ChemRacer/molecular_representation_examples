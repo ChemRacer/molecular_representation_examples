{
 "cells": [
  {
   "cell_type": "code",
   "execution_count": 1,
   "id": "cc3cb801-e5d3-493d-95ac-662c2e5bb196",
   "metadata": {},
   "outputs": [
    {
     "name": "stdout",
     "output_type": "stream",
     "text": [
      "InChI=1S/C9H10O/c1-2-4-8(5-3-1)6-9-7-10-9/h1-5,9H,6-7H2/t9-/m1/s1\n",
      "JFDMLXYWGLECEY-SECBINFHSA-N\n"
     ]
    }
   ],
   "source": [
    "# This is an example of InChI and InChI key as implemented in RDKit\n",
    "# For more information check:\n",
    "# https://www.rdkit.org/docs/GettingStartedInPython.html\n",
    "from rdkit import Chem\n",
    "from rdkit.Chem import AllChem\n",
    "from rdkit.Chem import MolFromSmiles,InchiToInchiKey,MolToInchi\n",
    "# Glycidol\n",
    "# mol=MolFromSmiles('OC[C@@H]1CO1')\n",
    "# 2-benzyloxirane\n",
    "mol=MolFromSmiles('c1ccc(C[C@@H]2CO2)cc1')\n",
    "# RDKit mol object to InChI\n",
    "print(MolToInchi(mol))\n",
    "# InChI to InChIKey\n",
    "print(InchiToInchiKey(MolToInchi(mol)))"
   ]
  },
  {
   "cell_type": "code",
   "execution_count": null,
   "id": "e0c7d0b0-4708-4b5a-9271-6fabab5b804d",
   "metadata": {},
   "outputs": [],
   "source": []
  }
 ],
 "metadata": {
  "kernelspec": {
   "display_name": "Python 3 (ipykernel)",
   "language": "python",
   "name": "python3"
  },
  "language_info": {
   "codemirror_mode": {
    "name": "ipython",
    "version": 3
   },
   "file_extension": ".py",
   "mimetype": "text/x-python",
   "name": "python",
   "nbconvert_exporter": "python",
   "pygments_lexer": "ipython3",
   "version": "3.10.8"
  }
 },
 "nbformat": 4,
 "nbformat_minor": 5
}
