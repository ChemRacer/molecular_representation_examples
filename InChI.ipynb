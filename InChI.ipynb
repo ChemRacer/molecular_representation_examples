{
 "cells": [
  {
   "cell_type": "code",
   "execution_count": null,
   "id": "cc3cb801-e5d3-493d-95ac-662c2e5bb196",
   "metadata": {},
   "outputs": [],
   "source": [
    "# This is an example of InChI and InChI key as implemented in RDKit\n",
    "# For more information check:\n",
    "# https://www.rdkit.org/docs/GettingStartedInPython.html\n",
    "from rdkit import Chem\n",
    "from rdkit.Chem import AllChem\n",
    "from rdkit.Chem import MolFromSmiles,InchiToInchiKey,MolToInchi\n",
    "# Glycidol\n",
    "# smi='C1C(O1)CO'\n",
    "# 2-benzyloxirane\n",
    "smi='c1ccc(C[CH]2CO2)cc1'\n",
    "mol=MolFromSmiles(smi)\n",
    "# RDKit mol object to InChI\n",
    "print(MolToInchi(mol))\n",
    "# InChI to InChIKey\n",
    "print(InchiToInchiKey(MolToInchi(mol)))"
   ]
  },
  {
   "cell_type": "code",
   "execution_count": null,
   "id": "f97d64f7-213e-4d2c-85e4-45d72974b7ce",
   "metadata": {},
   "outputs": [],
   "source": []
  }
 ],
 "metadata": {
  "kernelspec": {
   "display_name": "Python 3 (ipykernel)",
   "language": "python",
   "name": "python3"
  },
  "language_info": {
   "codemirror_mode": {
    "name": "ipython",
    "version": 3
   },
   "file_extension": ".py",
   "mimetype": "text/x-python",
   "name": "python",
   "nbconvert_exporter": "python",
   "pygments_lexer": "ipython3",
   "version": "3.8.14"
  }
 },
 "nbformat": 4,
 "nbformat_minor": 5
}
